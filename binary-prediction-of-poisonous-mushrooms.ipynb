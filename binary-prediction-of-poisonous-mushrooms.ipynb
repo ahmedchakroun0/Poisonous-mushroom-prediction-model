{
 "cells": [
  {
   "cell_type": "code",
   "execution_count": 1,
   "id": "23f524f2",
   "metadata": {
    "_cell_guid": "b1076dfc-b9ad-4769-8c92-a6c4dae69d19",
    "_uuid": "8f2839f25d086af736a60e9eeb907d3b93b6e0e5",
    "execution": {
     "iopub.execute_input": "2024-08-14T22:00:05.249414Z",
     "iopub.status.busy": "2024-08-14T22:00:05.249004Z",
     "iopub.status.idle": "2024-08-14T22:00:09.598340Z",
     "shell.execute_reply": "2024-08-14T22:00:09.597392Z"
    },
    "papermill": {
     "duration": 4.375636,
     "end_time": "2024-08-14T22:00:09.600954",
     "exception": false,
     "start_time": "2024-08-14T22:00:05.225318",
     "status": "completed"
    },
    "tags": []
   },
   "outputs": [],
   "source": [
    "\n",
    "import numpy as np \n",
    "import pandas as pd \n",
    "import seaborn as sns\n",
    "import matplotlib.pyplot as plt\n",
    "import lightgbm as lgb\n",
    "import warnings\n",
    "\n",
    "from sklearn.pipeline import Pipeline\n",
    "from sklearn.impute import SimpleImputer,KNNImputer\n",
    "from sklearn.preprocessing import QuantileTransformer, OrdinalEncoder\n",
    "from sklearn.compose import ColumnTransformer\n",
    "from sklearn.preprocessing import LabelEncoder\n",
    "from sklearn.metrics import matthews_corrcoef\n",
    "\n",
    "from sklearn.model_selection import train_test_split, GridSearchCV,StratifiedShuffleSplit\n",
    "from xgboost import XGBClassifier\n",
    "import optuna\n",
    "\n",
    "pd.set_option('display.max_columns', None)\n",
    "pd.set_option('display.width', 500)\n",
    "warnings.filterwarnings('ignore')\n",
    "\n",
    "\n",
    "\n"
   ]
  },
  {
   "cell_type": "code",
   "execution_count": 2,
   "id": "12543f9b",
   "metadata": {
    "execution": {
     "iopub.execute_input": "2024-08-14T22:00:09.647321Z",
     "iopub.status.busy": "2024-08-14T22:00:09.646105Z",
     "iopub.status.idle": "2024-08-14T22:00:35.382292Z",
     "shell.execute_reply": "2024-08-14T22:00:35.381034Z"
    },
    "papermill": {
     "duration": 25.761738,
     "end_time": "2024-08-14T22:00:35.385145",
     "exception": false,
     "start_time": "2024-08-14T22:00:09.623407",
     "status": "completed"
    },
    "tags": []
   },
   "outputs": [],
   "source": [
    "train=pd.read_csv('/kaggle/input/playground-series-s4e8/train.csv')\n",
    "test = pd.read_csv('/kaggle/input/playground-series-s4e8/test.csv')\n",
    "train['dataset'] = 'train'\n",
    "test['dataset'] = 'test'\n",
    "sample_sub = pd.read_csv(\"/kaggle/input/playground-series-s4e8/sample_submission.csv\")\n",
    "\n",
    "df_ = pd.concat([train, test], sort=False)\n",
    "df=df_.copy()"
   ]
  },
  {
   "cell_type": "code",
   "execution_count": 3,
   "id": "8e512382",
   "metadata": {
    "execution": {
     "iopub.execute_input": "2024-08-14T22:00:35.431425Z",
     "iopub.status.busy": "2024-08-14T22:00:35.430703Z",
     "iopub.status.idle": "2024-08-14T22:00:35.438571Z",
     "shell.execute_reply": "2024-08-14T22:00:35.437487Z"
    },
    "papermill": {
     "duration": 0.033463,
     "end_time": "2024-08-14T22:00:35.441211",
     "exception": false,
     "start_time": "2024-08-14T22:00:35.407748",
     "status": "completed"
    },
    "tags": []
   },
   "outputs": [
    {
     "data": {
      "text/plain": [
       "(3116945, 23)"
      ]
     },
     "execution_count": 3,
     "metadata": {},
     "output_type": "execute_result"
    }
   ],
   "source": [
    "train.shape"
   ]
  },
  {
   "cell_type": "code",
   "execution_count": 4,
   "id": "6398777f",
   "metadata": {
    "execution": {
     "iopub.execute_input": "2024-08-14T22:00:35.487737Z",
     "iopub.status.busy": "2024-08-14T22:00:35.486763Z",
     "iopub.status.idle": "2024-08-14T22:00:35.494270Z",
     "shell.execute_reply": "2024-08-14T22:00:35.493214Z"
    },
    "papermill": {
     "duration": 0.033559,
     "end_time": "2024-08-14T22:00:35.496690",
     "exception": false,
     "start_time": "2024-08-14T22:00:35.463131",
     "status": "completed"
    },
    "tags": []
   },
   "outputs": [
    {
     "data": {
      "text/plain": [
       "Index(['id', 'class', 'cap-diameter', 'cap-shape', 'cap-surface', 'cap-color', 'does-bruise-or-bleed', 'gill-attachment', 'gill-spacing', 'gill-color', 'stem-height', 'stem-width', 'stem-root', 'stem-surface', 'stem-color', 'veil-type', 'veil-color', 'has-ring', 'ring-type', 'spore-print-color', 'habitat', 'season', 'dataset'], dtype='object')"
      ]
     },
     "execution_count": 4,
     "metadata": {},
     "output_type": "execute_result"
    }
   ],
   "source": [
    "df.columns"
   ]
  },
  {
   "cell_type": "code",
   "execution_count": 5,
   "id": "164d9017",
   "metadata": {
    "execution": {
     "iopub.execute_input": "2024-08-14T22:00:35.541901Z",
     "iopub.status.busy": "2024-08-14T22:00:35.541483Z",
     "iopub.status.idle": "2024-08-14T22:00:35.572009Z",
     "shell.execute_reply": "2024-08-14T22:00:35.570946Z"
    },
    "papermill": {
     "duration": 0.05621,
     "end_time": "2024-08-14T22:00:35.574509",
     "exception": false,
     "start_time": "2024-08-14T22:00:35.518299",
     "status": "completed"
    },
    "tags": []
   },
   "outputs": [
    {
     "data": {
      "text/html": [
       "<div>\n",
       "<style scoped>\n",
       "    .dataframe tbody tr th:only-of-type {\n",
       "        vertical-align: middle;\n",
       "    }\n",
       "\n",
       "    .dataframe tbody tr th {\n",
       "        vertical-align: top;\n",
       "    }\n",
       "\n",
       "    .dataframe thead th {\n",
       "        text-align: right;\n",
       "    }\n",
       "</style>\n",
       "<table border=\"1\" class=\"dataframe\">\n",
       "  <thead>\n",
       "    <tr style=\"text-align: right;\">\n",
       "      <th></th>\n",
       "      <th>id</th>\n",
       "      <th>class</th>\n",
       "      <th>cap-diameter</th>\n",
       "      <th>cap-shape</th>\n",
       "      <th>cap-surface</th>\n",
       "      <th>cap-color</th>\n",
       "      <th>does-bruise-or-bleed</th>\n",
       "      <th>gill-attachment</th>\n",
       "      <th>gill-spacing</th>\n",
       "      <th>gill-color</th>\n",
       "      <th>stem-height</th>\n",
       "      <th>stem-width</th>\n",
       "      <th>stem-root</th>\n",
       "      <th>stem-surface</th>\n",
       "      <th>stem-color</th>\n",
       "      <th>veil-type</th>\n",
       "      <th>veil-color</th>\n",
       "      <th>has-ring</th>\n",
       "      <th>ring-type</th>\n",
       "      <th>spore-print-color</th>\n",
       "      <th>habitat</th>\n",
       "      <th>season</th>\n",
       "      <th>dataset</th>\n",
       "    </tr>\n",
       "  </thead>\n",
       "  <tbody>\n",
       "    <tr>\n",
       "      <th>0</th>\n",
       "      <td>0</td>\n",
       "      <td>e</td>\n",
       "      <td>8.80</td>\n",
       "      <td>f</td>\n",
       "      <td>s</td>\n",
       "      <td>u</td>\n",
       "      <td>f</td>\n",
       "      <td>a</td>\n",
       "      <td>c</td>\n",
       "      <td>w</td>\n",
       "      <td>4.51</td>\n",
       "      <td>15.39</td>\n",
       "      <td>NaN</td>\n",
       "      <td>NaN</td>\n",
       "      <td>w</td>\n",
       "      <td>NaN</td>\n",
       "      <td>NaN</td>\n",
       "      <td>f</td>\n",
       "      <td>f</td>\n",
       "      <td>NaN</td>\n",
       "      <td>d</td>\n",
       "      <td>a</td>\n",
       "      <td>train</td>\n",
       "    </tr>\n",
       "    <tr>\n",
       "      <th>1</th>\n",
       "      <td>1</td>\n",
       "      <td>p</td>\n",
       "      <td>4.51</td>\n",
       "      <td>x</td>\n",
       "      <td>h</td>\n",
       "      <td>o</td>\n",
       "      <td>f</td>\n",
       "      <td>a</td>\n",
       "      <td>c</td>\n",
       "      <td>n</td>\n",
       "      <td>4.79</td>\n",
       "      <td>6.48</td>\n",
       "      <td>NaN</td>\n",
       "      <td>y</td>\n",
       "      <td>o</td>\n",
       "      <td>NaN</td>\n",
       "      <td>NaN</td>\n",
       "      <td>t</td>\n",
       "      <td>z</td>\n",
       "      <td>NaN</td>\n",
       "      <td>d</td>\n",
       "      <td>w</td>\n",
       "      <td>train</td>\n",
       "    </tr>\n",
       "    <tr>\n",
       "      <th>2</th>\n",
       "      <td>2</td>\n",
       "      <td>e</td>\n",
       "      <td>6.94</td>\n",
       "      <td>f</td>\n",
       "      <td>s</td>\n",
       "      <td>b</td>\n",
       "      <td>f</td>\n",
       "      <td>x</td>\n",
       "      <td>c</td>\n",
       "      <td>w</td>\n",
       "      <td>6.85</td>\n",
       "      <td>9.93</td>\n",
       "      <td>NaN</td>\n",
       "      <td>s</td>\n",
       "      <td>n</td>\n",
       "      <td>NaN</td>\n",
       "      <td>NaN</td>\n",
       "      <td>f</td>\n",
       "      <td>f</td>\n",
       "      <td>NaN</td>\n",
       "      <td>l</td>\n",
       "      <td>w</td>\n",
       "      <td>train</td>\n",
       "    </tr>\n",
       "    <tr>\n",
       "      <th>3</th>\n",
       "      <td>3</td>\n",
       "      <td>e</td>\n",
       "      <td>3.88</td>\n",
       "      <td>f</td>\n",
       "      <td>y</td>\n",
       "      <td>g</td>\n",
       "      <td>f</td>\n",
       "      <td>s</td>\n",
       "      <td>NaN</td>\n",
       "      <td>g</td>\n",
       "      <td>4.16</td>\n",
       "      <td>6.53</td>\n",
       "      <td>NaN</td>\n",
       "      <td>NaN</td>\n",
       "      <td>w</td>\n",
       "      <td>NaN</td>\n",
       "      <td>NaN</td>\n",
       "      <td>f</td>\n",
       "      <td>f</td>\n",
       "      <td>NaN</td>\n",
       "      <td>d</td>\n",
       "      <td>u</td>\n",
       "      <td>train</td>\n",
       "    </tr>\n",
       "    <tr>\n",
       "      <th>4</th>\n",
       "      <td>4</td>\n",
       "      <td>e</td>\n",
       "      <td>5.85</td>\n",
       "      <td>x</td>\n",
       "      <td>l</td>\n",
       "      <td>w</td>\n",
       "      <td>f</td>\n",
       "      <td>d</td>\n",
       "      <td>NaN</td>\n",
       "      <td>w</td>\n",
       "      <td>3.37</td>\n",
       "      <td>8.36</td>\n",
       "      <td>NaN</td>\n",
       "      <td>NaN</td>\n",
       "      <td>w</td>\n",
       "      <td>NaN</td>\n",
       "      <td>NaN</td>\n",
       "      <td>f</td>\n",
       "      <td>f</td>\n",
       "      <td>NaN</td>\n",
       "      <td>g</td>\n",
       "      <td>a</td>\n",
       "      <td>train</td>\n",
       "    </tr>\n",
       "  </tbody>\n",
       "</table>\n",
       "</div>"
      ],
      "text/plain": [
       "   id class  cap-diameter cap-shape cap-surface cap-color does-bruise-or-bleed gill-attachment gill-spacing gill-color  stem-height  stem-width stem-root stem-surface stem-color veil-type veil-color has-ring ring-type spore-print-color habitat season dataset\n",
       "0   0     e          8.80         f           s         u                    f               a            c          w         4.51       15.39       NaN          NaN          w       NaN        NaN        f         f               NaN       d      a   train\n",
       "1   1     p          4.51         x           h         o                    f               a            c          n         4.79        6.48       NaN            y          o       NaN        NaN        t         z               NaN       d      w   train\n",
       "2   2     e          6.94         f           s         b                    f               x            c          w         6.85        9.93       NaN            s          n       NaN        NaN        f         f               NaN       l      w   train\n",
       "3   3     e          3.88         f           y         g                    f               s          NaN          g         4.16        6.53       NaN          NaN          w       NaN        NaN        f         f               NaN       d      u   train\n",
       "4   4     e          5.85         x           l         w                    f               d          NaN          w         3.37        8.36       NaN          NaN          w       NaN        NaN        f         f               NaN       g      a   train"
      ]
     },
     "execution_count": 5,
     "metadata": {},
     "output_type": "execute_result"
    }
   ],
   "source": [
    "df.head()"
   ]
  },
  {
   "cell_type": "code",
   "execution_count": 6,
   "id": "c3d2d7c6",
   "metadata": {
    "execution": {
     "iopub.execute_input": "2024-08-14T22:00:35.621868Z",
     "iopub.status.busy": "2024-08-14T22:00:35.621443Z",
     "iopub.status.idle": "2024-08-14T22:00:36.289614Z",
     "shell.execute_reply": "2024-08-14T22:00:36.288437Z"
    },
    "papermill": {
     "duration": 0.697772,
     "end_time": "2024-08-14T22:00:36.294382",
     "exception": false,
     "start_time": "2024-08-14T22:00:35.596610",
     "status": "completed"
    },
    "tags": []
   },
   "outputs": [
    {
     "data": {
      "image/png": "[encoded data removed]",
      "text/plain": [
       "<Figure size 800x600 with 1 Axes>"
      ]
     },
     "metadata": {},
     "output_type": "display_data"
    }
   ],
   "source": [
    "value_counts = df['class'].value_counts()\n",
    "percentages = 100 * value_counts / len(df)\n",
    "\n",
    "plt.figure(figsize=(8, 6))\n",
    "plt.pie(percentages, labels=percentages.index, autopct='%1.1f%%', startangle=140)\n",
    "plt.title('Distribution of Target')\n",
    "plt.show()"
   ]
  },
  {
   "cell_type": "code",
   "execution_count": 7,
   "id": "d7746504",
   "metadata": {
    "execution": {
     "iopub.execute_input": "2024-08-14T22:00:36.378513Z",
     "iopub.status.busy": "2024-08-14T22:00:36.378099Z",
     "iopub.status.idle": "2024-08-14T22:00:39.067351Z",
     "shell.execute_reply": "2024-08-14T22:00:39.066338Z"
    },
    "papermill": {
     "duration": 2.728495,
     "end_time": "2024-08-14T22:00:39.070121",
     "exception": false,
     "start_time": "2024-08-14T22:00:36.341626",
     "status": "completed"
    },
    "tags": []
   },
   "outputs": [],
   "source": [
    "df['class'] = df['class'].replace({'e': 0, 'p': 1 })"
   ]
  },
  {
   "cell_type": "code",
   "execution_count": 8,
   "id": "355cfe3f",
   "metadata": {
    "execution": {
     "iopub.execute_input": "2024-08-14T22:00:39.117149Z",
     "iopub.status.busy": "2024-08-14T22:00:39.116756Z",
     "iopub.status.idle": "2024-08-14T22:00:39.150225Z",
     "shell.execute_reply": "2024-08-14T22:00:39.149119Z"
    },
    "papermill": {
     "duration": 0.059929,
     "end_time": "2024-08-14T22:00:39.152835",
     "exception": false,
     "start_time": "2024-08-14T22:00:39.092906",
     "status": "completed"
    },
    "tags": []
   },
   "outputs": [
    {
     "data": {
      "text/html": [
       "<div>\n",
       "<style scoped>\n",
       "    .dataframe tbody tr th:only-of-type {\n",
       "        vertical-align: middle;\n",
       "    }\n",
       "\n",
       "    .dataframe tbody tr th {\n",
       "        vertical-align: top;\n",
       "    }\n",
       "\n",
       "    .dataframe thead th {\n",
       "        text-align: right;\n",
       "    }\n",
       "</style>\n",
       "<table border=\"1\" class=\"dataframe\">\n",
       "  <thead>\n",
       "    <tr style=\"text-align: right;\">\n",
       "      <th></th>\n",
       "      <th>id</th>\n",
       "      <th>class</th>\n",
       "      <th>cap-diameter</th>\n",
       "      <th>cap-shape</th>\n",
       "      <th>cap-surface</th>\n",
       "      <th>cap-color</th>\n",
       "      <th>does-bruise-or-bleed</th>\n",
       "      <th>gill-attachment</th>\n",
       "      <th>gill-spacing</th>\n",
       "      <th>gill-color</th>\n",
       "      <th>stem-height</th>\n",
       "      <th>stem-width</th>\n",
       "      <th>stem-root</th>\n",
       "      <th>stem-surface</th>\n",
       "      <th>stem-color</th>\n",
       "      <th>veil-type</th>\n",
       "      <th>veil-color</th>\n",
       "      <th>has-ring</th>\n",
       "      <th>ring-type</th>\n",
       "      <th>spore-print-color</th>\n",
       "      <th>habitat</th>\n",
       "      <th>season</th>\n",
       "      <th>dataset</th>\n",
       "    </tr>\n",
       "  </thead>\n",
       "  <tbody>\n",
       "    <tr>\n",
       "      <th>0</th>\n",
       "      <td>0</td>\n",
       "      <td>0.0</td>\n",
       "      <td>8.80</td>\n",
       "      <td>f</td>\n",
       "      <td>s</td>\n",
       "      <td>u</td>\n",
       "      <td>f</td>\n",
       "      <td>a</td>\n",
       "      <td>c</td>\n",
       "      <td>w</td>\n",
       "      <td>4.51</td>\n",
       "      <td>15.39</td>\n",
       "      <td>NaN</td>\n",
       "      <td>NaN</td>\n",
       "      <td>w</td>\n",
       "      <td>NaN</td>\n",
       "      <td>NaN</td>\n",
       "      <td>f</td>\n",
       "      <td>f</td>\n",
       "      <td>NaN</td>\n",
       "      <td>d</td>\n",
       "      <td>a</td>\n",
       "      <td>train</td>\n",
       "    </tr>\n",
       "    <tr>\n",
       "      <th>1</th>\n",
       "      <td>1</td>\n",
       "      <td>1.0</td>\n",
       "      <td>4.51</td>\n",
       "      <td>x</td>\n",
       "      <td>h</td>\n",
       "      <td>o</td>\n",
       "      <td>f</td>\n",
       "      <td>a</td>\n",
       "      <td>c</td>\n",
       "      <td>n</td>\n",
       "      <td>4.79</td>\n",
       "      <td>6.48</td>\n",
       "      <td>NaN</td>\n",
       "      <td>y</td>\n",
       "      <td>o</td>\n",
       "      <td>NaN</td>\n",
       "      <td>NaN</td>\n",
       "      <td>t</td>\n",
       "      <td>z</td>\n",
       "      <td>NaN</td>\n",
       "      <td>d</td>\n",
       "      <td>w</td>\n",
       "      <td>train</td>\n",
       "    </tr>\n",
       "    <tr>\n",
       "      <th>2</th>\n",
       "      <td>2</td>\n",
       "      <td>0.0</td>\n",
       "      <td>6.94</td>\n",
       "      <td>f</td>\n",
       "      <td>s</td>\n",
       "      <td>b</td>\n",
       "      <td>f</td>\n",
       "      <td>x</td>\n",
       "      <td>c</td>\n",
       "      <td>w</td>\n",
       "      <td>6.85</td>\n",
       "      <td>9.93</td>\n",
       "      <td>NaN</td>\n",
       "      <td>s</td>\n",
       "      <td>n</td>\n",
       "      <td>NaN</td>\n",
       "      <td>NaN</td>\n",
       "      <td>f</td>\n",
       "      <td>f</td>\n",
       "      <td>NaN</td>\n",
       "      <td>l</td>\n",
       "      <td>w</td>\n",
       "      <td>train</td>\n",
       "    </tr>\n",
       "    <tr>\n",
       "      <th>3</th>\n",
       "      <td>3</td>\n",
       "      <td>0.0</td>\n",
       "      <td>3.88</td>\n",
       "      <td>f</td>\n",
       "      <td>y</td>\n",
       "      <td>g</td>\n",
       "      <td>f</td>\n",
       "      <td>s</td>\n",
       "      <td>NaN</td>\n",
       "      <td>g</td>\n",
       "      <td>4.16</td>\n",
       "      <td>6.53</td>\n",
       "      <td>NaN</td>\n",
       "      <td>NaN</td>\n",
       "      <td>w</td>\n",
       "      <td>NaN</td>\n",
       "      <td>NaN</td>\n",
       "      <td>f</td>\n",
       "      <td>f</td>\n",
       "      <td>NaN</td>\n",
       "      <td>d</td>\n",
       "      <td>u</td>\n",
       "      <td>train</td>\n",
       "    </tr>\n",
       "    <tr>\n",
       "      <th>4</th>\n",
       "      <td>4</td>\n",
       "      <td>0.0</td>\n",
       "      <td>5.85</td>\n",
       "      <td>x</td>\n",
       "      <td>l</td>\n",
       "      <td>w</td>\n",
       "      <td>f</td>\n",
       "      <td>d</td>\n",
       "      <td>NaN</td>\n",
       "      <td>w</td>\n",
       "      <td>3.37</td>\n",
       "      <td>8.36</td>\n",
       "      <td>NaN</td>\n",
       "      <td>NaN</td>\n",
       "      <td>w</td>\n",
       "      <td>NaN</td>\n",
       "      <td>NaN</td>\n",
       "      <td>f</td>\n",
       "      <td>f</td>\n",
       "      <td>NaN</td>\n",
       "      <td>g</td>\n",
       "      <td>a</td>\n",
       "      <td>train</td>\n",
       "    </tr>\n",
       "    <tr>\n",
       "      <th>...</th>\n",
       "      <td>...</td>\n",
       "      <td>...</td>\n",
       "      <td>...</td>\n",
       "      <td>...</td>\n",
       "      <td>...</td>\n",
       "      <td>...</td>\n",
       "      <td>...</td>\n",
       "      <td>...</td>\n",
       "      <td>...</td>\n",
       "      <td>...</td>\n",
       "      <td>...</td>\n",
       "      <td>...</td>\n",
       "      <td>...</td>\n",
       "      <td>...</td>\n",
       "      <td>...</td>\n",
       "      <td>...</td>\n",
       "      <td>...</td>\n",
       "      <td>...</td>\n",
       "      <td>...</td>\n",
       "      <td>...</td>\n",
       "      <td>...</td>\n",
       "      <td>...</td>\n",
       "      <td>...</td>\n",
       "    </tr>\n",
       "    <tr>\n",
       "      <th>2077959</th>\n",
       "      <td>5194904</td>\n",
       "      <td>NaN</td>\n",
       "      <td>0.88</td>\n",
       "      <td>x</td>\n",
       "      <td>g</td>\n",
       "      <td>w</td>\n",
       "      <td>f</td>\n",
       "      <td>a</td>\n",
       "      <td>d</td>\n",
       "      <td>w</td>\n",
       "      <td>2.67</td>\n",
       "      <td>1.35</td>\n",
       "      <td>NaN</td>\n",
       "      <td>NaN</td>\n",
       "      <td>e</td>\n",
       "      <td>NaN</td>\n",
       "      <td>NaN</td>\n",
       "      <td>f</td>\n",
       "      <td>f</td>\n",
       "      <td>NaN</td>\n",
       "      <td>d</td>\n",
       "      <td>u</td>\n",
       "      <td>test</td>\n",
       "    </tr>\n",
       "    <tr>\n",
       "      <th>2077960</th>\n",
       "      <td>5194905</td>\n",
       "      <td>NaN</td>\n",
       "      <td>3.12</td>\n",
       "      <td>x</td>\n",
       "      <td>s</td>\n",
       "      <td>w</td>\n",
       "      <td>f</td>\n",
       "      <td>d</td>\n",
       "      <td>c</td>\n",
       "      <td>w</td>\n",
       "      <td>2.69</td>\n",
       "      <td>7.38</td>\n",
       "      <td>NaN</td>\n",
       "      <td>NaN</td>\n",
       "      <td>w</td>\n",
       "      <td>NaN</td>\n",
       "      <td>NaN</td>\n",
       "      <td>f</td>\n",
       "      <td>f</td>\n",
       "      <td>NaN</td>\n",
       "      <td>g</td>\n",
       "      <td>a</td>\n",
       "      <td>test</td>\n",
       "    </tr>\n",
       "    <tr>\n",
       "      <th>2077961</th>\n",
       "      <td>5194906</td>\n",
       "      <td>NaN</td>\n",
       "      <td>5.73</td>\n",
       "      <td>x</td>\n",
       "      <td>e</td>\n",
       "      <td>e</td>\n",
       "      <td>f</td>\n",
       "      <td>a</td>\n",
       "      <td>NaN</td>\n",
       "      <td>w</td>\n",
       "      <td>6.16</td>\n",
       "      <td>9.74</td>\n",
       "      <td>NaN</td>\n",
       "      <td>NaN</td>\n",
       "      <td>y</td>\n",
       "      <td>NaN</td>\n",
       "      <td>w</td>\n",
       "      <td>t</td>\n",
       "      <td>z</td>\n",
       "      <td>NaN</td>\n",
       "      <td>d</td>\n",
       "      <td>a</td>\n",
       "      <td>test</td>\n",
       "    </tr>\n",
       "    <tr>\n",
       "      <th>2077962</th>\n",
       "      <td>5194907</td>\n",
       "      <td>NaN</td>\n",
       "      <td>5.03</td>\n",
       "      <td>b</td>\n",
       "      <td>g</td>\n",
       "      <td>n</td>\n",
       "      <td>f</td>\n",
       "      <td>a</td>\n",
       "      <td>d</td>\n",
       "      <td>g</td>\n",
       "      <td>6.00</td>\n",
       "      <td>3.46</td>\n",
       "      <td>NaN</td>\n",
       "      <td>s</td>\n",
       "      <td>g</td>\n",
       "      <td>NaN</td>\n",
       "      <td>NaN</td>\n",
       "      <td>f</td>\n",
       "      <td>f</td>\n",
       "      <td>NaN</td>\n",
       "      <td>d</td>\n",
       "      <td>a</td>\n",
       "      <td>test</td>\n",
       "    </tr>\n",
       "    <tr>\n",
       "      <th>2077963</th>\n",
       "      <td>5194908</td>\n",
       "      <td>NaN</td>\n",
       "      <td>15.51</td>\n",
       "      <td>f</td>\n",
       "      <td>NaN</td>\n",
       "      <td>w</td>\n",
       "      <td>f</td>\n",
       "      <td>d</td>\n",
       "      <td>c</td>\n",
       "      <td>y</td>\n",
       "      <td>2.69</td>\n",
       "      <td>17.71</td>\n",
       "      <td>NaN</td>\n",
       "      <td>NaN</td>\n",
       "      <td>w</td>\n",
       "      <td>NaN</td>\n",
       "      <td>NaN</td>\n",
       "      <td>f</td>\n",
       "      <td>f</td>\n",
       "      <td>NaN</td>\n",
       "      <td>d</td>\n",
       "      <td>w</td>\n",
       "      <td>test</td>\n",
       "    </tr>\n",
       "  </tbody>\n",
       "</table>\n",
       "<p>5194909 rows × 23 columns</p>\n",
       "</div>"
      ],
      "text/plain": [
       "              id  class  cap-diameter cap-shape cap-surface cap-color does-bruise-or-bleed gill-attachment gill-spacing gill-color  stem-height  stem-width stem-root stem-surface stem-color veil-type veil-color has-ring ring-type spore-print-color habitat season dataset\n",
       "0              0    0.0          8.80         f           s         u                    f               a            c          w         4.51       15.39       NaN          NaN          w       NaN        NaN        f         f               NaN       d      a   train\n",
       "1              1    1.0          4.51         x           h         o                    f               a            c          n         4.79        6.48       NaN            y          o       NaN        NaN        t         z               NaN       d      w   train\n",
       "2              2    0.0          6.94         f           s         b                    f               x            c          w         6.85        9.93       NaN            s          n       NaN        NaN        f         f               NaN       l      w   train\n",
       "3              3    0.0          3.88         f           y         g                    f               s          NaN          g         4.16        6.53       NaN          NaN          w       NaN        NaN        f         f               NaN       d      u   train\n",
       "4              4    0.0          5.85         x           l         w                    f               d          NaN          w         3.37        8.36       NaN          NaN          w       NaN        NaN        f         f               NaN       g      a   train\n",
       "...          ...    ...           ...       ...         ...       ...                  ...             ...          ...        ...          ...         ...       ...          ...        ...       ...        ...      ...       ...               ...     ...    ...     ...\n",
       "2077959  5194904    NaN          0.88         x           g         w                    f               a            d          w         2.67        1.35       NaN          NaN          e       NaN        NaN        f         f               NaN       d      u    test\n",
       "2077960  5194905    NaN          3.12         x           s         w                    f               d            c          w         2.69        7.38       NaN          NaN          w       NaN        NaN        f         f               NaN       g      a    test\n",
       "2077961  5194906    NaN          5.73         x           e         e                    f               a          NaN          w         6.16        9.74       NaN          NaN          y       NaN          w        t         z               NaN       d      a    test\n",
       "2077962  5194907    NaN          5.03         b           g         n                    f               a            d          g         6.00        3.46       NaN            s          g       NaN        NaN        f         f               NaN       d      a    test\n",
       "2077963  5194908    NaN         15.51         f         NaN         w                    f               d            c          y         2.69       17.71       NaN          NaN          w       NaN        NaN        f         f               NaN       d      w    test\n",
       "\n",
       "[5194909 rows x 23 columns]"
      ]
     },
     "execution_count": 8,
     "metadata": {},
     "output_type": "execute_result"
    }
   ],
   "source": [
    "df"
   ]
  },
  {
   "cell_type": "code",
   "execution_count": 9,
   "id": "9a304182",
   "metadata": {
    "execution": {
     "iopub.execute_input": "2024-08-14T22:00:39.201205Z",
     "iopub.status.busy": "2024-08-14T22:00:39.200543Z",
     "iopub.status.idle": "2024-08-14T22:00:39.207619Z",
     "shell.execute_reply": "2024-08-14T22:00:39.206642Z"
    },
    "papermill": {
     "duration": 0.033954,
     "end_time": "2024-08-14T22:00:39.210068",
     "exception": false,
     "start_time": "2024-08-14T22:00:39.176114",
     "status": "completed"
    },
    "tags": []
   },
   "outputs": [
    {
     "data": {
      "text/plain": [
       "(5194909, 23)"
      ]
     },
     "execution_count": 9,
     "metadata": {},
     "output_type": "execute_result"
    }
   ],
   "source": [
    "df.shape"
   ]
  },
  {
   "cell_type": "code",
   "execution_count": 10,
   "id": "3aa118f1",
   "metadata": {
    "execution": {
     "iopub.execute_input": "2024-08-14T22:00:39.259371Z",
     "iopub.status.busy": "2024-08-14T22:00:39.258981Z",
     "iopub.status.idle": "2024-08-14T22:00:44.742566Z",
     "shell.execute_reply": "2024-08-14T22:00:44.741413Z"
    },
    "papermill": {
     "duration": 5.511211,
     "end_time": "2024-08-14T22:00:44.744986",
     "exception": false,
     "start_time": "2024-08-14T22:00:39.233775",
     "status": "completed"
    },
    "tags": []
   },
   "outputs": [
    {
     "data": {
      "text/plain": [
       "id                      5194909\n",
       "class                         2\n",
       "cap-diameter               4145\n",
       "cap-shape                   108\n",
       "cap-surface                 114\n",
       "cap-color                   109\n",
       "does-bruise-or-bleed         29\n",
       "gill-attachment             117\n",
       "gill-spacing                 66\n",
       "gill-color                   86\n",
       "stem-height                2858\n",
       "stem-width                 6194\n",
       "stem-root                    45\n",
       "stem-surface                 87\n",
       "stem-color                   88\n",
       "veil-type                    24\n",
       "veil-color                   27\n",
       "has-ring                     26\n",
       "ring-type                    47\n",
       "spore-print-color            43\n",
       "habitat                      65\n",
       "season                        4\n",
       "dataset                       2\n",
       "dtype: int64"
      ]
     },
     "execution_count": 10,
     "metadata": {},
     "output_type": "execute_result"
    }
   ],
   "source": [
    "df.nunique()"
   ]
  },
  {
   "cell_type": "code",
   "execution_count": 11,
   "id": "c37d8d8a",
   "metadata": {
    "execution": {
     "iopub.execute_input": "2024-08-14T22:00:44.793645Z",
     "iopub.status.busy": "2024-08-14T22:00:44.793220Z",
     "iopub.status.idle": "2024-08-14T22:00:53.248638Z",
     "shell.execute_reply": "2024-08-14T22:00:53.247520Z"
    },
    "papermill": {
     "duration": 8.482574,
     "end_time": "2024-08-14T22:00:53.251026",
     "exception": false,
     "start_time": "2024-08-14T22:00:44.768452",
     "status": "completed"
    },
    "tags": []
   },
   "outputs": [
    {
     "data": {
      "text/plain": [
       "id                            0\n",
       "class                   2077964\n",
       "cap-diameter                 11\n",
       "cap-shape                    71\n",
       "cap-surface             1117927\n",
       "cap-color                    25\n",
       "does-bruise-or-bleed         18\n",
       "gill-attachment          873757\n",
       "gill-spacing            2098030\n",
       "gill-color                  106\n",
       "stem-height                   1\n",
       "stem-width                    0\n",
       "stem-root               4595035\n",
       "stem-surface            3302349\n",
       "stem-color                   59\n",
       "veil-type               4929038\n",
       "veil-color              4567071\n",
       "has-ring                     43\n",
       "ring-type                215075\n",
       "spore-print-color       4749299\n",
       "habitat                      70\n",
       "season                        0\n",
       "dataset                       0\n",
       "dtype: int64"
      ]
     },
     "execution_count": 11,
     "metadata": {},
     "output_type": "execute_result"
    }
   ],
   "source": [
    "df.isnull().sum()"
   ]
  },
  {
   "cell_type": "code",
   "execution_count": 12,
   "id": "c40fec82",
   "metadata": {
    "execution": {
     "iopub.execute_input": "2024-08-14T22:00:53.300907Z",
     "iopub.status.busy": "2024-08-14T22:00:53.300057Z",
     "iopub.status.idle": "2024-08-14T22:00:53.308874Z",
     "shell.execute_reply": "2024-08-14T22:00:53.307902Z"
    },
    "papermill": {
     "duration": 0.035954,
     "end_time": "2024-08-14T22:00:53.311160",
     "exception": false,
     "start_time": "2024-08-14T22:00:53.275206",
     "status": "completed"
    },
    "tags": []
   },
   "outputs": [
    {
     "data": {
      "text/plain": [
       "id                        int64\n",
       "class                   float64\n",
       "cap-diameter            float64\n",
       "cap-shape                object\n",
       "cap-surface              object\n",
       "cap-color                object\n",
       "does-bruise-or-bleed     object\n",
       "gill-attachment          object\n",
       "gill-spacing             object\n",
       "gill-color               object\n",
       "stem-height             float64\n",
       "stem-width              float64\n",
       "stem-root                object\n",
       "stem-surface             object\n",
       "stem-color               object\n",
       "veil-type                object\n",
       "veil-color               object\n",
       "has-ring                 object\n",
       "ring-type                object\n",
       "spore-print-color        object\n",
       "habitat                  object\n",
       "season                   object\n",
       "dataset                  object\n",
       "dtype: object"
      ]
     },
     "execution_count": 12,
     "metadata": {},
     "output_type": "execute_result"
    }
   ],
   "source": [
    "df.dtypes"
   ]
  },
  {
   "cell_type": "code",
   "execution_count": 13,
   "id": "bafa4b29",
   "metadata": {
    "execution": {
     "iopub.execute_input": "2024-08-14T22:00:53.360540Z",
     "iopub.status.busy": "2024-08-14T22:00:53.360129Z",
     "iopub.status.idle": "2024-08-14T22:00:53.368503Z",
     "shell.execute_reply": "2024-08-14T22:00:53.367356Z"
    },
    "papermill": {
     "duration": 0.036442,
     "end_time": "2024-08-14T22:00:53.371434",
     "exception": false,
     "start_time": "2024-08-14T22:00:53.334992",
     "status": "completed"
    },
    "tags": []
   },
   "outputs": [],
   "source": [
    "def replace_non_alpha_with_nan(df):\n",
    "    object_columns = [col for col in df.columns if df[col].dtype == 'object' and col!='dataset']\n",
    "    alphabet_list = ['a', 'b', 'c', 'd', 'e', 'f', 'g', 'h', 'i', 'j', 'k', 'l', 'm', 'n', 'o', 'p', 'q', 'r', 's', 't', 'u', 'v', 'w', 'x', 'y', 'z']\n",
    "    def filter_alpha(value):\n",
    "        if isinstance(value, str):\n",
    "            return value if len(value) == 1 and value in alphabet_list else np.nan\n",
    "        return np.nan\n",
    "    for col in object_columns:\n",
    "        df[col] = df[col].apply(filter_alpha)\n",
    "    return df\n",
    "    "
   ]
  },
  {
   "cell_type": "code",
   "execution_count": 14,
   "id": "8bc00741",
   "metadata": {
    "execution": {
     "iopub.execute_input": "2024-08-14T22:00:53.422306Z",
     "iopub.status.busy": "2024-08-14T22:00:53.421573Z",
     "iopub.status.idle": "2024-08-14T22:02:01.983162Z",
     "shell.execute_reply": "2024-08-14T22:02:01.981898Z"
    },
    "papermill": {
     "duration": 68.590505,
     "end_time": "2024-08-14T22:02:01.986860",
     "exception": false,
     "start_time": "2024-08-14T22:00:53.396355",
     "status": "completed"
    },
    "tags": []
   },
   "outputs": [],
   "source": [
    "df = replace_non_alpha_with_nan(df)"
   ]
  },
  {
   "cell_type": "code",
   "execution_count": 15,
   "id": "cd63231c",
   "metadata": {
    "execution": {
     "iopub.execute_input": "2024-08-14T22:02:02.045559Z",
     "iopub.status.busy": "2024-08-14T22:02:02.044484Z",
     "iopub.status.idle": "2024-08-14T22:02:07.506926Z",
     "shell.execute_reply": "2024-08-14T22:02:07.505719Z"
    },
    "papermill": {
     "duration": 5.490391,
     "end_time": "2024-08-14T22:02:07.509313",
     "exception": false,
     "start_time": "2024-08-14T22:02:02.018922",
     "status": "completed"
    },
    "tags": []
   },
   "outputs": [
    {
     "data": {
      "text/plain": [
       "id                      5194909\n",
       "class                         2\n",
       "cap-diameter               4145\n",
       "cap-shape                    23\n",
       "cap-surface                  23\n",
       "cap-color                    23\n",
       "does-bruise-or-bleed         23\n",
       "gill-attachment              23\n",
       "gill-spacing                 20\n",
       "gill-color                   23\n",
       "stem-height                2858\n",
       "stem-width                 6194\n",
       "stem-root                    23\n",
       "stem-surface                 23\n",
       "stem-color                   23\n",
       "veil-type                    20\n",
       "veil-color                   22\n",
       "has-ring                     23\n",
       "ring-type                    23\n",
       "spore-print-color            23\n",
       "habitat                      23\n",
       "season                        4\n",
       "dataset                       2\n",
       "dtype: int64"
      ]
     },
     "execution_count": 15,
     "metadata": {},
     "output_type": "execute_result"
    }
   ],
   "source": [
    "df.nunique()\n"
   ]
  },
  {
   "cell_type": "code",
   "execution_count": 16,
   "id": "ef3ef9a9",
   "metadata": {
    "execution": {
     "iopub.execute_input": "2024-08-14T22:02:07.559051Z",
     "iopub.status.busy": "2024-08-14T22:02:07.558617Z",
     "iopub.status.idle": "2024-08-14T22:02:15.842337Z",
     "shell.execute_reply": "2024-08-14T22:02:15.841249Z"
    },
    "papermill": {
     "duration": 8.311598,
     "end_time": "2024-08-14T22:02:15.844881",
     "exception": false,
     "start_time": "2024-08-14T22:02:07.533283",
     "status": "completed"
    },
    "tags": []
   },
   "outputs": [
    {
     "data": {
      "text/plain": [
       "id                            0\n",
       "class                   2077964\n",
       "cap-diameter                 11\n",
       "cap-shape                   166\n",
       "cap-surface             1118041\n",
       "cap-color                   139\n",
       "does-bruise-or-bleed         24\n",
       "gill-attachment          873863\n",
       "gill-spacing            2098079\n",
       "gill-color                  217\n",
       "stem-height                   1\n",
       "stem-width                    0\n",
       "stem-root               4595058\n",
       "stem-surface            3302436\n",
       "stem-color                  133\n",
       "veil-type               4929042\n",
       "veil-color              4567076\n",
       "has-ring                     46\n",
       "ring-type                215118\n",
       "spore-print-color       4749321\n",
       "habitat                     139\n",
       "season                        0\n",
       "dataset                       0\n",
       "dtype: int64"
      ]
     },
     "execution_count": 16,
     "metadata": {},
     "output_type": "execute_result"
    }
   ],
   "source": [
    "df.isnull().sum()"
   ]
  },
  {
   "cell_type": "code",
   "execution_count": 17,
   "id": "4a0f22e9",
   "metadata": {
    "execution": {
     "iopub.execute_input": "2024-08-14T22:02:15.895435Z",
     "iopub.status.busy": "2024-08-14T22:02:15.895000Z",
     "iopub.status.idle": "2024-08-14T22:02:21.350852Z",
     "shell.execute_reply": "2024-08-14T22:02:21.349616Z"
    },
    "papermill": {
     "duration": 5.484229,
     "end_time": "2024-08-14T22:02:21.353551",
     "exception": false,
     "start_time": "2024-08-14T22:02:15.869322",
     "status": "completed"
    },
    "tags": []
   },
   "outputs": [
    {
     "name": "stdout",
     "output_type": "stream",
     "text": [
      "Observations: 5194909\n",
      "Variables: 23\n",
      "cat_cols: 18\n",
      "num_cols: 4\n",
      "cat_but_car: 0\n",
      "num_but_cat: 1\n"
     ]
    }
   ],
   "source": [
    "def grab_col_names(dataframe,cat_th=10,car_th=30):\n",
    "    cat_cols=[col for col in dataframe.columns if dataframe[col].dtypes=='object' and col!='dataset']\n",
    "    num_but_cat=[col for col in dataframe.columns if dataframe[col].dtypes!='O' and dataframe[col].nunique() < cat_th]\n",
    "    cat_but_car=[col for col in dataframe.columns if dataframe[col].dtypes=='O' and dataframe[col].nunique()>car_th and col!='dataset']\n",
    "    cat_cols=cat_cols+num_but_cat\n",
    "    num_cols=[col for col in dataframe.columns if dataframe[col].dtypes!='O']\n",
    "    num_cols=[col for col in num_cols if col not in num_but_cat]\n",
    "    print(f\"Observations: {dataframe.shape[0]}\")\n",
    "    print(f\"Variables: {dataframe.shape[1]}\")\n",
    "    print(f'cat_cols: {len(cat_cols)}')\n",
    "    print(f'num_cols: {len(num_cols)}')\n",
    "    print(f'cat_but_car: {len(cat_but_car)}')\n",
    "    print(f'num_but_cat: {len(num_but_cat)}')\n",
    "    return cat_cols, num_cols, cat_but_car\n",
    "\n",
    "cat_cols, num_cols, cat_but_car = grab_col_names(df)"
   ]
  },
  {
   "cell_type": "code",
   "execution_count": 18,
   "id": "89a4cf49",
   "metadata": {
    "execution": {
     "iopub.execute_input": "2024-08-14T22:02:21.405811Z",
     "iopub.status.busy": "2024-08-14T22:02:21.405336Z",
     "iopub.status.idle": "2024-08-14T22:02:21.411590Z",
     "shell.execute_reply": "2024-08-14T22:02:21.410471Z"
    },
    "papermill": {
     "duration": 0.035007,
     "end_time": "2024-08-14T22:02:21.414117",
     "exception": false,
     "start_time": "2024-08-14T22:02:21.379110",
     "status": "completed"
    },
    "tags": []
   },
   "outputs": [],
   "source": [
    "cat_cols = [col for col in cat_cols if col not in [\"class\",'dataset']]\n",
    "num_cols = [col for col in num_cols if col not in [\"id\"]]"
   ]
  },
  {
   "cell_type": "code",
   "execution_count": 19,
   "id": "c69d3c5b",
   "metadata": {
    "execution": {
     "iopub.execute_input": "2024-08-14T22:02:21.466566Z",
     "iopub.status.busy": "2024-08-14T22:02:21.465278Z",
     "iopub.status.idle": "2024-08-14T22:02:21.471288Z",
     "shell.execute_reply": "2024-08-14T22:02:21.470188Z"
    },
    "papermill": {
     "duration": 0.034929,
     "end_time": "2024-08-14T22:02:21.473815",
     "exception": false,
     "start_time": "2024-08-14T22:02:21.438886",
     "status": "completed"
    },
    "tags": []
   },
   "outputs": [
    {
     "name": "stdout",
     "output_type": "stream",
     "text": [
      "['cap-shape', 'cap-surface', 'cap-color', 'does-bruise-or-bleed', 'gill-attachment', 'gill-spacing', 'gill-color', 'stem-root', 'stem-surface', 'stem-color', 'veil-type', 'veil-color', 'has-ring', 'ring-type', 'spore-print-color', 'habitat', 'season']\n"
     ]
    }
   ],
   "source": [
    "print(cat_cols)"
   ]
  },
  {
   "cell_type": "markdown",
   "id": "f1ef50b2",
   "metadata": {
    "papermill": {
     "duration": 0.082739,
     "end_time": "2024-08-14T22:02:21.581166",
     "exception": false,
     "start_time": "2024-08-14T22:02:21.498427",
     "status": "completed"
    },
    "tags": []
   },
   "source": [
    "# Analysis of categorical variables :"
   ]
  },
  {
   "cell_type": "code",
   "execution_count": 20,
   "id": "0fc18e45",
   "metadata": {
    "execution": {
     "iopub.execute_input": "2024-08-14T22:02:21.632507Z",
     "iopub.status.busy": "2024-08-14T22:02:21.632097Z",
     "iopub.status.idle": "2024-08-14T22:04:52.996885Z",
     "shell.execute_reply": "2024-08-14T22:04:52.995673Z"
    },
    "papermill": {
     "duration": 151.39388,
     "end_time": "2024-08-14T22:04:52.999780",
     "exception": false,
     "start_time": "2024-08-14T22:02:21.605900",
     "status": "completed"
    },
    "tags": []
   },
   "outputs": [
    {
     "name": "stdout",
     "output_type": "stream",
     "text": [
      "           cap-shape      Ratio\n",
      "cap-shape                      \n",
      "x            2393975  46.083098\n",
      "f            1128598  21.725077\n",
      "s             607844  11.700763\n",
      "b             530525  10.212402\n",
      "o             180807   3.480465\n",
      "p             178269   3.431610\n",
      "c             173956   3.348586\n",
      "d                 95   0.001829\n",
      "e                 93   0.001790\n",
      "n                 68   0.001309\n",
      "t                 64   0.001232\n",
      "w                 63   0.001213\n",
      "y                 57   0.001097\n",
      "a                 54   0.001039\n",
      "g                 51   0.000982\n",
      "r                 48   0.000924\n",
      "u                 45   0.000866\n",
      "l                 38   0.000731\n",
      "k                 30   0.000577\n",
      "z                 30   0.000577\n",
      "i                 18   0.000346\n",
      "h                  9   0.000173\n",
      "m                  6   0.000115\n",
      "##########################################\n"
     ]
    },
    {
     "data": {
      "image/png": "[encoded data removed]",
      "text/plain": [
       "<Figure size 640x480 with 1 Axes>"
      ]
     },
     "metadata": {},
     "output_type": "display_data"
    },
    {
     "name": "stdout",
     "output_type": "stream",
     "text": [
      "             cap-surface      Ratio\n",
      "cap-surface                        \n",
      "t                 767629  14.776563\n",
      "s                 642160  12.361333\n",
      "y                 546162  10.513408\n",
      "h                 474197   9.128110\n",
      "g                 439869   8.467309\n",
      "d                 344507   6.631627\n",
      "k                 214916   4.137050\n",
      "e                 199630   3.842801\n",
      "i                 189010   3.638370\n",
      "w                 182949   3.521698\n",
      "l                  74960   1.442951\n",
      "n                    146   0.002810\n",
      "f                    129   0.002483\n",
      "p                    103   0.001983\n",
      "o                     76   0.001463\n",
      "a                     72   0.001386\n",
      "u                     70   0.001347\n",
      "m                     67   0.001290\n",
      "r                     60   0.001155\n",
      "x                     60   0.001155\n",
      "c                     50   0.000962\n",
      "b                     32   0.000616\n",
      "z                     14   0.000269\n",
      "##########################################\n"
     ]
    },
    {
     "data": {
      "image/png": "[encoded data removed]",
      "text/plain": [
       "<Figure size 640x480 with 1 Axes>"
      ]
     },
     "metadata": {},
     "output_type": "display_data"
    },
    {
     "name": "stdout",
     "output_type": "stream",
     "text": [
      "           cap-color      Ratio\n",
      "cap-color                      \n",
      "n            2263849  43.578222\n",
      "y             645689  12.429265\n",
      "w             633286  12.190512\n",
      "g             351506   6.766355\n",
      "e             328814   6.329543\n",
      "o             298611   5.748147\n",
      "p             153024   2.945653\n",
      "r             130020   2.502835\n",
      "u             122037   2.349165\n",
      "b             102103   1.965443\n",
      "k              99503   1.915394\n",
      "l              65819   1.266990\n",
      "f                 98   0.001886\n",
      "d                 88   0.001694\n",
      "a                 66   0.001270\n",
      "s                 59   0.001136\n",
      "t                 42   0.000808\n",
      "h                 35   0.000674\n",
      "i                 29   0.000558\n",
      "x                 28   0.000539\n",
      "c                 26   0.000500\n",
      "m                 20   0.000385\n",
      "z                 18   0.000346\n",
      "##########################################\n"
     ]
    },
    {
     "data": {
      "image/png": "[encoded data removed]",
      "text/plain": [
       "<Figure size 640x480 with 1 Axes>"
      ]
     },
     "metadata": {},
     "output_type": "display_data"
    },
    {
     "name": "stdout",
     "output_type": "stream",
     "text": [
      "                      does-bruise-or-bleed      Ratio\n",
      "does-bruise-or-bleed                                 \n",
      "f                                  4283405  82.453899\n",
      "t                                   911312  17.542405\n",
      "w                                       21   0.000404\n",
      "x                                       18   0.000346\n",
      "c                                       14   0.000269\n",
      "h                                       13   0.000250\n",
      "s                                       13   0.000250\n",
      "k                                        9   0.000173\n",
      "a                                        9   0.000173\n",
      "p                                        9   0.000173\n",
      "b                                        9   0.000173\n",
      "y                                        8   0.000154\n",
      "e                                        7   0.000135\n",
      "g                                        6   0.000115\n",
      "n                                        6   0.000115\n",
      "o                                        6   0.000115\n",
      "l                                        5   0.000096\n",
      "d                                        4   0.000077\n",
      "i                                        3   0.000058\n",
      "z                                        3   0.000058\n",
      "r                                        2   0.000038\n",
      "m                                        2   0.000038\n",
      "u                                        1   0.000019\n",
      "##########################################\n"
     ]
    },
    {
     "data": {
      "image/png": "[encoded data removed]",
      "text/plain": [
       "<Figure size 640x480 with 1 Axes>"
      ]
     },
     "metadata": {},
     "output_type": "display_data"
    },
    {
     "name": "stdout",
     "output_type": "stream",
     "text": [
      "                 gill-attachment      Ratio\n",
      "gill-attachment                            \n",
      "a                        1076994  20.731720\n",
      "d                         981820  18.899657\n",
      "x                         601636  11.581262\n",
      "e                         503134   9.685136\n",
      "s                         491718   9.465382\n",
      "p                         465444   8.959618\n",
      "f                         199583   3.841896\n",
      "c                            127   0.002445\n",
      "u                             91   0.001752\n",
      "w                             63   0.001213\n",
      "t                             63   0.001213\n",
      "k                             53   0.001020\n",
      "y                             40   0.000770\n",
      "i                             39   0.000751\n",
      "g                             39   0.000751\n",
      "n                             33   0.000635\n",
      "b                             32   0.000616\n",
      "o                             29   0.000558\n",
      "m                             29   0.000558\n",
      "l                             27   0.000520\n",
      "h                             27   0.000520\n",
      "r                             17   0.000327\n",
      "z                              8   0.000154\n",
      "##########################################\n"
     ]
    },
    {
     "data": {
      "image/png": "[encoded data removed]",
      "text/plain": [
       "<Figure size 640x480 with 1 Axes>"
      ]
     },
     "metadata": {},
     "output_type": "display_data"
    },
    {
     "name": "stdout",
     "output_type": "stream",
     "text": [
      "              gill-spacing      Ratio\n",
      "gill-spacing                         \n",
      "c                  2218030  42.696224\n",
      "d                   680017  13.090066\n",
      "f                   198603   3.823031\n",
      "e                       35   0.000674\n",
      "a                       27   0.000520\n",
      "s                       26   0.000500\n",
      "b                       19   0.000366\n",
      "x                       14   0.000269\n",
      "p                       12   0.000231\n",
      "t                       10   0.000192\n",
      "g                        7   0.000135\n",
      "y                        6   0.000115\n",
      "k                        5   0.000096\n",
      "w                        5   0.000096\n",
      "h                        3   0.000058\n",
      "l                        3   0.000058\n",
      "r                        3   0.000058\n",
      "i                        2   0.000038\n",
      "m                        2   0.000038\n",
      "n                        1   0.000019\n",
      "##########################################\n"
     ]
    },
    {
     "data": {
      "image/png": "[encoded data removed]",
      "text/plain": [
       "<Figure size 640x480 with 1 Axes>"
      ]
     },
     "metadata": {},
     "output_type": "display_data"
    },
    {
     "name": "stdout",
     "output_type": "stream",
     "text": [
      "            gill-color      Ratio\n",
      "gill-color                       \n",
      "w              1552311  29.881390\n",
      "n               905555  17.431585\n",
      "y               783396  15.080072\n",
      "p               572781  11.025814\n",
      "g               353683   6.808262\n",
      "o               262167   5.046614\n",
      "k               213330   4.106520\n",
      "f               199176   3.834061\n",
      "r               104298   2.007696\n",
      "e                93479   1.799435\n",
      "b                78430   1.509747\n",
      "u                75483   1.453019\n",
      "l                   92   0.001771\n",
      "d                   91   0.001752\n",
      "t                   78   0.001501\n",
      "s                   76   0.001463\n",
      "x                   63   0.001213\n",
      "c                   57   0.001097\n",
      "a                   48   0.000924\n",
      "h                   37   0.000712\n",
      "z                   25   0.000481\n",
      "m                   22   0.000423\n",
      "i                   14   0.000269\n",
      "##########################################\n"
     ]
    },
    {
     "data": {
      "image/png": "[encoded data removed]",
      "text/plain": [
       "<Figure size 640x480 with 1 Axes>"
      ]
     },
     "metadata": {},
     "output_type": "display_data"
    },
    {
     "name": "stdout",
     "output_type": "stream",
     "text": [
      "           stem-root     Ratio\n",
      "stem-root                     \n",
      "b             276382  5.320247\n",
      "s             195199  3.757506\n",
      "r              79409  1.528593\n",
      "c              47617  0.916609\n",
      "f                971  0.018691\n",
      "d                 31  0.000597\n",
      "y                 28  0.000539\n",
      "g                 26  0.000500\n",
      "p                 23  0.000443\n",
      "w                 18  0.000346\n",
      "l                 16  0.000308\n",
      "t                 16  0.000308\n",
      "u                 16  0.000308\n",
      "k                 16  0.000308\n",
      "e                 13  0.000250\n",
      "x                 12  0.000231\n",
      "a                 12  0.000231\n",
      "i                 11  0.000212\n",
      "n                 11  0.000212\n",
      "o                 10  0.000192\n",
      "m                  5  0.000096\n",
      "h                  5  0.000096\n",
      "z                  4  0.000077\n",
      "##########################################\n"
     ]
    },
    {
     "data": {
      "image/png": "[encoded data removed]",
      "text/plain": [
       "<Figure size 640x480 with 1 Axes>"
      ]
     },
     "metadata": {},
     "output_type": "display_data"
    },
    {
     "name": "stdout",
     "output_type": "stream",
     "text": [
      "              stem-surface      Ratio\n",
      "stem-surface                         \n",
      "s                   546106  10.512330\n",
      "y                   424962   8.180355\n",
      "i                   373538   7.190463\n",
      "t                   246956   4.753808\n",
      "g                   129928   2.501064\n",
      "k                   122458   2.357269\n",
      "h                    47144   0.907504\n",
      "f                      822   0.015823\n",
      "d                       89   0.001713\n",
      "w                       86   0.001655\n",
      "e                       59   0.001136\n",
      "n                       46   0.000885\n",
      "r                       40   0.000770\n",
      "x                       37   0.000712\n",
      "c                       32   0.000616\n",
      "p                       29   0.000558\n",
      "u                       29   0.000558\n",
      "l                       28   0.000539\n",
      "b                       27   0.000520\n",
      "o                       25   0.000481\n",
      "a                       17   0.000327\n",
      "m                       11   0.000212\n",
      "z                        4   0.000077\n",
      "##########################################\n"
     ]
    },
    {
     "data": {
      "image/png": "[encoded data removed]",
      "text/plain": [
       "<Figure size 640x480 with 1 Axes>"
      ]
     },
     "metadata": {},
     "output_type": "display_data"
    },
    {
     "name": "stdout",
     "output_type": "stream",
     "text": [
      "            stem-color      Ratio\n",
      "stem-color                       \n",
      "w              1994002  38.383771\n",
      "n              1671620  32.178042\n",
      "y               624112  12.013916\n",
      "g               220221   4.239170\n",
      "o               186635   3.592652\n",
      "e               172177   3.314341\n",
      "u               111801   2.152126\n",
      "p                91046   1.752600\n",
      "k                55852   1.075130\n",
      "r                37239   0.716836\n",
      "l                16512   0.317850\n",
      "b                12260   0.236000\n",
      "f                  928   0.017864\n",
      "s                   86   0.001655\n",
      "t                   61   0.001174\n",
      "a                   57   0.001097\n",
      "i                   40   0.000770\n",
      "x                   37   0.000712\n",
      "d                   28   0.000539\n",
      "h                   24   0.000462\n",
      "c                   15   0.000289\n",
      "m                   14   0.000269\n",
      "z                    9   0.000173\n",
      "##########################################\n"
     ]
    },
    {
     "data": {
      "image/png": "[encoded data removed]",
      "text/plain": [
       "<Figure size 640x480 with 1 Axes>"
      ]
     },
     "metadata": {},
     "output_type": "display_data"
    },
    {
     "name": "stdout",
     "output_type": "stream",
     "text": [
      "           veil-type     Ratio\n",
      "veil-type                     \n",
      "u             265746  5.115508\n",
      "w                 23  0.000443\n",
      "e                 14  0.000269\n",
      "a                 11  0.000212\n",
      "k                  9  0.000173\n",
      "f                  8  0.000154\n",
      "c                  7  0.000135\n",
      "y                  7  0.000135\n",
      "g                  7  0.000135\n",
      "n                  6  0.000115\n",
      "b                  6  0.000115\n",
      "s                  6  0.000115\n",
      "p                  5  0.000096\n",
      "i                  2  0.000038\n",
      "d                  2  0.000038\n",
      "h                  2  0.000038\n",
      "r                  2  0.000038\n",
      "l                  2  0.000038\n",
      "t                  1  0.000019\n",
      "m                  1  0.000019\n",
      "##########################################\n"
     ]
    },
    {
     "data": {
      "image/png": "[encoded data removed]",
      "text/plain": [
       "<Figure size 640x480 with 1 Axes>"
      ]
     },
     "metadata": {},
     "output_type": "display_data"
    },
    {
     "name": "stdout",
     "output_type": "stream",
     "text": [
      "            veil-color     Ratio\n",
      "veil-color                      \n",
      "w               465502  8.960734\n",
      "y                51255  0.986639\n",
      "n                50295  0.968159\n",
      "u                23439  0.451192\n",
      "k                21786  0.419372\n",
      "e                15316  0.294827\n",
      "g                   50  0.000962\n",
      "p                   41  0.000789\n",
      "r                   22  0.000423\n",
      "o                   18  0.000346\n",
      "s                   17  0.000327\n",
      "t                   16  0.000308\n",
      "d                   15  0.000289\n",
      "h                   12  0.000231\n",
      "a                   11  0.000212\n",
      "i                   10  0.000192\n",
      "f                    8  0.000154\n",
      "b                    7  0.000135\n",
      "l                    6  0.000115\n",
      "c                    5  0.000096\n",
      "z                    1  0.000019\n",
      "m                    1  0.000019\n",
      "##########################################\n"
     ]
    },
    {
     "data": {
      "image/png": "[encoded data removed]",
      "text/plain": [
       "<Figure size 640x480 with 1 Axes>"
      ]
     },
     "metadata": {},
     "output_type": "display_data"
    },
    {
     "name": "stdout",
     "output_type": "stream",
     "text": [
      "          has-ring      Ratio\n",
      "has-ring                     \n",
      "f          3946912  75.976538\n",
      "t          1247741  24.018534\n",
      "r               27   0.000520\n",
      "h               21   0.000404\n",
      "c               20   0.000385\n",
      "e               20   0.000385\n",
      "g               17   0.000327\n",
      "l               16   0.000308\n",
      "p               16   0.000308\n",
      "s               15   0.000289\n",
      "z                9   0.000173\n",
      "d                8   0.000154\n",
      "x                8   0.000154\n",
      "m                6   0.000115\n",
      "y                5   0.000096\n",
      "a                5   0.000096\n",
      "o                4   0.000077\n",
      "k                3   0.000058\n",
      "i                3   0.000058\n",
      "n                2   0.000038\n",
      "w                2   0.000038\n",
      "b                2   0.000038\n",
      "u                1   0.000019\n",
      "##########################################\n"
     ]
    },
    {
     "data": {
      "image/png": "[encoded data removed]",
      "text/plain": [
       "<Figure size 640x480 with 1 Axes>"
      ]
     },
     "metadata": {},
     "output_type": "display_data"
    },
    {
     "name": "stdout",
     "output_type": "stream",
     "text": [
      "           ring-type      Ratio\n",
      "ring-type                      \n",
      "f            4127370  79.450285\n",
      "e             200354   3.856737\n",
      "z             189697   3.651594\n",
      "l             122290   2.354035\n",
      "p             113332   2.181597\n",
      "r             113309   2.181155\n",
      "g             106159   2.043520\n",
      "m               6681   0.128607\n",
      "t                144   0.002772\n",
      "d                 61   0.001174\n",
      "x                 53   0.001020\n",
      "n                 50   0.000962\n",
      "y                 41   0.000789\n",
      "b                 41   0.000789\n",
      "w                 31   0.000597\n",
      "s                 30   0.000577\n",
      "a                 29   0.000558\n",
      "u                 27   0.000520\n",
      "c                 24   0.000462\n",
      "k                 22   0.000423\n",
      "h                 20   0.000385\n",
      "o                 18   0.000346\n",
      "i                  8   0.000154\n",
      "##########################################\n"
     ]
    },
    {
     "data": {
      "image/png": "[encoded data removed]",
      "text/plain": [
       "<Figure size 640x480 with 1 Axes>"
      ]
     },
     "metadata": {},
     "output_type": "display_data"
    },
    {
     "name": "stdout",
     "output_type": "stream",
     "text": [
      "                   spore-print-color     Ratio\n",
      "spore-print-color                             \n",
      "k                             178883  3.443429\n",
      "p                             113689  2.188470\n",
      "w                              83830  1.613695\n",
      "n                              37727  0.726230\n",
      "r                              13280  0.255635\n",
      "u                              12101  0.232940\n",
      "g                               5815  0.111937\n",
      "y                                 54  0.001039\n",
      "s                                 31  0.000597\n",
      "f                                 25  0.000481\n",
      "e                                 23  0.000443\n",
      "a                                 19  0.000366\n",
      "c                                 19  0.000366\n",
      "t                                 18  0.000346\n",
      "d                                 15  0.000289\n",
      "l                                 13  0.000250\n",
      "b                                 12  0.000231\n",
      "o                                 11  0.000212\n",
      "h                                  6  0.000115\n",
      "i                                  5  0.000096\n",
      "z                                  5  0.000096\n",
      "m                                  4  0.000077\n",
      "x                                  3  0.000058\n",
      "##########################################\n"
     ]
    },
    {
     "data": {
      "image/png": "[encoded data removed]",
      "text/plain": [
       "<Figure size 640x480 with 1 Axes>"
      ]
     },
     "metadata": {},
     "output_type": "display_data"
    },
    {
     "name": "stdout",
     "output_type": "stream",
     "text": [
      "         habitat      Ratio\n",
      "habitat                    \n",
      "d        3627993  69.837470\n",
      "g         759208  14.614462\n",
      "l         286350   5.512127\n",
      "m         252227   4.855273\n",
      "h         200169   3.853176\n",
      "w          30854   0.593928\n",
      "p          28609   0.550712\n",
      "u           8698   0.167433\n",
      "s             91   0.001752\n",
      "e             79   0.001521\n",
      "t             75   0.001444\n",
      "n             70   0.001347\n",
      "r             59   0.001136\n",
      "a             51   0.000982\n",
      "k             50   0.000962\n",
      "y             44   0.000847\n",
      "c             44   0.000847\n",
      "b             29   0.000558\n",
      "f             20   0.000385\n",
      "o             19   0.000366\n",
      "x             13   0.000250\n",
      "i             12   0.000231\n",
      "z              6   0.000115\n",
      "##########################################\n"
     ]
    },
    {
     "data": {
      "image/png": "[encoded data removed]",
      "text/plain": [
       "<Figure size 640x480 with 1 Axes>"
      ]
     },
     "metadata": {},
     "output_type": "display_data"
    },
    {
     "name": "stdout",
     "output_type": "stream",
     "text": [
      "         season      Ratio\n",
      "season                    \n",
      "a       2572406  49.517826\n",
      "u       1921855  36.994969\n",
      "w        464164   8.934978\n",
      "s        236484   4.552226\n",
      "##########################################\n"
     ]
    },
    {
     "data": {
      "image/png": "[encoded data removed]",
      "text/plain": [
       "<Figure size 640x480 with 1 Axes>"
      ]
     },
     "metadata": {},
     "output_type": "display_data"
    }
   ],
   "source": [
    "def cat_summary(dataframe, col_name, plot=False):\n",
    "    print(pd.DataFrame({col_name: dataframe[col_name].value_counts(),\"Ratio\": 100 * dataframe[col_name].value_counts() / len(dataframe)}))\n",
    "    print(\"##########################################\")\n",
    "\n",
    "    if plot:\n",
    "        sns.countplot(x=dataframe[col_name], data=dataframe)\n",
    "        plt.show(block=True)\n",
    "            \n",
    "for col in cat_cols:\n",
    "    cat_summary(df, col, True)"
   ]
  },
  {
   "cell_type": "code",
   "execution_count": 21,
   "id": "aaad5c1f",
   "metadata": {
    "execution": {
     "iopub.execute_input": "2024-08-14T22:04:53.067821Z",
     "iopub.status.busy": "2024-08-14T22:04:53.067414Z",
     "iopub.status.idle": "2024-08-14T22:05:05.850515Z",
     "shell.execute_reply": "2024-08-14T22:05:05.849139Z"
    },
    "papermill": {
     "duration": 12.820269,
     "end_time": "2024-08-14T22:05:05.853201",
     "exception": false,
     "start_time": "2024-08-14T22:04:53.032932",
     "status": "completed"
    },
    "tags": []
   },
   "outputs": [
    {
     "name": "stdout",
     "output_type": "stream",
     "text": [
      "           TARGET_MEAN\n",
      "cap-shape             \n",
      "a             0.500000\n",
      "b             0.773037\n",
      "c             0.542777\n",
      "d             0.600000\n",
      "e             0.350000\n",
      "f             0.511944\n",
      "g             0.558824\n",
      "h             0.500000\n",
      "i             0.785714\n",
      "k             0.769231\n",
      "l             0.238095\n",
      "m             0.500000\n",
      "n             0.512195\n",
      "o             0.674810\n",
      "p             0.459403\n",
      "r             0.656250\n",
      "s             0.549457\n",
      "t             0.722222\n",
      "u             0.592593\n",
      "w             0.500000\n",
      "x             0.510166\n",
      "y             0.636364\n",
      "z             1.000000\n",
      "\n",
      "\n",
      "             TARGET_MEAN\n",
      "cap-surface             \n",
      "a               0.681818\n",
      "b               0.388889\n",
      "c               0.645161\n",
      "d               0.587883\n",
      "e               0.478432\n",
      "f               0.613333\n",
      "g               0.597185\n",
      "h               0.470129\n",
      "i               0.821915\n",
      "k               0.901556\n",
      "l               0.428810\n",
      "m               0.428571\n",
      "n               0.562500\n",
      "o               0.794872\n",
      "p               0.728814\n",
      "r               0.914286\n",
      "s               0.369343\n",
      "t               0.642395\n",
      "u               0.469388\n",
      "w               0.654033\n",
      "x               0.636364\n",
      "y               0.461983\n",
      "z               0.875000\n",
      "\n",
      "\n",
      "           TARGET_MEAN\n",
      "cap-color             \n",
      "a             0.533333\n",
      "b             0.126042\n",
      "c             0.571429\n",
      "d             0.375000\n",
      "e             0.793249\n",
      "f             0.509434\n",
      "g             0.411920\n",
      "h             0.590909\n",
      "i             0.769231\n",
      "k             0.598484\n",
      "l             0.489282\n",
      "m             0.714286\n",
      "n             0.490915\n",
      "o             0.717261\n",
      "p             0.689932\n",
      "r             0.906935\n",
      "s             0.487179\n",
      "t             0.692308\n",
      "u             0.539318\n",
      "w             0.497059\n",
      "x             0.357143\n",
      "y             0.622949\n",
      "z             1.000000\n",
      "\n",
      "\n",
      "                      TARGET_MEAN\n",
      "does-bruise-or-bleed             \n",
      "a                        0.857143\n",
      "b                        0.428571\n",
      "c                        0.727273\n",
      "d                        0.500000\n",
      "e                        0.000000\n",
      "f                        0.555763\n",
      "g                        0.000000\n",
      "h                        0.555556\n",
      "i                        1.000000\n",
      "k                        1.000000\n",
      "l                        0.500000\n",
      "m                             NaN\n",
      "n                        1.000000\n",
      "o                        0.666667\n",
      "p                        0.750000\n",
      "r                        0.000000\n",
      "s                        0.333333\n",
      "t                        0.506623\n",
      "u                        1.000000\n",
      "w                        0.357143\n",
      "x                        0.571429\n",
      "y                        0.285714\n",
      "z                        1.000000\n",
      "\n",
      "\n",
      "                 TARGET_MEAN\n",
      "gill-attachment             \n",
      "a                   0.646344\n",
      "b                   0.523810\n",
      "c                   0.540541\n",
      "d                   0.571377\n",
      "e                   0.348965\n",
      "f                   0.510458\n",
      "g                   0.500000\n",
      "h                   0.666667\n",
      "i                   0.560000\n",
      "k                   0.727273\n",
      "l                   0.312500\n",
      "m                   0.500000\n",
      "n                   0.800000\n",
      "o                   0.722222\n",
      "p                   0.290735\n",
      "r                   0.700000\n",
      "s                   0.589157\n",
      "t                   0.611111\n",
      "u                   0.607143\n",
      "w                   0.432432\n",
      "x                   0.538451\n",
      "y                   0.535714\n",
      "z                   1.000000\n",
      "\n",
      "\n",
      "              TARGET_MEAN\n",
      "gill-spacing             \n",
      "a                0.647059\n",
      "b                0.416667\n",
      "c                0.572446\n",
      "d                0.402246\n",
      "e                0.583333\n",
      "f                0.510169\n",
      "g                0.750000\n",
      "h                0.333333\n",
      "i                1.000000\n",
      "k                1.000000\n",
      "l                0.333333\n",
      "m                     NaN\n",
      "n                1.000000\n",
      "p                0.428571\n",
      "r                0.500000\n",
      "s                0.562500\n",
      "t                0.625000\n",
      "w                0.000000\n",
      "x                0.375000\n",
      "y                0.500000\n",
      "\n",
      "\n",
      "            TARGET_MEAN\n",
      "gill-color             \n",
      "a              0.500000\n",
      "b              0.281711\n",
      "c              0.677419\n",
      "d              0.592593\n",
      "e              0.698557\n",
      "f              0.509875\n",
      "g              0.480996\n",
      "h              0.583333\n",
      "i              0.888889\n",
      "k              0.577378\n",
      "l              0.472727\n",
      "m              0.750000\n",
      "n              0.714879\n",
      "o              0.517379\n",
      "p              0.590209\n",
      "r              0.713913\n",
      "s              0.456522\n",
      "t              0.629630\n",
      "u              0.602436\n",
      "w              0.428440\n",
      "x              0.542857\n",
      "y              0.579043\n",
      "z              0.937500\n",
      "\n",
      "\n",
      "           TARGET_MEAN\n",
      "stem-root             \n",
      "a             0.428571\n",
      "b             0.351874\n",
      "c             0.995943\n",
      "d             0.541667\n",
      "e             0.833333\n",
      "f             0.988275\n",
      "g             0.916667\n",
      "h             1.000000\n",
      "i             0.750000\n",
      "k             0.545455\n",
      "l             0.600000\n",
      "m             0.750000\n",
      "n             0.600000\n",
      "o             0.600000\n",
      "p             0.666667\n",
      "r             0.995230\n",
      "s             0.698656\n",
      "t             0.600000\n",
      "u             0.375000\n",
      "w             0.583333\n",
      "x             0.444444\n",
      "y             0.714286\n",
      "z             1.000000\n",
      "\n",
      "\n",
      "              TARGET_MEAN\n",
      "stem-surface             \n",
      "a                0.545455\n",
      "b                0.478261\n",
      "c                0.727273\n",
      "d                0.500000\n",
      "e                0.500000\n",
      "f                0.990234\n",
      "g                0.996107\n",
      "h                0.996358\n",
      "i                0.638549\n",
      "k                0.697955\n",
      "l                0.500000\n",
      "m                0.285714\n",
      "n                0.676471\n",
      "o                0.733333\n",
      "p                0.650000\n",
      "r                1.000000\n",
      "s                0.395507\n",
      "t                0.541257\n",
      "u                0.812500\n",
      "w                0.571429\n",
      "x                0.653846\n",
      "y                0.700759\n",
      "z                1.000000\n",
      "\n",
      "\n",
      "            TARGET_MEAN\n",
      "stem-color             \n",
      "a              0.750000\n",
      "b              0.005567\n",
      "c              0.857143\n",
      "d              0.500000\n",
      "e              0.701295\n",
      "f              0.980803\n",
      "g              0.391421\n",
      "h              0.666667\n",
      "i              0.736842\n",
      "k              0.786792\n",
      "l              0.556834\n",
      "m              0.363636\n",
      "n              0.610928\n",
      "o              0.596660\n",
      "p              0.886359\n",
      "r              0.855345\n",
      "s              0.607843\n",
      "t              0.575000\n",
      "u              0.625453\n",
      "w              0.417714\n",
      "x              0.650000\n",
      "y              0.693776\n",
      "z              1.000000\n",
      "\n",
      "\n",
      "           TARGET_MEAN\n",
      "veil-type             \n",
      "a             0.777778\n",
      "b             0.400000\n",
      "c             0.800000\n",
      "d             0.500000\n",
      "e             0.750000\n",
      "f             0.375000\n",
      "g             0.500000\n",
      "h             0.500000\n",
      "i             0.000000\n",
      "k             0.750000\n",
      "l             0.000000\n",
      "m                  NaN\n",
      "n             1.000000\n",
      "p             0.500000\n",
      "r             0.500000\n",
      "s             0.333333\n",
      "t             1.000000\n",
      "u             0.655582\n",
      "w             0.636364\n",
      "y             0.500000\n",
      "\n",
      "\n",
      "            TARGET_MEAN\n",
      "veil-color             \n",
      "a              0.857143\n",
      "b              0.333333\n",
      "c              0.750000\n",
      "d              0.333333\n",
      "e              0.999018\n",
      "f              0.750000\n",
      "g              0.600000\n",
      "h              0.400000\n",
      "i              1.000000\n",
      "k              0.999159\n",
      "l              1.000000\n",
      "m                   NaN\n",
      "n              0.996272\n",
      "o              0.923077\n",
      "p              0.565217\n",
      "r              1.000000\n",
      "s              0.363636\n",
      "t              0.428571\n",
      "u              0.994082\n",
      "w              0.503977\n",
      "y              0.005218\n",
      "z              1.000000\n",
      "\n",
      "\n",
      "          TARGET_MEAN\n",
      "has-ring             \n",
      "a            1.000000\n",
      "b                 NaN\n",
      "c            0.818182\n",
      "d            0.333333\n",
      "e            0.666667\n",
      "f            0.533254\n",
      "g            0.375000\n",
      "h            0.769231\n",
      "i            1.000000\n",
      "k            1.000000\n",
      "l            0.181818\n",
      "m            0.000000\n",
      "n            0.000000\n",
      "o            1.000000\n",
      "p            0.454545\n",
      "r            0.437500\n",
      "s            0.545455\n",
      "t            0.591104\n",
      "u                 NaN\n",
      "w            0.000000\n",
      "x            0.400000\n",
      "y            1.000000\n",
      "z            1.000000\n",
      "\n",
      "\n",
      "           TARGET_MEAN\n",
      "ring-type             \n",
      "a             0.562500\n",
      "b             0.344828\n",
      "c             0.636364\n",
      "d             0.513514\n",
      "e             0.579404\n",
      "f             0.546738\n",
      "g             0.421467\n",
      "h             0.533333\n",
      "i             0.000000\n",
      "k             0.777778\n",
      "l             0.387961\n",
      "m             0.013778\n",
      "n             0.647059\n",
      "o             0.777778\n",
      "p             0.514140\n",
      "r             0.394822\n",
      "s             0.444444\n",
      "t             0.551020\n",
      "u             0.923077\n",
      "w             0.357143\n",
      "x             0.468750\n",
      "y             0.680000\n",
      "z             0.996159\n",
      "\n",
      "\n",
      "                   TARGET_MEAN\n",
      "spore-print-color             \n",
      "a                     0.769231\n",
      "b                     0.000000\n",
      "c                     0.750000\n",
      "d                     0.555556\n",
      "e                     0.642857\n",
      "f                     0.571429\n",
      "g                     0.028351\n",
      "h                     1.000000\n",
      "i                     1.000000\n",
      "k                     0.825366\n",
      "l                     0.375000\n",
      "m                     0.500000\n",
      "n                     0.997262\n",
      "o                     0.666667\n",
      "p                     0.712312\n",
      "r                     0.997241\n",
      "s                     0.380952\n",
      "t                     0.692308\n",
      "u                     0.996968\n",
      "w                     0.450561\n",
      "x                     1.000000\n",
      "y                     0.611111\n",
      "z                          NaN\n",
      "\n",
      "\n",
      "         TARGET_MEAN\n",
      "habitat             \n",
      "a           0.500000\n",
      "b           0.555556\n",
      "c           0.653846\n",
      "d           0.528839\n",
      "e           0.218182\n",
      "f           0.636364\n",
      "g           0.674602\n",
      "h           0.669144\n",
      "i           0.571429\n",
      "k           0.903226\n",
      "l           0.394922\n",
      "m           0.537614\n",
      "n           0.512195\n",
      "o           0.833333\n",
      "p           0.996217\n",
      "r           0.868421\n",
      "s           0.211538\n",
      "t           0.500000\n",
      "u           0.008169\n",
      "w           0.004371\n",
      "x           0.400000\n",
      "y           0.470588\n",
      "z           0.800000\n",
      "\n",
      "\n",
      "        TARGET_MEAN\n",
      "season             \n",
      "a          0.571586\n",
      "s          0.388299\n",
      "u          0.582461\n",
      "w          0.346009\n",
      "\n",
      "\n"
     ]
    }
   ],
   "source": [
    "def target_summary_with_cat(dataframe, target, categorical_col):\n",
    "    print(pd.DataFrame({\"TARGET_MEAN\": dataframe.groupby(categorical_col)[target].mean()}), end=\"\\n\\n\\n\")\n",
    "\n",
    "for col in cat_cols:\n",
    "    target_summary_with_cat(df, \"class\", col)"
   ]
  },
  {
   "cell_type": "markdown",
   "id": "f0aeb0ff",
   "metadata": {
    "papermill": {
     "duration": 0.034517,
     "end_time": "2024-08-14T22:05:05.923087",
     "exception": false,
     "start_time": "2024-08-14T22:05:05.888570",
     "status": "completed"
    },
    "tags": []
   },
   "source": [
    "* Small TARGET_MEAN: Mushrooms in this category are generally edible.\n",
    "* Large TARGET_MEAN: Mushrooms in this category are generally poisonous."
   ]
  },
  {
   "cell_type": "markdown",
   "id": "e60376d8",
   "metadata": {
    "papermill": {
     "duration": 0.034355,
     "end_time": "2024-08-14T22:05:05.993322",
     "exception": false,
     "start_time": "2024-08-14T22:05:05.958967",
     "status": "completed"
    },
    "tags": []
   },
   "source": [
    "* Cap Shape\n",
    "* z: TARGET_MEAN = 1.0 → Poisonous\n",
    "* l: TARGET_MEAN = 0.238 → Edible"
   ]
  },
  {
   "cell_type": "markdown",
   "id": "a786f429",
   "metadata": {
    "papermill": {
     "duration": 0.035445,
     "end_time": "2024-08-14T22:05:06.063718",
     "exception": false,
     "start_time": "2024-08-14T22:05:06.028273",
     "status": "completed"
    },
    "tags": []
   },
   "source": [
    "* Cap Surface\n",
    "* r: TARGET_MEAN = 0.914 → Poisonous\n",
    "* s: TARGET_MEAN = 0.369 → Edible"
   ]
  },
  {
   "cell_type": "markdown",
   "id": "a4e2c565",
   "metadata": {
    "papermill": {
     "duration": 0.034631,
     "end_time": "2024-08-14T22:05:06.133468",
     "exception": false,
     "start_time": "2024-08-14T22:05:06.098837",
     "status": "completed"
    },
    "tags": []
   },
   "source": [
    "* Cap Color\n",
    "* r: TARGET_MEAN = 0.907 → Poisonous\n",
    "* b: TARGET_MEAN = 0.126 → Edible\n"
   ]
  },
  {
   "cell_type": "markdown",
   "id": "01460ba2",
   "metadata": {
    "papermill": {
     "duration": 0.03592,
     "end_time": "2024-08-14T22:05:06.204759",
     "exception": false,
     "start_time": "2024-08-14T22:05:06.168839",
     "status": "completed"
    },
    "tags": []
   },
   "source": [
    "* Does Bruise or Bleed\n",
    "* a: TARGET_MEAN = 0.857 → Poisonous\n",
    "* g: TARGET_MEAN = 0.000 → Edibl"
   ]
  },
  {
   "cell_type": "markdown",
   "id": "ed4db6bd",
   "metadata": {
    "papermill": {
     "duration": 0.034581,
     "end_time": "2024-08-14T22:05:06.274859",
     "exception": false,
     "start_time": "2024-08-14T22:05:06.240278",
     "status": "completed"
    },
    "tags": []
   },
   "source": [
    "* Gill Attachment\n",
    "* n: TARGET_MEAN = 0.8 → Poisonous\n",
    "* l: TARGET_MEAN = 0.313 → Edible"
   ]
  },
  {
   "cell_type": "markdown",
   "id": "fbe2a3f8",
   "metadata": {
    "papermill": {
     "duration": 0.034767,
     "end_time": "2024-08-14T22:05:06.345000",
     "exception": false,
     "start_time": "2024-08-14T22:05:06.310233",
     "status": "completed"
    },
    "tags": []
   },
   "source": [
    "* Gill Spacing\n",
    "* i, k: TARGET_MEAN = 1.000 → Poisonous\n",
    "* w: TARGET_MEAN = 0.000 → Edible"
   ]
  },
  {
   "cell_type": "markdown",
   "id": "ad2b2810",
   "metadata": {
    "papermill": {
     "duration": 0.035804,
     "end_time": "2024-08-14T22:05:06.416835",
     "exception": false,
     "start_time": "2024-08-14T22:05:06.381031",
     "status": "completed"
    },
    "tags": []
   },
   "source": [
    "* Gill Color\n",
    "* z: TARGET_MEAN = 0.938 → Poisonous\n",
    "* b: TARGET_MEAN = 0.282 → Edible"
   ]
  },
  {
   "cell_type": "markdown",
   "id": "9dd60121",
   "metadata": {
    "papermill": {
     "duration": 0.034913,
     "end_time": "2024-08-14T22:05:06.487100",
     "exception": false,
     "start_time": "2024-08-14T22:05:06.452187",
     "status": "completed"
    },
    "tags": []
   },
   "source": [
    "* Stem Root\n",
    "* f, c: TARGET_MEAN = 0.988, 0.996 → Poisonous\n",
    "* b: TARGET_MEAN = 0.352 → Edible"
   ]
  },
  {
   "cell_type": "markdown",
   "id": "e482daa8",
   "metadata": {
    "papermill": {
     "duration": 0.034874,
     "end_time": "2024-08-14T22:05:06.557057",
     "exception": false,
     "start_time": "2024-08-14T22:05:06.522183",
     "status": "completed"
    },
    "tags": []
   },
   "source": [
    "**Summary: Mushrooms with a high TARGET_MEAN are typically poisonous, while those with a low TARGET_MEAN are usually edible.**"
   ]
  },
  {
   "cell_type": "markdown",
   "id": "55abb241",
   "metadata": {
    "papermill": {
     "duration": 0.034659,
     "end_time": "2024-08-14T22:05:06.626903",
     "exception": false,
     "start_time": "2024-08-14T22:05:06.592244",
     "status": "completed"
    },
    "tags": []
   },
   "source": [
    "# Analysis of numerical variables : \n"
   ]
  },
  {
   "cell_type": "code",
   "execution_count": 22,
   "id": "858a4721",
   "metadata": {
    "execution": {
     "iopub.execute_input": "2024-08-14T22:05:06.698863Z",
     "iopub.status.busy": "2024-08-14T22:05:06.698392Z",
     "iopub.status.idle": "2024-08-14T22:05:06.706202Z",
     "shell.execute_reply": "2024-08-14T22:05:06.704926Z"
    },
    "papermill": {
     "duration": 0.046481,
     "end_time": "2024-08-14T22:05:06.708434",
     "exception": false,
     "start_time": "2024-08-14T22:05:06.661953",
     "status": "completed"
    },
    "tags": []
   },
   "outputs": [],
   "source": [
    "def num_summary(dataframe,numerical_col,plot=False) :\n",
    "    quantiles = [0.05, 0.10, 0.20, 0.30, 0.40, 0.50, 0.60, 0.70, 0.80, 0.90, 0.95, 0.99]\n",
    "    print(dataframe[numerical_col].describe(quantiles).T)\n",
    "    if plot :\n",
    "        dataframe[numerical_col].hist()\n",
    "        plt.xlabel(numerical_col)\n",
    "        plt.title(numerical_col)\n",
    "        plt.show(block=True)"
   ]
  },
  {
   "cell_type": "code",
   "execution_count": 23,
   "id": "1b1982b2",
   "metadata": {
    "execution": {
     "iopub.execute_input": "2024-08-14T22:05:06.782151Z",
     "iopub.status.busy": "2024-08-14T22:05:06.781715Z",
     "iopub.status.idle": "2024-08-14T22:05:09.010835Z",
     "shell.execute_reply": "2024-08-14T22:05:09.009740Z"
    },
    "papermill": {
     "duration": 2.268804,
     "end_time": "2024-08-14T22:05:09.013441",
     "exception": false,
     "start_time": "2024-08-14T22:05:06.744637",
     "status": "completed"
    },
    "tags": []
   },
   "outputs": [
    {
     "name": "stdout",
     "output_type": "stream",
     "text": [
      "count    5.194898e+06\n",
      "mean     6.308386e+00\n",
      "std      4.668963e+00\n",
      "min      0.000000e+00\n",
      "5%       1.340000e+00\n",
      "10%      1.690000e+00\n",
      "20%      2.980000e+00\n",
      "30%      3.650000e+00\n",
      "40%      4.490000e+00\n",
      "50%      5.740000e+00\n",
      "60%      6.720000e+00\n",
      "70%      7.690000e+00\n",
      "80%      8.910000e+00\n",
      "90%      1.100000e+01\n",
      "95%      1.323000e+01\n",
      "99%      1.889000e+01\n",
      "max      6.070000e+02\n",
      "Name: cap-diameter, dtype: float64\n"
     ]
    },
    {
     "data": {
      "image/png": "[encoded data removed]",
      "text/plain": [
       "<Figure size 640x480 with 1 Axes>"
      ]
     },
     "metadata": {},
     "output_type": "display_data"
    },
    {
     "name": "stdout",
     "output_type": "stream",
     "text": [
      "count    5.194908e+06\n",
      "mean     6.347604e+00\n",
      "std      2.699444e+00\n",
      "min      0.000000e+00\n",
      "5%       3.160000e+00\n",
      "10%      3.610000e+00\n",
      "20%      4.400000e+00\n",
      "30%      4.910000e+00\n",
      "40%      5.380000e+00\n",
      "50%      5.880000e+00\n",
      "60%      6.300000e+00\n",
      "70%      7.020000e+00\n",
      "80%      7.960000e+00\n",
      "90%      9.590000e+00\n",
      "95%      1.120000e+01\n",
      "99%      1.666000e+01\n",
      "max      8.872000e+01\n",
      "Name: stem-height, dtype: float64\n"
     ]
    },
    {
     "data": {
      "image/png": "[encoded data removed]",
      "text/plain": [
       "<Figure size 640x480 with 1 Axes>"
      ]
     },
     "metadata": {},
     "output_type": "display_data"
    },
    {
     "name": "stdout",
     "output_type": "stream",
     "text": [
      "count    5.194909e+06\n",
      "mean     1.115162e+01\n",
      "std      8.097359e+00\n",
      "min      0.000000e+00\n",
      "5%       1.580000e+00\n",
      "10%      2.470000e+00\n",
      "20%      3.590000e+00\n",
      "30%      5.910000e+00\n",
      "40%      7.210000e+00\n",
      "50%      9.650000e+00\n",
      "60%      1.217000e+01\n",
      "70%      1.415000e+01\n",
      "80%      1.712000e+01\n",
      "90%      2.249000e+01\n",
      "95%      2.649000e+01\n",
      "99%      3.546000e+01\n",
      "max      1.029100e+02\n",
      "Name: stem-width, dtype: float64\n"
     ]
    },
    {
     "data": {
      "image/png": "[encoded data removed]",
      "text/plain": [
       "<Figure size 640x480 with 1 Axes>"
      ]
     },
     "metadata": {},
     "output_type": "display_data"
    }
   ],
   "source": [
    "for col in num_cols :\n",
    "    num_summary(df,col,plot=True)"
   ]
  },
  {
   "cell_type": "code",
   "execution_count": 24,
   "id": "cd136f74",
   "metadata": {
    "execution": {
     "iopub.execute_input": "2024-08-14T22:05:09.086572Z",
     "iopub.status.busy": "2024-08-14T22:05:09.086179Z",
     "iopub.status.idle": "2024-08-14T22:05:09.447076Z",
     "shell.execute_reply": "2024-08-14T22:05:09.445962Z"
    },
    "papermill": {
     "duration": 0.40072,
     "end_time": "2024-08-14T22:05:09.449779",
     "exception": false,
     "start_time": "2024-08-14T22:05:09.049059",
     "status": "completed"
    },
    "tags": []
   },
   "outputs": [
    {
     "name": "stdout",
     "output_type": "stream",
     "text": [
      "       cap-diameter\n",
      "class              \n",
      "0.0        7.142471\n",
      "1.0        5.620689\n",
      "\n",
      "\n",
      "       stem-height\n",
      "class             \n",
      "0.0       6.495937\n",
      "1.0       6.226162\n",
      "\n",
      "\n",
      "       stem-width\n",
      "class            \n",
      "0.0     12.664778\n",
      "1.0      9.903143\n",
      "\n",
      "\n"
     ]
    }
   ],
   "source": [
    "def target_summary_with_num(dataframe, target, numerical_col):\n",
    "    print(dataframe.groupby(target).agg({numerical_col: \"mean\"}), end=\"\\n\\n\\n\")\n",
    "\n",
    "for col in num_cols:\n",
    "    target_summary_with_num(df, \"class\", col)"
   ]
  },
  {
   "cell_type": "markdown",
   "id": "87afa8be",
   "metadata": {
    "papermill": {
     "duration": 0.036027,
     "end_time": "2024-08-14T22:05:09.522005",
     "exception": false,
     "start_time": "2024-08-14T22:05:09.485978",
     "status": "completed"
    },
    "tags": []
   },
   "source": [
    "-These observations suggest that, on average, edible mushrooms have larger cap diameters and wider stems, while stem height remains relatively consistent between the two groups."
   ]
  },
  {
   "cell_type": "markdown",
   "id": "e9750a1e",
   "metadata": {
    "papermill": {
     "duration": 0.035512,
     "end_time": "2024-08-14T22:05:09.594103",
     "exception": false,
     "start_time": "2024-08-14T22:05:09.558591",
     "status": "completed"
    },
    "tags": []
   },
   "source": [
    "# Outliers : "
   ]
  },
  {
   "cell_type": "code",
   "execution_count": 25,
   "id": "74e32893",
   "metadata": {
    "execution": {
     "iopub.execute_input": "2024-08-14T22:05:09.667889Z",
     "iopub.status.busy": "2024-08-14T22:05:09.667443Z",
     "iopub.status.idle": "2024-08-14T22:05:09.677212Z",
     "shell.execute_reply": "2024-08-14T22:05:09.676097Z"
    },
    "papermill": {
     "duration": 0.04957,
     "end_time": "2024-08-14T22:05:09.679657",
     "exception": false,
     "start_time": "2024-08-14T22:05:09.630087",
     "status": "completed"
    },
    "tags": []
   },
   "outputs": [],
   "source": [
    "def outlier_thresholds(dataframe, col_name, q1=0.01, q3=0.99):\n",
    "    quartile1 = dataframe[col_name].quantile(q1)\n",
    "    quartile3 = dataframe[col_name].quantile(q3)\n",
    "    interquantile_range = quartile3 - quartile1\n",
    "    up_limit = quartile3 + 1.5 * interquantile_range\n",
    "    low_limit = quartile1 - 1.5 * interquantile_range\n",
    "    return low_limit, up_limit\n",
    "\n",
    "def check_outlier(dataframe, col_name):\n",
    "    low_limit, up_limit = outlier_thresholds(dataframe, col_name)\n",
    "    if dataframe[(dataframe[col_name] > up_limit) | (dataframe[col_name] < low_limit)].any(axis=None):\n",
    "        return True\n",
    "    else:\n",
    "        return False\n",
    "    \n",
    "def replace_with_thresholds(dataframe, variable):\n",
    "    low_limit, up_limit = outlier_thresholds(dataframe, variable)\n",
    "    dataframe.loc[(dataframe[variable] < low_limit), variable] = low_limit\n",
    "    dataframe.loc[(dataframe[variable] > up_limit), variable] = up_limit"
   ]
  },
  {
   "cell_type": "code",
   "execution_count": 26,
   "id": "5b907ea8",
   "metadata": {
    "execution": {
     "iopub.execute_input": "2024-08-14T22:05:09.755327Z",
     "iopub.status.busy": "2024-08-14T22:05:09.754611Z",
     "iopub.status.idle": "2024-08-14T22:05:10.509884Z",
     "shell.execute_reply": "2024-08-14T22:05:10.508702Z"
    },
    "papermill": {
     "duration": 0.79687,
     "end_time": "2024-08-14T22:05:10.512551",
     "exception": false,
     "start_time": "2024-08-14T22:05:09.715681",
     "status": "completed"
    },
    "tags": []
   },
   "outputs": [
    {
     "name": "stdout",
     "output_type": "stream",
     "text": [
      "cap-diameter True\n",
      "stem-height True\n",
      "stem-width True\n"
     ]
    }
   ],
   "source": [
    "for col in num_cols:\n",
    "    print(col, check_outlier(df, col))"
   ]
  },
  {
   "cell_type": "code",
   "execution_count": 27,
   "id": "a0d63168",
   "metadata": {
    "execution": {
     "iopub.execute_input": "2024-08-14T22:05:10.588943Z",
     "iopub.status.busy": "2024-08-14T22:05:10.587621Z",
     "iopub.status.idle": "2024-08-14T22:05:12.916535Z",
     "shell.execute_reply": "2024-08-14T22:05:12.915430Z"
    },
    "papermill": {
     "duration": 2.369141,
     "end_time": "2024-08-14T22:05:12.918971",
     "exception": false,
     "start_time": "2024-08-14T22:05:10.549830",
     "status": "completed"
    },
    "tags": []
   },
   "outputs": [
    {
     "data": {
      "image/png": "[encoded data removed]",
      "text/plain": [
       "<Figure size 1500x600 with 3 Axes>"
      ]
     },
     "metadata": {},
     "output_type": "display_data"
    }
   ],
   "source": [
    "plt.figure(figsize=(len(num_cols) * 5, 6))  \n",
    "\n",
    "for i, col in enumerate(num_cols):\n",
    "    plt.subplot(1, len(num_cols), i + 1)  \n",
    "    sns.boxplot(y=df[col])\n",
    "    plt.title(f'Boxplot of {col}')\n",
    "    plt.xlabel(col)\n",
    "\n",
    "plt.tight_layout() \n",
    "plt.show()\n"
   ]
  },
  {
   "cell_type": "markdown",
   "id": "490e05ea",
   "metadata": {
    "papermill": {
     "duration": 0.037102,
     "end_time": "2024-08-14T22:05:12.993030",
     "exception": false,
     "start_time": "2024-08-14T22:05:12.955928",
     "status": "completed"
    },
    "tags": []
   },
   "source": [
    "These variables have a few very high values, let's replace the values below the 0.01 quantile with the threshold values determined for these variables."
   ]
  },
  {
   "cell_type": "code",
   "execution_count": 28,
   "id": "d180d932",
   "metadata": {
    "execution": {
     "iopub.execute_input": "2024-08-14T22:05:13.068571Z",
     "iopub.status.busy": "2024-08-14T22:05:13.068155Z",
     "iopub.status.idle": "2024-08-14T22:05:14.336758Z",
     "shell.execute_reply": "2024-08-14T22:05:14.335440Z"
    },
    "papermill": {
     "duration": 1.309185,
     "end_time": "2024-08-14T22:05:14.339151",
     "exception": false,
     "start_time": "2024-08-14T22:05:13.029966",
     "status": "completed"
    },
    "tags": []
   },
   "outputs": [
    {
     "name": "stdout",
     "output_type": "stream",
     "text": [
      "cap-diameter False\n",
      "stem-height False\n",
      "stem-width False\n"
     ]
    }
   ],
   "source": [
    "for col in num_cols:\n",
    "    replace_with_thresholds(df, col)\n",
    "\n",
    "for col in num_cols:\n",
    "    print(col, check_outlier(df, col))"
   ]
  },
  {
   "cell_type": "code",
   "execution_count": 29,
   "id": "c6e5719e",
   "metadata": {
    "execution": {
     "iopub.execute_input": "2024-08-14T22:05:14.416601Z",
     "iopub.status.busy": "2024-08-14T22:05:14.415842Z",
     "iopub.status.idle": "2024-08-14T22:05:16.875058Z",
     "shell.execute_reply": "2024-08-14T22:05:16.873750Z"
    },
    "papermill": {
     "duration": 2.500893,
     "end_time": "2024-08-14T22:05:16.877903",
     "exception": false,
     "start_time": "2024-08-14T22:05:14.377010",
     "status": "completed"
    },
    "tags": []
   },
   "outputs": [
    {
     "data": {
      "image/png": "[encoded data removed]",
      "text/plain": [
       "<Figure size 1500x600 with 3 Axes>"
      ]
     },
     "metadata": {},
     "output_type": "display_data"
    }
   ],
   "source": [
    "plt.figure(figsize=(len(num_cols) * 5, 6))  \n",
    "\n",
    "for i, col in enumerate(num_cols):\n",
    "    plt.subplot(1, len(num_cols), i + 1)  \n",
    "    sns.boxplot(y=df[col])\n",
    "    plt.title(f'Boxplot of {col}')\n",
    "    plt.xlabel(col)\n",
    "\n",
    "plt.tight_layout() \n",
    "plt.show()"
   ]
  },
  {
   "cell_type": "markdown",
   "id": "9019fd74",
   "metadata": {
    "papermill": {
     "duration": 0.03797,
     "end_time": "2024-08-14T22:05:16.954238",
     "exception": false,
     "start_time": "2024-08-14T22:05:16.916268",
     "status": "completed"
    },
    "tags": []
   },
   "source": [
    "#  Missing values : "
   ]
  },
  {
   "cell_type": "code",
   "execution_count": 30,
   "id": "2ebc6b5a",
   "metadata": {
    "execution": {
     "iopub.execute_input": "2024-08-14T22:05:17.032332Z",
     "iopub.status.busy": "2024-08-14T22:05:17.031931Z",
     "iopub.status.idle": "2024-08-14T22:05:42.923932Z",
     "shell.execute_reply": "2024-08-14T22:05:42.922561Z"
    },
    "papermill": {
     "duration": 25.934254,
     "end_time": "2024-08-14T22:05:42.926825",
     "exception": false,
     "start_time": "2024-08-14T22:05:16.992571",
     "status": "completed"
    },
    "tags": []
   },
   "outputs": [
    {
     "name": "stdout",
     "output_type": "stream",
     "text": [
      "                       n_miss  ratio\n",
      "veil-type             4929042  94.88\n",
      "spore-print-color     4749321  91.42\n",
      "stem-root             4595058  88.45\n",
      "veil-color            4567076  87.91\n",
      "stem-surface          3302436  63.57\n",
      "gill-spacing          2098079  40.39\n",
      "class                 2077964  40.00\n",
      "cap-surface           1118041  21.52\n",
      "gill-attachment        873863  16.82\n",
      "ring-type              215118   4.14\n",
      "gill-color                217   0.00\n",
      "cap-shape                 166   0.00\n",
      "habitat                   139   0.00\n",
      "cap-color                 139   0.00\n",
      "stem-color                133   0.00\n",
      "has-ring                   46   0.00\n",
      "does-bruise-or-bleed       24   0.00\n",
      "cap-diameter               11   0.00\n",
      "stem-height                 1   0.00\n"
     ]
    }
   ],
   "source": [
    "def missing_values_table(dataframe, na_name=False):\n",
    "    na_columns = [col for col in dataframe.columns if dataframe[col].isnull().sum() > 0]\n",
    "\n",
    "    n_miss = dataframe[na_columns].isnull().sum().sort_values(ascending=False)\n",
    "    ratio = (dataframe[na_columns].isnull().sum() / dataframe.shape[0] * 100).sort_values(ascending=False)\n",
    "    missing_df = pd.concat([n_miss, np.round(ratio, 2)], axis=1, keys=['n_miss', 'ratio'])\n",
    "    print(missing_df, end=\"\\n\")\n",
    "\n",
    "    if na_name:\n",
    "        return na_columns\n",
    "\n",
    "\n",
    "missing_values_table(df)"
   ]
  },
  {
   "cell_type": "markdown",
   "id": "d1982cd6",
   "metadata": {
    "papermill": {
     "duration": 0.038039,
     "end_time": "2024-08-14T22:05:43.003734",
     "exception": false,
     "start_time": "2024-08-14T22:05:42.965695",
     "status": "completed"
    },
    "tags": []
   },
   "source": [
    "* Upon examining the missing value table, we see that variables such as `veil-type`, `spore-print-color`, `stem-root`, and `veil-color` have very high missing value ratios.\n",
    "* Variables with missing ratios greater than 80% should be dropped directly."
   ]
  },
  {
   "cell_type": "code",
   "execution_count": 31,
   "id": "2f76fe96",
   "metadata": {
    "execution": {
     "iopub.execute_input": "2024-08-14T22:05:43.083222Z",
     "iopub.status.busy": "2024-08-14T22:05:43.082806Z",
     "iopub.status.idle": "2024-08-14T22:05:44.370198Z",
     "shell.execute_reply": "2024-08-14T22:05:44.369204Z"
    },
    "papermill": {
     "duration": 1.330353,
     "end_time": "2024-08-14T22:05:44.373065",
     "exception": false,
     "start_time": "2024-08-14T22:05:43.042712",
     "status": "completed"
    },
    "tags": []
   },
   "outputs": [],
   "source": [
    "columns_to_drop = ['veil-type', 'spore-print-color', 'stem-root', 'veil-color']\n",
    "df = df.drop(columns=columns_to_drop)"
   ]
  },
  {
   "cell_type": "code",
   "execution_count": 32,
   "id": "bd5e4651",
   "metadata": {
    "execution": {
     "iopub.execute_input": "2024-08-14T22:05:44.452433Z",
     "iopub.status.busy": "2024-08-14T22:05:44.452045Z",
     "iopub.status.idle": "2024-08-14T22:05:48.801854Z",
     "shell.execute_reply": "2024-08-14T22:05:48.800719Z"
    },
    "papermill": {
     "duration": 4.393571,
     "end_time": "2024-08-14T22:05:48.804738",
     "exception": false,
     "start_time": "2024-08-14T22:05:44.411167",
     "status": "completed"
    },
    "tags": []
   },
   "outputs": [
    {
     "name": "stdout",
     "output_type": "stream",
     "text": [
      "Observations: 5194909\n",
      "Variables: 19\n",
      "cat_cols: 14\n",
      "num_cols: 4\n",
      "cat_but_car: 0\n",
      "num_but_cat: 1\n",
      "['cap-shape', 'cap-surface', 'cap-color', 'does-bruise-or-bleed', 'gill-attachment', 'gill-spacing', 'gill-color', 'stem-surface', 'stem-color', 'has-ring', 'ring-type', 'habitat', 'season']\n"
     ]
    }
   ],
   "source": [
    "cat_cols, num_cols, cat_but_car = grab_col_names(df)\n",
    "cat_cols = [col for col in cat_cols if col not in [\"class\",'dataset']]\n",
    "num_cols = [col for col in num_cols if col not in [\"id\"]]\n",
    "print(cat_cols)"
   ]
  },
  {
   "cell_type": "markdown",
   "id": "2079b3c0",
   "metadata": {
    "papermill": {
     "duration": 0.038397,
     "end_time": "2024-08-14T22:05:48.881936",
     "exception": false,
     "start_time": "2024-08-14T22:05:48.843539",
     "status": "completed"
    },
    "tags": []
   },
   "source": [
    "* After, columns with missing value ratios below 80% are handled.\n",
    "* Missing values in numerical columns are imputed using the median value.\n",
    "* For categorical columns, missing values are filled with the most frequent value (mode).\n",
    "* These steps make the dataset more meaningful and suitable for analysis."
   ]
  },
  {
   "cell_type": "code",
   "execution_count": 33,
   "id": "3facfbab",
   "metadata": {
    "execution": {
     "iopub.execute_input": "2024-08-14T22:05:48.963502Z",
     "iopub.status.busy": "2024-08-14T22:05:48.963108Z",
     "iopub.status.idle": "2024-08-14T22:05:48.969645Z",
     "shell.execute_reply": "2024-08-14T22:05:48.968560Z"
    },
    "papermill": {
     "duration": 0.048772,
     "end_time": "2024-08-14T22:05:48.971984",
     "exception": false,
     "start_time": "2024-08-14T22:05:48.923212",
     "status": "completed"
    },
    "tags": []
   },
   "outputs": [],
   "source": [
    "def fill_missing_values(df, num_cols, cat_cols):\n",
    "    filled_df = df.copy()\n",
    "    numeric_imputer = SimpleImputer(strategy='median')\n",
    "    filled_df[num_cols] = numeric_imputer.fit_transform(filled_df[num_cols])\n",
    "    categorical_imputer = SimpleImputer(strategy='most_frequent')\n",
    "    filled_df[cat_cols] = categorical_imputer.fit_transform(filled_df[cat_cols])\n",
    "\n",
    "    return filled_df"
   ]
  },
  {
   "cell_type": "code",
   "execution_count": 34,
   "id": "e4683a6e",
   "metadata": {
    "execution": {
     "iopub.execute_input": "2024-08-14T22:05:49.050646Z",
     "iopub.status.busy": "2024-08-14T22:05:49.049867Z",
     "iopub.status.idle": "2024-08-14T22:06:11.887621Z",
     "shell.execute_reply": "2024-08-14T22:06:11.886377Z"
    },
    "papermill": {
     "duration": 22.880118,
     "end_time": "2024-08-14T22:06:11.890407",
     "exception": false,
     "start_time": "2024-08-14T22:05:49.010289",
     "status": "completed"
    },
    "tags": []
   },
   "outputs": [],
   "source": [
    "df = fill_missing_values (df, num_cols, cat_cols)"
   ]
  },
  {
   "cell_type": "markdown",
   "id": "81578edb",
   "metadata": {
    "papermill": {
     "duration": 0.0377,
     "end_time": "2024-08-14T22:06:11.966119",
     "exception": false,
     "start_time": "2024-08-14T22:06:11.928419",
     "status": "completed"
    },
    "tags": []
   },
   "source": [
    "# Encoding : \n"
   ]
  },
  {
   "cell_type": "markdown",
   "id": "0a5a2245",
   "metadata": {
    "papermill": {
     "duration": 0.037887,
     "end_time": "2024-08-14T22:06:12.043444",
     "exception": false,
     "start_time": "2024-08-14T22:06:12.005557",
     "status": "completed"
    },
    "tags": []
   },
   "source": [
    "* While one-hot encoding is often preferred for its effectiveness in handling categorical variables, it can significantly increase the dimensionality of the dataset, making it cumbersome to process and analyze.\n",
    "* To address this, we will first perform rare encoding to reduce the number of unique classes in each categorical variable. If the frequency of a class is less than 1%, we'll label it as 'Rare.'\n",
    "* After rare encoding, we will use label encoding or one-hot encoding based on the number of unique classes. If the number of unique classes is manageable, we'll use one-hot encoding; otherwise, we'll use label encoding to keep the dataset size efficient."
   ]
  },
  {
   "cell_type": "code",
   "execution_count": 35,
   "id": "09c5f295",
   "metadata": {
    "execution": {
     "iopub.execute_input": "2024-08-14T22:06:12.121522Z",
     "iopub.status.busy": "2024-08-14T22:06:12.120712Z",
     "iopub.status.idle": "2024-08-14T22:06:28.634391Z",
     "shell.execute_reply": "2024-08-14T22:06:28.633105Z"
    },
    "papermill": {
     "duration": 16.555446,
     "end_time": "2024-08-14T22:06:28.636864",
     "exception": false,
     "start_time": "2024-08-14T22:06:12.081418",
     "status": "completed"
    },
    "tags": []
   },
   "outputs": [
    {
     "name": "stdout",
     "output_type": "stream",
     "text": [
      "Summary for cap-shape:\n",
      "            Target_mean  category_ratio\n",
      "cap-shape                             \n",
      "a             0.500000        0.000010\n",
      "b             0.773037        0.102124\n",
      "c             0.542777        0.033486\n",
      "d             0.600000        0.000018\n",
      "e             0.350000        0.000018\n",
      "f             0.511944        0.217251\n",
      "g             0.558824        0.000010\n",
      "h             0.500000        0.000002\n",
      "i             0.785714        0.000003\n",
      "k             0.769231        0.000006\n",
      "l             0.238095        0.000007\n",
      "m             0.500000        0.000001\n",
      "n             0.512195        0.000013\n",
      "o             0.674810        0.034805\n",
      "p             0.459403        0.034316\n",
      "r             0.656250        0.000009\n",
      "s             0.549457        0.117008\n",
      "t             0.722222        0.000012\n",
      "u             0.592593        0.000009\n",
      "w             0.500000        0.000012\n",
      "x             0.510165        0.460863\n",
      "y             0.636364        0.000011\n",
      "z             1.000000        0.000006 \n",
      "\n",
      "\n",
      "Summary for cap-surface:\n",
      "              Target_mean  category_ratio\n",
      "cap-surface                             \n",
      "a               0.681818        0.000014\n",
      "b               0.388889        0.000006\n",
      "c               0.645161        0.000010\n",
      "d               0.587883        0.066316\n",
      "e               0.478432        0.038428\n",
      "f               0.613333        0.000025\n",
      "g               0.597185        0.084673\n",
      "h               0.470129        0.091281\n",
      "i               0.821915        0.036384\n",
      "k               0.901556        0.041371\n",
      "l               0.428810        0.014430\n",
      "m               0.428571        0.000013\n",
      "n               0.562500        0.000028\n",
      "o               0.794872        0.000015\n",
      "p               0.728814        0.000020\n",
      "r               0.914286        0.000012\n",
      "s               0.369343        0.123613\n",
      "t               0.566170        0.362984\n",
      "u               0.469388        0.000013\n",
      "w               0.654033        0.035217\n",
      "x               0.636364        0.000012\n",
      "y               0.461983        0.105134\n",
      "z               0.875000        0.000003 \n",
      "\n",
      "\n",
      "Summary for cap-color:\n",
      "            Target_mean  category_ratio\n",
      "cap-color                             \n",
      "a             0.533333        0.000013\n",
      "b             0.126042        0.019654\n",
      "c             0.571429        0.000005\n",
      "d             0.375000        0.000017\n",
      "e             0.793249        0.063295\n",
      "f             0.509434        0.000019\n",
      "g             0.411920        0.067664\n",
      "h             0.590909        0.000007\n",
      "i             0.769231        0.000006\n",
      "k             0.598484        0.019154\n",
      "l             0.489282        0.012670\n",
      "m             0.714286        0.000004\n",
      "n             0.490914        0.435809\n",
      "o             0.717261        0.057481\n",
      "p             0.689932        0.029457\n",
      "r             0.906935        0.025028\n",
      "s             0.487179        0.000011\n",
      "t             0.692308        0.000008\n",
      "u             0.539318        0.023492\n",
      "w             0.497059        0.121905\n",
      "x             0.357143        0.000005\n",
      "y             0.622949        0.124293\n",
      "z             1.000000        0.000003 \n",
      "\n",
      "\n",
      "Summary for does-bruise-or-bleed:\n",
      "                       Target_mean  category_ratio\n",
      "does-bruise-or-bleed                             \n",
      "a                        0.857143    1.732465e-06\n",
      "b                        0.428571    1.732465e-06\n",
      "c                        0.727273    2.694946e-06\n",
      "d                        0.500000    7.699846e-07\n",
      "e                        0.000000    1.347473e-06\n",
      "f                        0.555762    8.245436e-01\n",
      "g                        0.000000    1.154977e-06\n",
      "h                        0.555556    2.502450e-06\n",
      "i                        1.000000    5.774885e-07\n",
      "k                        1.000000    1.732465e-06\n",
      "l                        0.500000    9.624808e-07\n",
      "m                             NaN    3.849923e-07\n",
      "n                        1.000000    1.154977e-06\n",
      "o                        0.666667    1.154977e-06\n",
      "p                        0.750000    1.732465e-06\n",
      "r                        0.000000    3.849923e-07\n",
      "s                        0.333333    2.502450e-06\n",
      "t                        0.506623    1.754241e-01\n",
      "u                        1.000000    1.924962e-07\n",
      "w                        0.357143    4.042419e-06\n",
      "x                        0.571429    3.464931e-06\n",
      "y                        0.285714    1.539969e-06\n",
      "z                        1.000000    5.774885e-07 \n",
      "\n",
      "\n",
      "Summary for gill-attachment:\n",
      "                  Target_mean  category_ratio\n",
      "gill-attachment                             \n",
      "a                   0.643037        0.375532\n",
      "b                   0.523810        0.000006\n",
      "c                   0.540541        0.000024\n",
      "d                   0.571377        0.188997\n",
      "e                   0.348965        0.096851\n",
      "f                   0.510458        0.038419\n",
      "g                   0.500000        0.000008\n",
      "h                   0.666667        0.000005\n",
      "i                   0.560000        0.000008\n",
      "k                   0.727273        0.000010\n",
      "l                   0.312500        0.000005\n",
      "m                   0.500000        0.000006\n",
      "n                   0.800000        0.000006\n",
      "o                   0.722222        0.000006\n",
      "p                   0.290735        0.089596\n",
      "r                   0.700000        0.000003\n",
      "s                   0.589157        0.094654\n",
      "t                   0.611111        0.000012\n",
      "u                   0.607143        0.000018\n",
      "w                   0.432432        0.000012\n",
      "x                   0.538451        0.115813\n",
      "y                   0.535714        0.000008\n",
      "z                   1.000000        0.000002 \n",
      "\n",
      "\n",
      "Summary for gill-spacing:\n",
      "               Target_mean  category_ratio\n",
      "gill-spacing                             \n",
      "a                0.647059    5.197396e-06\n",
      "b                0.416667    3.657427e-06\n",
      "c                0.571666    8.308344e-01\n",
      "d                0.402246    1.309007e-01\n",
      "e                0.583333    6.737365e-06\n",
      "f                0.510169    3.823031e-02\n",
      "g                0.750000    1.347473e-06\n",
      "h                0.333333    5.774885e-07\n",
      "i                1.000000    3.849923e-07\n",
      "k                1.000000    9.624808e-07\n",
      "l                0.333333    5.774885e-07\n",
      "m                     NaN    3.849923e-07\n",
      "n                1.000000    1.924962e-07\n",
      "p                0.428571    2.309954e-06\n",
      "r                0.500000    5.774885e-07\n",
      "s                0.562500    5.004900e-06\n",
      "t                0.625000    1.924962e-06\n",
      "w                0.000000    9.624808e-07\n",
      "x                0.375000    2.694946e-06\n",
      "y                0.500000    1.154977e-06 \n",
      "\n",
      "\n",
      "Summary for gill-color:\n",
      "             Target_mean  category_ratio\n",
      "gill-color                             \n",
      "a              0.500000        0.000009\n",
      "b              0.281711        0.015097\n",
      "c              0.677419        0.000011\n",
      "d              0.592593        0.000018\n",
      "e              0.698557        0.017994\n",
      "f              0.509875        0.038341\n",
      "g              0.480996        0.068083\n",
      "h              0.583333        0.000007\n",
      "i              0.888889        0.000003\n",
      "k              0.577378        0.041065\n",
      "l              0.472727        0.000018\n",
      "m              0.750000        0.000004\n",
      "n              0.714879        0.174316\n",
      "o              0.517379        0.050466\n",
      "p              0.590209        0.110258\n",
      "r              0.713913        0.020077\n",
      "s              0.456522        0.000015\n",
      "t              0.629630        0.000015\n",
      "u              0.602436        0.014530\n",
      "w              0.428453        0.298856\n",
      "x              0.542857        0.000012\n",
      "y              0.579043        0.150801\n",
      "z              0.937500        0.000005 \n",
      "\n",
      "\n",
      "Summary for stem-surface:\n",
      "               Target_mean  category_ratio\n",
      "stem-surface                             \n",
      "a                0.545455    3.272435e-06\n",
      "b                0.478261    5.197396e-06\n",
      "c                0.727273    6.159877e-06\n",
      "d                0.500000    1.713216e-05\n",
      "e                0.500000    1.135727e-05\n",
      "f                0.990234    1.582318e-04\n",
      "g                0.996107    2.501064e-02\n",
      "h                0.996358    9.075039e-03\n",
      "i                0.638549    7.190463e-02\n",
      "k                0.697955    2.357269e-02\n",
      "l                0.500000    5.389892e-06\n",
      "m                0.285714    2.117458e-06\n",
      "n                0.676471    8.854823e-06\n",
      "o                0.733333    4.812404e-06\n",
      "p                0.650000    5.582388e-06\n",
      "r                1.000000    7.699846e-06\n",
      "s                0.496036    7.408295e-01\n",
      "t                0.541257    4.753808e-02\n",
      "u                0.812500    5.582388e-06\n",
      "w                0.571429    1.655467e-05\n",
      "x                0.653846    7.122358e-06\n",
      "y                0.700759    8.180355e-02\n",
      "z                1.000000    7.699846e-07 \n",
      "\n",
      "\n",
      "Summary for stem-color:\n",
      "             Target_mean  category_ratio\n",
      "stem-color                             \n",
      "a              0.750000        0.000011\n",
      "b              0.005567        0.002360\n",
      "c              0.857143        0.000003\n",
      "d              0.500000        0.000005\n",
      "e              0.701295        0.033143\n",
      "f              0.980803        0.000179\n",
      "g              0.391421        0.042392\n",
      "h              0.666667        0.000005\n",
      "i              0.736842        0.000008\n",
      "k              0.786792        0.010751\n",
      "l              0.556834        0.003178\n",
      "m              0.363636        0.000003\n",
      "n              0.610928        0.321780\n",
      "o              0.596660        0.035927\n",
      "p              0.886359        0.017526\n",
      "r              0.855345        0.007168\n",
      "s              0.607843        0.000017\n",
      "t              0.575000        0.000012\n",
      "u              0.625453        0.021521\n",
      "w              0.417713        0.383863\n",
      "x              0.650000        0.000007\n",
      "y              0.693776        0.120139\n",
      "z              1.000000        0.000002 \n",
      "\n",
      "\n",
      "Summary for has-ring:\n",
      "           Target_mean  category_ratio\n",
      "has-ring                             \n",
      "a            1.000000    9.624808e-07\n",
      "b                 NaN    3.849923e-07\n",
      "c            0.818182    3.849923e-06\n",
      "d            0.333333    1.539969e-06\n",
      "e            0.666667    3.849923e-06\n",
      "f            0.533254    7.597742e-01\n",
      "g            0.375000    3.272435e-06\n",
      "h            0.769231    4.042419e-06\n",
      "i            1.000000    5.774885e-07\n",
      "k            1.000000    5.774885e-07\n",
      "l            0.181818    3.079938e-06\n",
      "m            0.000000    1.154977e-06\n",
      "n            0.000000    3.849923e-07\n",
      "o            1.000000    7.699846e-07\n",
      "p            0.454545    3.079938e-06\n",
      "r            0.437500    5.197396e-06\n",
      "s            0.545455    2.887442e-06\n",
      "t            0.591104    2.401853e-01\n",
      "u                 NaN    1.924962e-07\n",
      "w            0.000000    3.849923e-07\n",
      "x            0.400000    1.539969e-06\n",
      "y            1.000000    9.624808e-07\n",
      "z            1.000000    1.732465e-06 \n",
      "\n",
      "\n",
      "Summary for ring-type:\n",
      "            Target_mean  category_ratio\n",
      "ring-type                             \n",
      "a             0.562500        0.000006\n",
      "b             0.344828        0.000008\n",
      "c             0.636364        0.000005\n",
      "d             0.513514        0.000012\n",
      "e             0.579404        0.038567\n",
      "f             0.539246        0.835912\n",
      "g             0.421467        0.020435\n",
      "h             0.533333        0.000004\n",
      "i             0.000000        0.000002\n",
      "k             0.777778        0.000004\n",
      "l             0.387961        0.023540\n",
      "m             0.013778        0.001286\n",
      "n             0.647059        0.000010\n",
      "o             0.777778        0.000003\n",
      "p             0.514140        0.021816\n",
      "r             0.394822        0.021812\n",
      "s             0.444444        0.000006\n",
      "t             0.551020        0.000028\n",
      "u             0.923077        0.000005\n",
      "w             0.357143        0.000006\n",
      "x             0.468750        0.000010\n",
      "y             0.680000        0.000008\n",
      "z             0.996159        0.036516 \n",
      "\n",
      "\n",
      "Summary for habitat:\n",
      "          Target_mean  category_ratio\n",
      "habitat                             \n",
      "a           0.500000        0.000010\n",
      "b           0.555556        0.000006\n",
      "c           0.653846        0.000008\n",
      "d           0.528838        0.698401\n",
      "e           0.218182        0.000015\n",
      "f           0.636364        0.000004\n",
      "g           0.674602        0.146145\n",
      "h           0.669144        0.038532\n",
      "i           0.571429        0.000002\n",
      "k           0.903226        0.000010\n",
      "l           0.394922        0.055121\n",
      "m           0.537614        0.048553\n",
      "n           0.512195        0.000013\n",
      "o           0.833333        0.000004\n",
      "p           0.996217        0.005507\n",
      "r           0.868421        0.000011\n",
      "s           0.211538        0.000018\n",
      "t           0.500000        0.000014\n",
      "u           0.008169        0.001674\n",
      "w           0.004371        0.005939\n",
      "x           0.400000        0.000003\n",
      "y           0.470588        0.000008\n",
      "z           0.800000        0.000001 \n",
      "\n",
      "\n",
      "Summary for season:\n",
      "         Target_mean  category_ratio\n",
      "season                             \n",
      "a          0.571586        0.495178\n",
      "s          0.388299        0.045522\n",
      "u          0.582461        0.369950\n",
      "w          0.346009        0.089350 \n",
      "\n",
      "\n"
     ]
    }
   ],
   "source": [
    "def target_summary_with_cat(dataframe,target,categorical_col) :\n",
    "    target_mean=dataframe.groupby(categorical_col)[target].mean()\n",
    "    category_ratio=dataframe[categorical_col].value_counts(normalize=True)\n",
    "    summary_df=pd.DataFrame({'Target_mean':target_mean , 'category_ratio' : category_ratio})\n",
    "    summary_df.sort_values(by='category_ratio', ascending=False)\n",
    "    return summary_df\n",
    "for col in cat_cols :\n",
    "    summary_df=target_summary_with_cat(df,\"class\",col)\n",
    "    print(f\"Summary for {col}:\\n\", summary_df, \"\\n\\n\")\n",
    "    "
   ]
  },
  {
   "cell_type": "markdown",
   "id": "4afa1e10",
   "metadata": {
    "papermill": {
     "duration": 0.039131,
     "end_time": "2024-08-14T22:06:28.715745",
     "exception": false,
     "start_time": "2024-08-14T22:06:28.676614",
     "status": "completed"
    },
    "tags": []
   },
   "source": [
    "# Rare encoding : \n"
   ]
  },
  {
   "cell_type": "code",
   "execution_count": 36,
   "id": "50e1f8e0",
   "metadata": {
    "execution": {
     "iopub.execute_input": "2024-08-14T22:06:28.798451Z",
     "iopub.status.busy": "2024-08-14T22:06:28.798033Z",
     "iopub.status.idle": "2024-08-14T22:06:59.309259Z",
     "shell.execute_reply": "2024-08-14T22:06:59.308265Z"
    },
    "papermill": {
     "duration": 30.555541,
     "end_time": "2024-08-14T22:06:59.311868",
     "exception": false,
     "start_time": "2024-08-14T22:06:28.756327",
     "status": "completed"
    },
    "tags": []
   },
   "outputs": [],
   "source": [
    "def rare_encoder(dataframe,rare_perc) : \n",
    "    temp_df=dataframe.copy() \n",
    "    \n",
    "    rare_columns=[col for col in temp_df.columns if temp_df[col].dtypes=='O' and \n",
    "                  ( temp_df[col].value_counts()/len(temp_df) < rare_perc ).any(axis=None)]\n",
    "    for var in rare_columns :\n",
    "        tmp=temp_df[var].value_counts() / len(temp_df)\n",
    "        rare_labels = tmp[tmp < rare_perc].index\n",
    "        temp_df[var]=np.where(temp_df[var].isin(rare_labels),'Rare',temp_df[var])\n",
    "    return temp_df\n",
    "df= rare_encoder(df,0.01)"
   ]
  },
  {
   "cell_type": "code",
   "execution_count": 37,
   "id": "eec00076",
   "metadata": {
    "execution": {
     "iopub.execute_input": "2024-08-14T22:06:59.395675Z",
     "iopub.status.busy": "2024-08-14T22:06:59.394741Z",
     "iopub.status.idle": "2024-08-14T22:06:59.418714Z",
     "shell.execute_reply": "2024-08-14T22:06:59.417494Z"
    },
    "papermill": {
     "duration": 0.068453,
     "end_time": "2024-08-14T22:06:59.421144",
     "exception": false,
     "start_time": "2024-08-14T22:06:59.352691",
     "status": "completed"
    },
    "tags": []
   },
   "outputs": [
    {
     "data": {
      "text/html": [
       "<div>\n",
       "<style scoped>\n",
       "    .dataframe tbody tr th:only-of-type {\n",
       "        vertical-align: middle;\n",
       "    }\n",
       "\n",
       "    .dataframe tbody tr th {\n",
       "        vertical-align: top;\n",
       "    }\n",
       "\n",
       "    .dataframe thead th {\n",
       "        text-align: right;\n",
       "    }\n",
       "</style>\n",
       "<table border=\"1\" class=\"dataframe\">\n",
       "  <thead>\n",
       "    <tr style=\"text-align: right;\">\n",
       "      <th></th>\n",
       "      <th>id</th>\n",
       "      <th>class</th>\n",
       "      <th>cap-diameter</th>\n",
       "      <th>cap-shape</th>\n",
       "      <th>cap-surface</th>\n",
       "      <th>cap-color</th>\n",
       "      <th>does-bruise-or-bleed</th>\n",
       "      <th>gill-attachment</th>\n",
       "      <th>gill-spacing</th>\n",
       "      <th>gill-color</th>\n",
       "      <th>stem-height</th>\n",
       "      <th>stem-width</th>\n",
       "      <th>stem-surface</th>\n",
       "      <th>stem-color</th>\n",
       "      <th>has-ring</th>\n",
       "      <th>ring-type</th>\n",
       "      <th>habitat</th>\n",
       "      <th>season</th>\n",
       "      <th>dataset</th>\n",
       "    </tr>\n",
       "  </thead>\n",
       "  <tbody>\n",
       "    <tr>\n",
       "      <th>0</th>\n",
       "      <td>0</td>\n",
       "      <td>0.0</td>\n",
       "      <td>8.80</td>\n",
       "      <td>f</td>\n",
       "      <td>s</td>\n",
       "      <td>u</td>\n",
       "      <td>f</td>\n",
       "      <td>a</td>\n",
       "      <td>c</td>\n",
       "      <td>w</td>\n",
       "      <td>4.51</td>\n",
       "      <td>15.39</td>\n",
       "      <td>s</td>\n",
       "      <td>w</td>\n",
       "      <td>f</td>\n",
       "      <td>f</td>\n",
       "      <td>d</td>\n",
       "      <td>a</td>\n",
       "      <td>train</td>\n",
       "    </tr>\n",
       "    <tr>\n",
       "      <th>1</th>\n",
       "      <td>1</td>\n",
       "      <td>1.0</td>\n",
       "      <td>4.51</td>\n",
       "      <td>x</td>\n",
       "      <td>h</td>\n",
       "      <td>o</td>\n",
       "      <td>f</td>\n",
       "      <td>a</td>\n",
       "      <td>c</td>\n",
       "      <td>n</td>\n",
       "      <td>4.79</td>\n",
       "      <td>6.48</td>\n",
       "      <td>y</td>\n",
       "      <td>o</td>\n",
       "      <td>t</td>\n",
       "      <td>z</td>\n",
       "      <td>d</td>\n",
       "      <td>w</td>\n",
       "      <td>train</td>\n",
       "    </tr>\n",
       "    <tr>\n",
       "      <th>2</th>\n",
       "      <td>2</td>\n",
       "      <td>0.0</td>\n",
       "      <td>6.94</td>\n",
       "      <td>f</td>\n",
       "      <td>s</td>\n",
       "      <td>b</td>\n",
       "      <td>f</td>\n",
       "      <td>x</td>\n",
       "      <td>c</td>\n",
       "      <td>w</td>\n",
       "      <td>6.85</td>\n",
       "      <td>9.93</td>\n",
       "      <td>s</td>\n",
       "      <td>n</td>\n",
       "      <td>f</td>\n",
       "      <td>f</td>\n",
       "      <td>l</td>\n",
       "      <td>w</td>\n",
       "      <td>train</td>\n",
       "    </tr>\n",
       "    <tr>\n",
       "      <th>3</th>\n",
       "      <td>3</td>\n",
       "      <td>0.0</td>\n",
       "      <td>3.88</td>\n",
       "      <td>f</td>\n",
       "      <td>y</td>\n",
       "      <td>g</td>\n",
       "      <td>f</td>\n",
       "      <td>s</td>\n",
       "      <td>c</td>\n",
       "      <td>g</td>\n",
       "      <td>4.16</td>\n",
       "      <td>6.53</td>\n",
       "      <td>s</td>\n",
       "      <td>w</td>\n",
       "      <td>f</td>\n",
       "      <td>f</td>\n",
       "      <td>d</td>\n",
       "      <td>u</td>\n",
       "      <td>train</td>\n",
       "    </tr>\n",
       "    <tr>\n",
       "      <th>4</th>\n",
       "      <td>4</td>\n",
       "      <td>0.0</td>\n",
       "      <td>5.85</td>\n",
       "      <td>x</td>\n",
       "      <td>l</td>\n",
       "      <td>w</td>\n",
       "      <td>f</td>\n",
       "      <td>d</td>\n",
       "      <td>c</td>\n",
       "      <td>w</td>\n",
       "      <td>3.37</td>\n",
       "      <td>8.36</td>\n",
       "      <td>s</td>\n",
       "      <td>w</td>\n",
       "      <td>f</td>\n",
       "      <td>f</td>\n",
       "      <td>g</td>\n",
       "      <td>a</td>\n",
       "      <td>train</td>\n",
       "    </tr>\n",
       "  </tbody>\n",
       "</table>\n",
       "</div>"
      ],
      "text/plain": [
       "   id  class  cap-diameter cap-shape cap-surface cap-color does-bruise-or-bleed gill-attachment gill-spacing gill-color  stem-height  stem-width stem-surface stem-color has-ring ring-type habitat season dataset\n",
       "0   0    0.0          8.80         f           s         u                    f               a            c          w         4.51       15.39            s          w        f         f       d      a   train\n",
       "1   1    1.0          4.51         x           h         o                    f               a            c          n         4.79        6.48            y          o        t         z       d      w   train\n",
       "2   2    0.0          6.94         f           s         b                    f               x            c          w         6.85        9.93            s          n        f         f       l      w   train\n",
       "3   3    0.0          3.88         f           y         g                    f               s            c          g         4.16        6.53            s          w        f         f       d      u   train\n",
       "4   4    0.0          5.85         x           l         w                    f               d            c          w         3.37        8.36            s          w        f         f       g      a   train"
      ]
     },
     "execution_count": 37,
     "metadata": {},
     "output_type": "execute_result"
    }
   ],
   "source": [
    "df.head()"
   ]
  },
  {
   "cell_type": "code",
   "execution_count": 38,
   "id": "9fd37fcd",
   "metadata": {
    "execution": {
     "iopub.execute_input": "2024-08-14T22:06:59.503561Z",
     "iopub.status.busy": "2024-08-14T22:06:59.503132Z",
     "iopub.status.idle": "2024-08-14T22:07:06.256852Z",
     "shell.execute_reply": "2024-08-14T22:07:06.255749Z"
    },
    "papermill": {
     "duration": 6.797329,
     "end_time": "2024-08-14T22:07:06.259326",
     "exception": false,
     "start_time": "2024-08-14T22:06:59.461997",
     "status": "completed"
    },
    "tags": []
   },
   "outputs": [
    {
     "data": {
      "text/plain": [
       "cap-shape                8\n",
       "cap-surface             12\n",
       "cap-color               13\n",
       "does-bruise-or-bleed     3\n",
       "gill-attachment          8\n",
       "gill-spacing             4\n",
       "gill-color              13\n",
       "stem-surface             7\n",
       "stem-color              10\n",
       "has-ring                 3\n",
       "ring-type                8\n",
       "habitat                  6\n",
       "season                   4\n",
       "dtype: int64"
      ]
     },
     "execution_count": 38,
     "metadata": {},
     "output_type": "execute_result"
    }
   ],
   "source": [
    "df[cat_cols].nunique()"
   ]
  },
  {
   "cell_type": "markdown",
   "id": "d4f464ef",
   "metadata": {
    "papermill": {
     "duration": 0.040183,
     "end_time": "2024-08-14T22:07:06.340523",
     "exception": false,
     "start_time": "2024-08-14T22:07:06.300340",
     "status": "completed"
    },
    "tags": []
   },
   "source": [
    "* As can be seen, a significant reduction in the number of classes for variables with a data type of object has been observed."
   ]
  },
  {
   "cell_type": "markdown",
   "id": "da11e422",
   "metadata": {
    "papermill": {
     "duration": 0.041258,
     "end_time": "2024-08-14T22:07:06.422583",
     "exception": false,
     "start_time": "2024-08-14T22:07:06.381325",
     "status": "completed"
    },
    "tags": []
   },
   "source": [
    "* To avoid prolonging the model training time, we have set the threshold value to 5.\n",
    "* For categorical variables with fewer than 5 unique classes, we will use one-hot encoding.\n",
    "* For categorical variables with 5 or more unique classes, we will use label encoding."
   ]
  },
  {
   "cell_type": "code",
   "execution_count": 39,
   "id": "4c95665c",
   "metadata": {
    "execution": {
     "iopub.execute_input": "2024-08-14T22:07:06.505967Z",
     "iopub.status.busy": "2024-08-14T22:07:06.504974Z",
     "iopub.status.idle": "2024-08-14T22:07:13.280865Z",
     "shell.execute_reply": "2024-08-14T22:07:13.279633Z"
    },
    "papermill": {
     "duration": 6.820578,
     "end_time": "2024-08-14T22:07:13.283640",
     "exception": false,
     "start_time": "2024-08-14T22:07:06.463062",
     "status": "completed"
    },
    "tags": []
   },
   "outputs": [],
   "source": [
    "unique_counts=df[cat_cols].nunique()\n",
    "cat_cols_ohe=[col for col in cat_cols if unique_counts[col]<5]\n",
    "cat_cols_le=[col for col in cat_cols if unique_counts[col]>=5]"
   ]
  },
  {
   "cell_type": "markdown",
   "id": "42e47621",
   "metadata": {
    "papermill": {
     "duration": 0.040802,
     "end_time": "2024-08-14T22:07:13.365046",
     "exception": false,
     "start_time": "2024-08-14T22:07:13.324244",
     "status": "completed"
    },
    "tags": []
   },
   "source": [
    "# Label Encoding : "
   ]
  },
  {
   "cell_type": "code",
   "execution_count": 40,
   "id": "efa820da",
   "metadata": {
    "execution": {
     "iopub.execute_input": "2024-08-14T22:07:13.449394Z",
     "iopub.status.busy": "2024-08-14T22:07:13.448417Z",
     "iopub.status.idle": "2024-08-14T22:07:13.455324Z",
     "shell.execute_reply": "2024-08-14T22:07:13.454255Z"
    },
    "papermill": {
     "duration": 0.051239,
     "end_time": "2024-08-14T22:07:13.457743",
     "exception": false,
     "start_time": "2024-08-14T22:07:13.406504",
     "status": "completed"
    },
    "tags": []
   },
   "outputs": [
    {
     "data": {
      "text/plain": [
       "['cap-shape',\n",
       " 'cap-surface',\n",
       " 'cap-color',\n",
       " 'gill-attachment',\n",
       " 'gill-color',\n",
       " 'stem-surface',\n",
       " 'stem-color',\n",
       " 'ring-type',\n",
       " 'habitat']"
      ]
     },
     "execution_count": 40,
     "metadata": {},
     "output_type": "execute_result"
    }
   ],
   "source": [
    "cat_cols_le"
   ]
  },
  {
   "cell_type": "code",
   "execution_count": 41,
   "id": "f84524de",
   "metadata": {
    "execution": {
     "iopub.execute_input": "2024-08-14T22:07:13.540919Z",
     "iopub.status.busy": "2024-08-14T22:07:13.540502Z",
     "iopub.status.idle": "2024-08-14T22:07:25.906456Z",
     "shell.execute_reply": "2024-08-14T22:07:25.905241Z"
    },
    "papermill": {
     "duration": 12.410906,
     "end_time": "2024-08-14T22:07:25.909254",
     "exception": false,
     "start_time": "2024-08-14T22:07:13.498348",
     "status": "completed"
    },
    "tags": []
   },
   "outputs": [],
   "source": [
    "label_encoders = {}\n",
    "for col in cat_cols_le:\n",
    "    le = LabelEncoder()\n",
    "    df[col] = le.fit_transform(df[col])\n",
    "    label_encoders[col] = le"
   ]
  },
  {
   "cell_type": "markdown",
   "id": "ccc8dd1e",
   "metadata": {
    "papermill": {
     "duration": 0.04034,
     "end_time": "2024-08-14T22:07:25.990318",
     "exception": false,
     "start_time": "2024-08-14T22:07:25.949978",
     "status": "completed"
    },
    "tags": []
   },
   "source": [
    "# One Hot Encoding : "
   ]
  },
  {
   "cell_type": "code",
   "execution_count": 42,
   "id": "8d489199",
   "metadata": {
    "execution": {
     "iopub.execute_input": "2024-08-14T22:07:26.073202Z",
     "iopub.status.busy": "2024-08-14T22:07:26.072808Z",
     "iopub.status.idle": "2024-08-14T22:07:26.079782Z",
     "shell.execute_reply": "2024-08-14T22:07:26.078686Z"
    },
    "papermill": {
     "duration": 0.051383,
     "end_time": "2024-08-14T22:07:26.082251",
     "exception": false,
     "start_time": "2024-08-14T22:07:26.030868",
     "status": "completed"
    },
    "tags": []
   },
   "outputs": [
    {
     "data": {
      "text/plain": [
       "['does-bruise-or-bleed', 'gill-spacing', 'has-ring', 'season']"
      ]
     },
     "execution_count": 42,
     "metadata": {},
     "output_type": "execute_result"
    }
   ],
   "source": [
    "cat_cols_ohe"
   ]
  },
  {
   "cell_type": "code",
   "execution_count": 43,
   "id": "81ec050d",
   "metadata": {
    "execution": {
     "iopub.execute_input": "2024-08-14T22:07:26.165560Z",
     "iopub.status.busy": "2024-08-14T22:07:26.165137Z",
     "iopub.status.idle": "2024-08-14T22:07:26.170843Z",
     "shell.execute_reply": "2024-08-14T22:07:26.169772Z"
    },
    "papermill": {
     "duration": 0.05012,
     "end_time": "2024-08-14T22:07:26.173247",
     "exception": false,
     "start_time": "2024-08-14T22:07:26.123127",
     "status": "completed"
    },
    "tags": []
   },
   "outputs": [],
   "source": [
    "def one_hot_encoder(dataframe, categorical_cols, drop_first=True):\n",
    "    dataframe = pd.get_dummies(dataframe, columns=categorical_cols, drop_first=drop_first)\n",
    "    return dataframe"
   ]
  },
  {
   "cell_type": "code",
   "execution_count": 44,
   "id": "2846d2ab",
   "metadata": {
    "execution": {
     "iopub.execute_input": "2024-08-14T22:07:26.256503Z",
     "iopub.status.busy": "2024-08-14T22:07:26.255974Z",
     "iopub.status.idle": "2024-08-14T22:07:30.042562Z",
     "shell.execute_reply": "2024-08-14T22:07:30.041266Z"
    },
    "papermill": {
     "duration": 3.83127,
     "end_time": "2024-08-14T22:07:30.045329",
     "exception": false,
     "start_time": "2024-08-14T22:07:26.214059",
     "status": "completed"
    },
    "tags": []
   },
   "outputs": [],
   "source": [
    "df = one_hot_encoder(df, cat_cols_ohe)"
   ]
  },
  {
   "cell_type": "code",
   "execution_count": 45,
   "id": "b4fb45ee",
   "metadata": {
    "execution": {
     "iopub.execute_input": "2024-08-14T22:07:30.129227Z",
     "iopub.status.busy": "2024-08-14T22:07:30.128827Z",
     "iopub.status.idle": "2024-08-14T22:07:30.161765Z",
     "shell.execute_reply": "2024-08-14T22:07:30.160489Z"
    },
    "papermill": {
     "duration": 0.077264,
     "end_time": "2024-08-14T22:07:30.164158",
     "exception": false,
     "start_time": "2024-08-14T22:07:30.086894",
     "status": "completed"
    },
    "tags": []
   },
   "outputs": [
    {
     "data": {
      "text/html": [
       "<div>\n",
       "<style scoped>\n",
       "    .dataframe tbody tr th:only-of-type {\n",
       "        vertical-align: middle;\n",
       "    }\n",
       "\n",
       "    .dataframe tbody tr th {\n",
       "        vertical-align: top;\n",
       "    }\n",
       "\n",
       "    .dataframe thead th {\n",
       "        text-align: right;\n",
       "    }\n",
       "</style>\n",
       "<table border=\"1\" class=\"dataframe\">\n",
       "  <thead>\n",
       "    <tr style=\"text-align: right;\">\n",
       "      <th></th>\n",
       "      <th>id</th>\n",
       "      <th>class</th>\n",
       "      <th>cap-diameter</th>\n",
       "      <th>cap-shape</th>\n",
       "      <th>cap-surface</th>\n",
       "      <th>cap-color</th>\n",
       "      <th>gill-attachment</th>\n",
       "      <th>gill-color</th>\n",
       "      <th>stem-height</th>\n",
       "      <th>stem-width</th>\n",
       "      <th>stem-surface</th>\n",
       "      <th>stem-color</th>\n",
       "      <th>ring-type</th>\n",
       "      <th>habitat</th>\n",
       "      <th>dataset</th>\n",
       "      <th>does-bruise-or-bleed_f</th>\n",
       "      <th>does-bruise-or-bleed_t</th>\n",
       "      <th>gill-spacing_c</th>\n",
       "      <th>gill-spacing_d</th>\n",
       "      <th>gill-spacing_f</th>\n",
       "      <th>has-ring_f</th>\n",
       "      <th>has-ring_t</th>\n",
       "      <th>season_s</th>\n",
       "      <th>season_u</th>\n",
       "      <th>season_w</th>\n",
       "    </tr>\n",
       "  </thead>\n",
       "  <tbody>\n",
       "    <tr>\n",
       "      <th>0</th>\n",
       "      <td>0</td>\n",
       "      <td>0.0</td>\n",
       "      <td>8.80</td>\n",
       "      <td>3</td>\n",
       "      <td>8</td>\n",
       "      <td>10</td>\n",
       "      <td>1</td>\n",
       "      <td>11</td>\n",
       "      <td>4.51</td>\n",
       "      <td>15.39</td>\n",
       "      <td>4</td>\n",
       "      <td>8</td>\n",
       "      <td>2</td>\n",
       "      <td>1</td>\n",
       "      <td>train</td>\n",
       "      <td>True</td>\n",
       "      <td>False</td>\n",
       "      <td>True</td>\n",
       "      <td>False</td>\n",
       "      <td>False</td>\n",
       "      <td>True</td>\n",
       "      <td>False</td>\n",
       "      <td>False</td>\n",
       "      <td>False</td>\n",
       "      <td>False</td>\n",
       "    </tr>\n",
       "    <tr>\n",
       "      <th>1</th>\n",
       "      <td>1</td>\n",
       "      <td>1.0</td>\n",
       "      <td>4.51</td>\n",
       "      <td>7</td>\n",
       "      <td>4</td>\n",
       "      <td>7</td>\n",
       "      <td>1</td>\n",
       "      <td>6</td>\n",
       "      <td>4.79</td>\n",
       "      <td>6.48</td>\n",
       "      <td>6</td>\n",
       "      <td>5</td>\n",
       "      <td>7</td>\n",
       "      <td>1</td>\n",
       "      <td>train</td>\n",
       "      <td>True</td>\n",
       "      <td>False</td>\n",
       "      <td>True</td>\n",
       "      <td>False</td>\n",
       "      <td>False</td>\n",
       "      <td>False</td>\n",
       "      <td>True</td>\n",
       "      <td>False</td>\n",
       "      <td>False</td>\n",
       "      <td>True</td>\n",
       "    </tr>\n",
       "    <tr>\n",
       "      <th>2</th>\n",
       "      <td>2</td>\n",
       "      <td>0.0</td>\n",
       "      <td>6.94</td>\n",
       "      <td>3</td>\n",
       "      <td>8</td>\n",
       "      <td>1</td>\n",
       "      <td>7</td>\n",
       "      <td>11</td>\n",
       "      <td>6.85</td>\n",
       "      <td>9.93</td>\n",
       "      <td>4</td>\n",
       "      <td>4</td>\n",
       "      <td>2</td>\n",
       "      <td>4</td>\n",
       "      <td>train</td>\n",
       "      <td>True</td>\n",
       "      <td>False</td>\n",
       "      <td>True</td>\n",
       "      <td>False</td>\n",
       "      <td>False</td>\n",
       "      <td>True</td>\n",
       "      <td>False</td>\n",
       "      <td>False</td>\n",
       "      <td>False</td>\n",
       "      <td>True</td>\n",
       "    </tr>\n",
       "    <tr>\n",
       "      <th>3</th>\n",
       "      <td>3</td>\n",
       "      <td>0.0</td>\n",
       "      <td>3.88</td>\n",
       "      <td>3</td>\n",
       "      <td>11</td>\n",
       "      <td>3</td>\n",
       "      <td>6</td>\n",
       "      <td>4</td>\n",
       "      <td>4.16</td>\n",
       "      <td>6.53</td>\n",
       "      <td>4</td>\n",
       "      <td>8</td>\n",
       "      <td>2</td>\n",
       "      <td>1</td>\n",
       "      <td>train</td>\n",
       "      <td>True</td>\n",
       "      <td>False</td>\n",
       "      <td>True</td>\n",
       "      <td>False</td>\n",
       "      <td>False</td>\n",
       "      <td>True</td>\n",
       "      <td>False</td>\n",
       "      <td>False</td>\n",
       "      <td>True</td>\n",
       "      <td>False</td>\n",
       "    </tr>\n",
       "    <tr>\n",
       "      <th>4</th>\n",
       "      <td>4</td>\n",
       "      <td>0.0</td>\n",
       "      <td>5.85</td>\n",
       "      <td>7</td>\n",
       "      <td>7</td>\n",
       "      <td>11</td>\n",
       "      <td>2</td>\n",
       "      <td>11</td>\n",
       "      <td>3.37</td>\n",
       "      <td>8.36</td>\n",
       "      <td>4</td>\n",
       "      <td>8</td>\n",
       "      <td>2</td>\n",
       "      <td>2</td>\n",
       "      <td>train</td>\n",
       "      <td>True</td>\n",
       "      <td>False</td>\n",
       "      <td>True</td>\n",
       "      <td>False</td>\n",
       "      <td>False</td>\n",
       "      <td>True</td>\n",
       "      <td>False</td>\n",
       "      <td>False</td>\n",
       "      <td>False</td>\n",
       "      <td>False</td>\n",
       "    </tr>\n",
       "    <tr>\n",
       "      <th>...</th>\n",
       "      <td>...</td>\n",
       "      <td>...</td>\n",
       "      <td>...</td>\n",
       "      <td>...</td>\n",
       "      <td>...</td>\n",
       "      <td>...</td>\n",
       "      <td>...</td>\n",
       "      <td>...</td>\n",
       "      <td>...</td>\n",
       "      <td>...</td>\n",
       "      <td>...</td>\n",
       "      <td>...</td>\n",
       "      <td>...</td>\n",
       "      <td>...</td>\n",
       "      <td>...</td>\n",
       "      <td>...</td>\n",
       "      <td>...</td>\n",
       "      <td>...</td>\n",
       "      <td>...</td>\n",
       "      <td>...</td>\n",
       "      <td>...</td>\n",
       "      <td>...</td>\n",
       "      <td>...</td>\n",
       "      <td>...</td>\n",
       "      <td>...</td>\n",
       "    </tr>\n",
       "    <tr>\n",
       "      <th>2077959</th>\n",
       "      <td>5194904</td>\n",
       "      <td>NaN</td>\n",
       "      <td>0.88</td>\n",
       "      <td>7</td>\n",
       "      <td>3</td>\n",
       "      <td>11</td>\n",
       "      <td>1</td>\n",
       "      <td>11</td>\n",
       "      <td>2.67</td>\n",
       "      <td>1.35</td>\n",
       "      <td>4</td>\n",
       "      <td>1</td>\n",
       "      <td>2</td>\n",
       "      <td>1</td>\n",
       "      <td>test</td>\n",
       "      <td>True</td>\n",
       "      <td>False</td>\n",
       "      <td>False</td>\n",
       "      <td>True</td>\n",
       "      <td>False</td>\n",
       "      <td>True</td>\n",
       "      <td>False</td>\n",
       "      <td>False</td>\n",
       "      <td>True</td>\n",
       "      <td>False</td>\n",
       "    </tr>\n",
       "    <tr>\n",
       "      <th>2077960</th>\n",
       "      <td>5194905</td>\n",
       "      <td>NaN</td>\n",
       "      <td>3.12</td>\n",
       "      <td>7</td>\n",
       "      <td>8</td>\n",
       "      <td>11</td>\n",
       "      <td>2</td>\n",
       "      <td>11</td>\n",
       "      <td>2.69</td>\n",
       "      <td>7.38</td>\n",
       "      <td>4</td>\n",
       "      <td>8</td>\n",
       "      <td>2</td>\n",
       "      <td>2</td>\n",
       "      <td>test</td>\n",
       "      <td>True</td>\n",
       "      <td>False</td>\n",
       "      <td>True</td>\n",
       "      <td>False</td>\n",
       "      <td>False</td>\n",
       "      <td>True</td>\n",
       "      <td>False</td>\n",
       "      <td>False</td>\n",
       "      <td>False</td>\n",
       "      <td>False</td>\n",
       "    </tr>\n",
       "    <tr>\n",
       "      <th>2077961</th>\n",
       "      <td>5194906</td>\n",
       "      <td>NaN</td>\n",
       "      <td>5.73</td>\n",
       "      <td>7</td>\n",
       "      <td>2</td>\n",
       "      <td>2</td>\n",
       "      <td>1</td>\n",
       "      <td>11</td>\n",
       "      <td>6.16</td>\n",
       "      <td>9.74</td>\n",
       "      <td>4</td>\n",
       "      <td>9</td>\n",
       "      <td>7</td>\n",
       "      <td>1</td>\n",
       "      <td>test</td>\n",
       "      <td>True</td>\n",
       "      <td>False</td>\n",
       "      <td>True</td>\n",
       "      <td>False</td>\n",
       "      <td>False</td>\n",
       "      <td>False</td>\n",
       "      <td>True</td>\n",
       "      <td>False</td>\n",
       "      <td>False</td>\n",
       "      <td>False</td>\n",
       "    </tr>\n",
       "    <tr>\n",
       "      <th>2077962</th>\n",
       "      <td>5194907</td>\n",
       "      <td>NaN</td>\n",
       "      <td>5.03</td>\n",
       "      <td>1</td>\n",
       "      <td>3</td>\n",
       "      <td>6</td>\n",
       "      <td>1</td>\n",
       "      <td>4</td>\n",
       "      <td>6.00</td>\n",
       "      <td>3.46</td>\n",
       "      <td>4</td>\n",
       "      <td>2</td>\n",
       "      <td>2</td>\n",
       "      <td>1</td>\n",
       "      <td>test</td>\n",
       "      <td>True</td>\n",
       "      <td>False</td>\n",
       "      <td>False</td>\n",
       "      <td>True</td>\n",
       "      <td>False</td>\n",
       "      <td>True</td>\n",
       "      <td>False</td>\n",
       "      <td>False</td>\n",
       "      <td>False</td>\n",
       "      <td>False</td>\n",
       "    </tr>\n",
       "    <tr>\n",
       "      <th>2077963</th>\n",
       "      <td>5194908</td>\n",
       "      <td>NaN</td>\n",
       "      <td>15.51</td>\n",
       "      <td>3</td>\n",
       "      <td>9</td>\n",
       "      <td>11</td>\n",
       "      <td>2</td>\n",
       "      <td>12</td>\n",
       "      <td>2.69</td>\n",
       "      <td>17.71</td>\n",
       "      <td>4</td>\n",
       "      <td>8</td>\n",
       "      <td>2</td>\n",
       "      <td>1</td>\n",
       "      <td>test</td>\n",
       "      <td>True</td>\n",
       "      <td>False</td>\n",
       "      <td>True</td>\n",
       "      <td>False</td>\n",
       "      <td>False</td>\n",
       "      <td>True</td>\n",
       "      <td>False</td>\n",
       "      <td>False</td>\n",
       "      <td>False</td>\n",
       "      <td>True</td>\n",
       "    </tr>\n",
       "  </tbody>\n",
       "</table>\n",
       "<p>5194909 rows × 25 columns</p>\n",
       "</div>"
      ],
      "text/plain": [
       "              id  class  cap-diameter  cap-shape  cap-surface  cap-color  gill-attachment  gill-color  stem-height  stem-width  stem-surface  stem-color  ring-type  habitat dataset  does-bruise-or-bleed_f  does-bruise-or-bleed_t  gill-spacing_c  gill-spacing_d  gill-spacing_f  has-ring_f  has-ring_t  season_s  season_u  season_w\n",
       "0              0    0.0          8.80          3            8         10                1          11         4.51       15.39             4           8          2        1   train                    True                   False            True           False           False        True       False     False     False     False\n",
       "1              1    1.0          4.51          7            4          7                1           6         4.79        6.48             6           5          7        1   train                    True                   False            True           False           False       False        True     False     False      True\n",
       "2              2    0.0          6.94          3            8          1                7          11         6.85        9.93             4           4          2        4   train                    True                   False            True           False           False        True       False     False     False      True\n",
       "3              3    0.0          3.88          3           11          3                6           4         4.16        6.53             4           8          2        1   train                    True                   False            True           False           False        True       False     False      True     False\n",
       "4              4    0.0          5.85          7            7         11                2          11         3.37        8.36             4           8          2        2   train                    True                   False            True           False           False        True       False     False     False     False\n",
       "...          ...    ...           ...        ...          ...        ...              ...         ...          ...         ...           ...         ...        ...      ...     ...                     ...                     ...             ...             ...             ...         ...         ...       ...       ...       ...\n",
       "2077959  5194904    NaN          0.88          7            3         11                1          11         2.67        1.35             4           1          2        1    test                    True                   False           False            True           False        True       False     False      True     False\n",
       "2077960  5194905    NaN          3.12          7            8         11                2          11         2.69        7.38             4           8          2        2    test                    True                   False            True           False           False        True       False     False     False     False\n",
       "2077961  5194906    NaN          5.73          7            2          2                1          11         6.16        9.74             4           9          7        1    test                    True                   False            True           False           False       False        True     False     False     False\n",
       "2077962  5194907    NaN          5.03          1            3          6                1           4         6.00        3.46             4           2          2        1    test                    True                   False           False            True           False        True       False     False     False     False\n",
       "2077963  5194908    NaN         15.51          3            9         11                2          12         2.69       17.71             4           8          2        1    test                    True                   False            True           False           False        True       False     False     False      True\n",
       "\n",
       "[5194909 rows x 25 columns]"
      ]
     },
     "execution_count": 45,
     "metadata": {},
     "output_type": "execute_result"
    }
   ],
   "source": [
    "df"
   ]
  },
  {
   "cell_type": "code",
   "execution_count": 46,
   "id": "82721cef",
   "metadata": {
    "execution": {
     "iopub.execute_input": "2024-08-14T22:07:30.249251Z",
     "iopub.status.busy": "2024-08-14T22:07:30.248869Z",
     "iopub.status.idle": "2024-08-14T22:07:32.962117Z",
     "shell.execute_reply": "2024-08-14T22:07:32.960973Z"
    },
    "papermill": {
     "duration": 2.758717,
     "end_time": "2024-08-14T22:07:32.964897",
     "exception": false,
     "start_time": "2024-08-14T22:07:30.206180",
     "status": "completed"
    },
    "tags": []
   },
   "outputs": [
    {
     "data": {
      "text/html": [
       "<div>\n",
       "<style scoped>\n",
       "    .dataframe tbody tr th:only-of-type {\n",
       "        vertical-align: middle;\n",
       "    }\n",
       "\n",
       "    .dataframe tbody tr th {\n",
       "        vertical-align: top;\n",
       "    }\n",
       "\n",
       "    .dataframe thead th {\n",
       "        text-align: right;\n",
       "    }\n",
       "</style>\n",
       "<table border=\"1\" class=\"dataframe\">\n",
       "  <thead>\n",
       "    <tr style=\"text-align: right;\">\n",
       "      <th></th>\n",
       "      <th>id</th>\n",
       "      <th>cap-diameter</th>\n",
       "      <th>cap-shape</th>\n",
       "      <th>cap-surface</th>\n",
       "      <th>cap-color</th>\n",
       "      <th>gill-attachment</th>\n",
       "      <th>gill-color</th>\n",
       "      <th>stem-height</th>\n",
       "      <th>stem-width</th>\n",
       "      <th>stem-surface</th>\n",
       "      <th>stem-color</th>\n",
       "      <th>ring-type</th>\n",
       "      <th>habitat</th>\n",
       "      <th>does-bruise-or-bleed_f</th>\n",
       "      <th>does-bruise-or-bleed_t</th>\n",
       "      <th>gill-spacing_c</th>\n",
       "      <th>gill-spacing_d</th>\n",
       "      <th>gill-spacing_f</th>\n",
       "      <th>has-ring_f</th>\n",
       "      <th>has-ring_t</th>\n",
       "      <th>season_s</th>\n",
       "      <th>season_u</th>\n",
       "      <th>season_w</th>\n",
       "    </tr>\n",
       "  </thead>\n",
       "  <tbody>\n",
       "    <tr>\n",
       "      <th>0</th>\n",
       "      <td>3116945</td>\n",
       "      <td>8.64</td>\n",
       "      <td>7</td>\n",
       "      <td>9</td>\n",
       "      <td>6</td>\n",
       "      <td>1</td>\n",
       "      <td>11</td>\n",
       "      <td>11.13</td>\n",
       "      <td>17.12</td>\n",
       "      <td>4</td>\n",
       "      <td>8</td>\n",
       "      <td>3</td>\n",
       "      <td>1</td>\n",
       "      <td>False</td>\n",
       "      <td>True</td>\n",
       "      <td>True</td>\n",
       "      <td>False</td>\n",
       "      <td>False</td>\n",
       "      <td>False</td>\n",
       "      <td>True</td>\n",
       "      <td>False</td>\n",
       "      <td>False</td>\n",
       "      <td>False</td>\n",
       "    </tr>\n",
       "    <tr>\n",
       "      <th>1</th>\n",
       "      <td>3116946</td>\n",
       "      <td>6.90</td>\n",
       "      <td>4</td>\n",
       "      <td>9</td>\n",
       "      <td>7</td>\n",
       "      <td>1</td>\n",
       "      <td>12</td>\n",
       "      <td>1.27</td>\n",
       "      <td>10.75</td>\n",
       "      <td>4</td>\n",
       "      <td>4</td>\n",
       "      <td>2</td>\n",
       "      <td>1</td>\n",
       "      <td>True</td>\n",
       "      <td>False</td>\n",
       "      <td>True</td>\n",
       "      <td>False</td>\n",
       "      <td>False</td>\n",
       "      <td>True</td>\n",
       "      <td>False</td>\n",
       "      <td>False</td>\n",
       "      <td>False</td>\n",
       "      <td>False</td>\n",
       "    </tr>\n",
       "    <tr>\n",
       "      <th>2</th>\n",
       "      <td>3116947</td>\n",
       "      <td>2.00</td>\n",
       "      <td>1</td>\n",
       "      <td>3</td>\n",
       "      <td>6</td>\n",
       "      <td>1</td>\n",
       "      <td>6</td>\n",
       "      <td>6.18</td>\n",
       "      <td>3.14</td>\n",
       "      <td>4</td>\n",
       "      <td>4</td>\n",
       "      <td>2</td>\n",
       "      <td>1</td>\n",
       "      <td>True</td>\n",
       "      <td>False</td>\n",
       "      <td>True</td>\n",
       "      <td>False</td>\n",
       "      <td>False</td>\n",
       "      <td>True</td>\n",
       "      <td>False</td>\n",
       "      <td>True</td>\n",
       "      <td>False</td>\n",
       "      <td>False</td>\n",
       "    </tr>\n",
       "    <tr>\n",
       "      <th>3</th>\n",
       "      <td>3116948</td>\n",
       "      <td>3.47</td>\n",
       "      <td>7</td>\n",
       "      <td>9</td>\n",
       "      <td>6</td>\n",
       "      <td>6</td>\n",
       "      <td>6</td>\n",
       "      <td>4.98</td>\n",
       "      <td>8.51</td>\n",
       "      <td>4</td>\n",
       "      <td>8</td>\n",
       "      <td>7</td>\n",
       "      <td>1</td>\n",
       "      <td>True</td>\n",
       "      <td>False</td>\n",
       "      <td>True</td>\n",
       "      <td>False</td>\n",
       "      <td>False</td>\n",
       "      <td>False</td>\n",
       "      <td>True</td>\n",
       "      <td>False</td>\n",
       "      <td>True</td>\n",
       "      <td>False</td>\n",
       "    </tr>\n",
       "    <tr>\n",
       "      <th>4</th>\n",
       "      <td>3116949</td>\n",
       "      <td>6.17</td>\n",
       "      <td>7</td>\n",
       "      <td>4</td>\n",
       "      <td>12</td>\n",
       "      <td>5</td>\n",
       "      <td>12</td>\n",
       "      <td>6.73</td>\n",
       "      <td>13.70</td>\n",
       "      <td>4</td>\n",
       "      <td>9</td>\n",
       "      <td>2</td>\n",
       "      <td>1</td>\n",
       "      <td>True</td>\n",
       "      <td>False</td>\n",
       "      <td>True</td>\n",
       "      <td>False</td>\n",
       "      <td>False</td>\n",
       "      <td>False</td>\n",
       "      <td>True</td>\n",
       "      <td>False</td>\n",
       "      <td>True</td>\n",
       "      <td>False</td>\n",
       "    </tr>\n",
       "    <tr>\n",
       "      <th>...</th>\n",
       "      <td>...</td>\n",
       "      <td>...</td>\n",
       "      <td>...</td>\n",
       "      <td>...</td>\n",
       "      <td>...</td>\n",
       "      <td>...</td>\n",
       "      <td>...</td>\n",
       "      <td>...</td>\n",
       "      <td>...</td>\n",
       "      <td>...</td>\n",
       "      <td>...</td>\n",
       "      <td>...</td>\n",
       "      <td>...</td>\n",
       "      <td>...</td>\n",
       "      <td>...</td>\n",
       "      <td>...</td>\n",
       "      <td>...</td>\n",
       "      <td>...</td>\n",
       "      <td>...</td>\n",
       "      <td>...</td>\n",
       "      <td>...</td>\n",
       "      <td>...</td>\n",
       "      <td>...</td>\n",
       "    </tr>\n",
       "    <tr>\n",
       "      <th>2077959</th>\n",
       "      <td>5194904</td>\n",
       "      <td>0.88</td>\n",
       "      <td>7</td>\n",
       "      <td>3</td>\n",
       "      <td>11</td>\n",
       "      <td>1</td>\n",
       "      <td>11</td>\n",
       "      <td>2.67</td>\n",
       "      <td>1.35</td>\n",
       "      <td>4</td>\n",
       "      <td>1</td>\n",
       "      <td>2</td>\n",
       "      <td>1</td>\n",
       "      <td>True</td>\n",
       "      <td>False</td>\n",
       "      <td>False</td>\n",
       "      <td>True</td>\n",
       "      <td>False</td>\n",
       "      <td>True</td>\n",
       "      <td>False</td>\n",
       "      <td>False</td>\n",
       "      <td>True</td>\n",
       "      <td>False</td>\n",
       "    </tr>\n",
       "    <tr>\n",
       "      <th>2077960</th>\n",
       "      <td>5194905</td>\n",
       "      <td>3.12</td>\n",
       "      <td>7</td>\n",
       "      <td>8</td>\n",
       "      <td>11</td>\n",
       "      <td>2</td>\n",
       "      <td>11</td>\n",
       "      <td>2.69</td>\n",
       "      <td>7.38</td>\n",
       "      <td>4</td>\n",
       "      <td>8</td>\n",
       "      <td>2</td>\n",
       "      <td>2</td>\n",
       "      <td>True</td>\n",
       "      <td>False</td>\n",
       "      <td>True</td>\n",
       "      <td>False</td>\n",
       "      <td>False</td>\n",
       "      <td>True</td>\n",
       "      <td>False</td>\n",
       "      <td>False</td>\n",
       "      <td>False</td>\n",
       "      <td>False</td>\n",
       "    </tr>\n",
       "    <tr>\n",
       "      <th>2077961</th>\n",
       "      <td>5194906</td>\n",
       "      <td>5.73</td>\n",
       "      <td>7</td>\n",
       "      <td>2</td>\n",
       "      <td>2</td>\n",
       "      <td>1</td>\n",
       "      <td>11</td>\n",
       "      <td>6.16</td>\n",
       "      <td>9.74</td>\n",
       "      <td>4</td>\n",
       "      <td>9</td>\n",
       "      <td>7</td>\n",
       "      <td>1</td>\n",
       "      <td>True</td>\n",
       "      <td>False</td>\n",
       "      <td>True</td>\n",
       "      <td>False</td>\n",
       "      <td>False</td>\n",
       "      <td>False</td>\n",
       "      <td>True</td>\n",
       "      <td>False</td>\n",
       "      <td>False</td>\n",
       "      <td>False</td>\n",
       "    </tr>\n",
       "    <tr>\n",
       "      <th>2077962</th>\n",
       "      <td>5194907</td>\n",
       "      <td>5.03</td>\n",
       "      <td>1</td>\n",
       "      <td>3</td>\n",
       "      <td>6</td>\n",
       "      <td>1</td>\n",
       "      <td>4</td>\n",
       "      <td>6.00</td>\n",
       "      <td>3.46</td>\n",
       "      <td>4</td>\n",
       "      <td>2</td>\n",
       "      <td>2</td>\n",
       "      <td>1</td>\n",
       "      <td>True</td>\n",
       "      <td>False</td>\n",
       "      <td>False</td>\n",
       "      <td>True</td>\n",
       "      <td>False</td>\n",
       "      <td>True</td>\n",
       "      <td>False</td>\n",
       "      <td>False</td>\n",
       "      <td>False</td>\n",
       "      <td>False</td>\n",
       "    </tr>\n",
       "    <tr>\n",
       "      <th>2077963</th>\n",
       "      <td>5194908</td>\n",
       "      <td>15.51</td>\n",
       "      <td>3</td>\n",
       "      <td>9</td>\n",
       "      <td>11</td>\n",
       "      <td>2</td>\n",
       "      <td>12</td>\n",
       "      <td>2.69</td>\n",
       "      <td>17.71</td>\n",
       "      <td>4</td>\n",
       "      <td>8</td>\n",
       "      <td>2</td>\n",
       "      <td>1</td>\n",
       "      <td>True</td>\n",
       "      <td>False</td>\n",
       "      <td>True</td>\n",
       "      <td>False</td>\n",
       "      <td>False</td>\n",
       "      <td>True</td>\n",
       "      <td>False</td>\n",
       "      <td>False</td>\n",
       "      <td>False</td>\n",
       "      <td>True</td>\n",
       "    </tr>\n",
       "  </tbody>\n",
       "</table>\n",
       "<p>2077964 rows × 23 columns</p>\n",
       "</div>"
      ],
      "text/plain": [
       "              id  cap-diameter  cap-shape  cap-surface  cap-color  gill-attachment  gill-color  stem-height  stem-width  stem-surface  stem-color  ring-type  habitat  does-bruise-or-bleed_f  does-bruise-or-bleed_t  gill-spacing_c  gill-spacing_d  gill-spacing_f  has-ring_f  has-ring_t  season_s  season_u  season_w\n",
       "0        3116945          8.64          7            9          6                1          11        11.13       17.12             4           8          3        1                   False                    True            True           False           False       False        True     False     False     False\n",
       "1        3116946          6.90          4            9          7                1          12         1.27       10.75             4           4          2        1                    True                   False            True           False           False        True       False     False     False     False\n",
       "2        3116947          2.00          1            3          6                1           6         6.18        3.14             4           4          2        1                    True                   False            True           False           False        True       False      True     False     False\n",
       "3        3116948          3.47          7            9          6                6           6         4.98        8.51             4           8          7        1                    True                   False            True           False           False       False        True     False      True     False\n",
       "4        3116949          6.17          7            4         12                5          12         6.73       13.70             4           9          2        1                    True                   False            True           False           False       False        True     False      True     False\n",
       "...          ...           ...        ...          ...        ...              ...         ...          ...         ...           ...         ...        ...      ...                     ...                     ...             ...             ...             ...         ...         ...       ...       ...       ...\n",
       "2077959  5194904          0.88          7            3         11                1          11         2.67        1.35             4           1          2        1                    True                   False           False            True           False        True       False     False      True     False\n",
       "2077960  5194905          3.12          7            8         11                2          11         2.69        7.38             4           8          2        2                    True                   False            True           False           False        True       False     False     False     False\n",
       "2077961  5194906          5.73          7            2          2                1          11         6.16        9.74             4           9          7        1                    True                   False            True           False           False       False        True     False     False     False\n",
       "2077962  5194907          5.03          1            3          6                1           4         6.00        3.46             4           2          2        1                    True                   False           False            True           False        True       False     False     False     False\n",
       "2077963  5194908         15.51          3            9         11                2          12         2.69       17.71             4           8          2        1                    True                   False            True           False           False        True       False     False     False      True\n",
       "\n",
       "[2077964 rows x 23 columns]"
      ]
     },
     "execution_count": 46,
     "metadata": {},
     "output_type": "execute_result"
    }
   ],
   "source": [
    "train_processed = df[df['dataset'] == 'train'].drop(columns=['dataset'])\n",
    "test_processed = df[df['dataset'] == 'test'].drop(columns=['dataset'])\n",
    "\n",
    "\n",
    "\n",
    "X = train_processed.drop(columns=['class'])\n",
    "y = train_processed['class'] \n",
    "\n",
    "\n",
    "test_processed=test_processed.drop(columns=['class'])\n",
    "test_processed\n",
    "\n"
   ]
  },
  {
   "cell_type": "code",
   "execution_count": 47,
   "id": "bcc9e94d",
   "metadata": {
    "execution": {
     "iopub.execute_input": "2024-08-14T22:07:33.050712Z",
     "iopub.status.busy": "2024-08-14T22:07:33.050282Z",
     "iopub.status.idle": "2024-08-15T08:02:13.723223Z",
     "shell.execute_reply": "2024-08-15T08:02:13.721116Z"
    },
    "papermill": {
     "duration": 35680.779078,
     "end_time": "2024-08-15T08:02:13.785945",
     "exception": false,
     "start_time": "2024-08-14T22:07:33.006867",
     "status": "completed"
    },
    "tags": []
   },
   "outputs": [
    {
     "name": "stderr",
     "output_type": "stream",
     "text": [
      "[I 2024-08-14 22:07:34,046] A new study created in memory with name: no-name-6134c9f7-e347-45c3-a019-f5990ba1b882\n",
      "[I 2024-08-14 22:09:17,583] Trial 0 finished with value: 0.9757349012996407 and parameters: {'n_estimators': 253, 'max_depth': 12, 'learning_rate': 0.02006424218525026, 'subsample': 0.9673281690117768, 'colsample_bytree': 0.828397493774983, 'gamma': 0.0001670999353747206, 'lambda': 0.0008188406655240406, 'alpha': 1.3733069615298498e-05, 'scale_pos_weight': 5.962427235751627}. Best is trial 0 with value: 0.9757349012996407.\n"
     ]
    },
    {
     "name": "stdout",
     "output_type": "stream",
     "text": [
      "Trial 0: MCC = 0.9757349012996407\n"
     ]
    },
    {
     "name": "stderr",
     "output_type": "stream",
     "text": [
      "[I 2024-08-14 22:14:16,313] Trial 1 finished with value: 0.9809494549463513 and parameters: {'n_estimators': 844, 'max_depth': 12, 'learning_rate': 0.08105335976157049, 'subsample': 0.7189940508015096, 'colsample_bytree': 0.7024432892909608, 'gamma': 0.002395061012635881, 'lambda': 0.45518801863513647, 'alpha': 0.5348808325636357, 'scale_pos_weight': 6.546777420567451}. Best is trial 1 with value: 0.9809494549463513.\n"
     ]
    },
    {
     "name": "stdout",
     "output_type": "stream",
     "text": [
      "Trial 1: MCC = 0.9809494549463513\n"
     ]
    },
    {
     "name": "stderr",
     "output_type": "stream",
     "text": [
      "[I 2024-08-14 22:20:54,750] Trial 2 finished with value: 0.9815937251624902 and parameters: {'n_estimators': 924, 'max_depth': 16, 'learning_rate': 0.14272176046280768, 'subsample': 0.7628470489232362, 'colsample_bytree': 0.6839004101373539, 'gamma': 5.556680861116033e-06, 'lambda': 0.001186227110713569, 'alpha': 1.7512604648878688e-07, 'scale_pos_weight': 5.754156257386527}. Best is trial 2 with value: 0.9815937251624902.\n"
     ]
    },
    {
     "name": "stdout",
     "output_type": "stream",
     "text": [
      "Trial 2: MCC = 0.9815937251624902\n"
     ]
    },
    {
     "name": "stderr",
     "output_type": "stream",
     "text": [
      "[I 2024-08-14 22:22:41,686] Trial 3 finished with value: 0.9787882007995442 and parameters: {'n_estimators': 139, 'max_depth': 18, 'learning_rate': 0.023845192812703888, 'subsample': 0.5079726010142354, 'colsample_bytree': 0.6335232659620988, 'gamma': 0.002126388901592622, 'lambda': 4.2014232229007713e-07, 'alpha': 5.456609285120419e-08, 'scale_pos_weight': 7.137806447950997}. Best is trial 2 with value: 0.9815937251624902.\n"
     ]
    },
    {
     "name": "stdout",
     "output_type": "stream",
     "text": [
      "Trial 3: MCC = 0.9787882007995442\n"
     ]
    },
    {
     "name": "stderr",
     "output_type": "stream",
     "text": [
      "[I 2024-08-14 22:25:37,777] Trial 4 finished with value: 0.9673916970783323 and parameters: {'n_estimators': 629, 'max_depth': 9, 'learning_rate': 0.011204599875547274, 'subsample': 0.7689087410151245, 'colsample_bytree': 0.7690118877691978, 'gamma': 5.7181443984356595e-08, 'lambda': 0.4014845660970953, 'alpha': 1.0946546596545344e-06, 'scale_pos_weight': 7.490986912065037}. Best is trial 2 with value: 0.9815937251624902.\n"
     ]
    },
    {
     "name": "stdout",
     "output_type": "stream",
     "text": [
      "Trial 4: MCC = 0.9673916970783323\n"
     ]
    },
    {
     "name": "stderr",
     "output_type": "stream",
     "text": [
      "[I 2024-08-14 22:27:40,060] Trial 5 finished with value: 0.9784146156576012 and parameters: {'n_estimators': 358, 'max_depth': 11, 'learning_rate': 0.11572861795614145, 'subsample': 0.7635613249987212, 'colsample_bytree': 0.7851643495408991, 'gamma': 6.982387924834949e-08, 'lambda': 1.7013098717235192e-07, 'alpha': 0.04764021242777551, 'scale_pos_weight': 9.773477330645425}. Best is trial 2 with value: 0.9815937251624902.\n"
     ]
    },
    {
     "name": "stdout",
     "output_type": "stream",
     "text": [
      "Trial 5: MCC = 0.9784146156576012\n"
     ]
    },
    {
     "name": "stderr",
     "output_type": "stream",
     "text": [
      "[I 2024-08-14 22:33:58,744] Trial 6 finished with value: 0.9813803582221443 and parameters: {'n_estimators': 784, 'max_depth': 20, 'learning_rate': 0.19490430075653004, 'subsample': 0.8108610080851176, 'colsample_bytree': 0.8561745700091797, 'gamma': 8.890745510140525e-06, 'lambda': 0.00569839424113816, 'alpha': 0.001307210664635005, 'scale_pos_weight': 2.159000660697435}. Best is trial 2 with value: 0.9815937251624902.\n"
     ]
    },
    {
     "name": "stdout",
     "output_type": "stream",
     "text": [
      "Trial 6: MCC = 0.9813803582221443\n"
     ]
    },
    {
     "name": "stderr",
     "output_type": "stream",
     "text": [
      "[I 2024-08-14 22:38:08,329] Trial 7 finished with value: 0.9795898781550507 and parameters: {'n_estimators': 928, 'max_depth': 9, 'learning_rate': 0.20734781010804892, 'subsample': 0.6203104836918025, 'colsample_bytree': 0.5953688949779381, 'gamma': 0.0037266253278823635, 'lambda': 0.169414565638685, 'alpha': 2.218436219555357e-05, 'scale_pos_weight': 5.122549805380938}. Best is trial 2 with value: 0.9815937251624902.\n"
     ]
    },
    {
     "name": "stdout",
     "output_type": "stream",
     "text": [
      "Trial 7: MCC = 0.9795898781550507\n"
     ]
    },
    {
     "name": "stderr",
     "output_type": "stream",
     "text": [
      "[I 2024-08-14 22:41:48,096] Trial 8 finished with value: 0.981984911927246 and parameters: {'n_estimators': 591, 'max_depth': 14, 'learning_rate': 0.19105551620483738, 'subsample': 0.9884674959610732, 'colsample_bytree': 0.5041518611663414, 'gamma': 0.0037050675756933366, 'lambda': 1.5856464978407686e-06, 'alpha': 1.1495922690428046e-08, 'scale_pos_weight': 1.7667733994389636}. Best is trial 8 with value: 0.981984911927246.\n"
     ]
    },
    {
     "name": "stdout",
     "output_type": "stream",
     "text": [
      "Trial 8: MCC = 0.981984911927246\n"
     ]
    },
    {
     "name": "stderr",
     "output_type": "stream",
     "text": [
      "[I 2024-08-14 22:42:26,718] Trial 9 finished with value: 0.9030271951937858 and parameters: {'n_estimators': 120, 'max_depth': 7, 'learning_rate': 0.032551106096765564, 'subsample': 0.5635954463265995, 'colsample_bytree': 0.5694080146396383, 'gamma': 0.004902574786182056, 'lambda': 0.12030815850186805, 'alpha': 0.04740666578668851, 'scale_pos_weight': 4.207742720836167}. Best is trial 8 with value: 0.981984911927246.\n"
     ]
    },
    {
     "name": "stdout",
     "output_type": "stream",
     "text": [
      "Trial 9: MCC = 0.9030271951937858\n"
     ]
    },
    {
     "name": "stderr",
     "output_type": "stream",
     "text": [
      "[I 2024-08-14 22:43:37,763] Trial 10 finished with value: 0.9396894988040092 and parameters: {'n_estimators': 487, 'max_depth': 3, 'learning_rate': 0.06412898246597648, 'subsample': 0.9687946993767437, 'colsample_bytree': 0.9737828970635368, 'gamma': 0.4173841166043693, 'lambda': 8.557470943086994e-06, 'alpha': 0.00020241455073299988, 'scale_pos_weight': 1.0162666607682707}. Best is trial 8 with value: 0.981984911927246.\n"
     ]
    },
    {
     "name": "stdout",
     "output_type": "stream",
     "text": [
      "Trial 10: MCC = 0.9396894988040092\n"
     ]
    },
    {
     "name": "stderr",
     "output_type": "stream",
     "text": [
      "[I 2024-08-14 22:48:20,770] Trial 11 finished with value: 0.9811911669856426 and parameters: {'n_estimators': 675, 'max_depth': 16, 'learning_rate': 0.28807891001204905, 'subsample': 0.8741390035566874, 'colsample_bytree': 0.5076552586375255, 'gamma': 3.5090353280179618e-06, 'lambda': 1.4464158961077664e-05, 'alpha': 1.3572348892667516e-08, 'scale_pos_weight': 3.218095888017597}. Best is trial 8 with value: 0.981984911927246.\n"
     ]
    },
    {
     "name": "stdout",
     "output_type": "stream",
     "text": [
      "Trial 11: MCC = 0.9811911669856426\n"
     ]
    },
    {
     "name": "stderr",
     "output_type": "stream",
     "text": [
      "[I 2024-08-14 22:53:43,784] Trial 12 finished with value: 0.9810661160881077 and parameters: {'n_estimators': 991, 'max_depth': 15, 'learning_rate': 0.1380378074437249, 'subsample': 0.6622640865896561, 'colsample_bytree': 0.6756625156566196, 'gamma': 0.21692057216704957, 'lambda': 2.9592293837426596e-05, 'alpha': 2.2919046768689692e-07, 'scale_pos_weight': 8.893763639160774}. Best is trial 8 with value: 0.981984911927246.\n"
     ]
    },
    {
     "name": "stdout",
     "output_type": "stream",
     "text": [
      "Trial 12: MCC = 0.9810661160881077\n"
     ]
    },
    {
     "name": "stderr",
     "output_type": "stream",
     "text": [
      "[I 2024-08-14 22:57:16,158] Trial 13 finished with value: 0.9819429316103652 and parameters: {'n_estimators': 492, 'max_depth': 15, 'learning_rate': 0.11100936525321489, 'subsample': 0.8803610182285307, 'colsample_bytree': 0.5647239179203523, 'gamma': 4.281527428108076e-06, 'lambda': 3.094691845672262e-08, 'alpha': 9.522033149386473e-07, 'scale_pos_weight': 4.348200162225906}. Best is trial 8 with value: 0.981984911927246.\n"
     ]
    },
    {
     "name": "stdout",
     "output_type": "stream",
     "text": [
      "Trial 13: MCC = 0.9819429316103652\n"
     ]
    },
    {
     "name": "stderr",
     "output_type": "stream",
     "text": [
      "[I 2024-08-14 23:00:23,982] Trial 14 finished with value: 0.9820877744631035 and parameters: {'n_estimators': 456, 'max_depth': 14, 'learning_rate': 0.08629338349859061, 'subsample': 0.9090063723374074, 'colsample_bytree': 0.5020645719347312, 'gamma': 4.02505167735507e-05, 'lambda': 1.1031605109873859e-08, 'alpha': 1.3962695232061523e-06, 'scale_pos_weight': 3.0693204898771906}. Best is trial 14 with value: 0.9820877744631035.\n"
     ]
    },
    {
     "name": "stdout",
     "output_type": "stream",
     "text": [
      "Trial 14: MCC = 0.9820877744631035\n"
     ]
    },
    {
     "name": "stderr",
     "output_type": "stream",
     "text": [
      "[I 2024-08-14 23:03:18,365] Trial 15 finished with value: 0.9821993456051513 and parameters: {'n_estimators': 420, 'max_depth': 13, 'learning_rate': 0.039342552224456206, 'subsample': 0.9182322741548805, 'colsample_bytree': 0.5052819823728911, 'gamma': 0.0001726239181379506, 'lambda': 5.621235788297754e-07, 'alpha': 1.1413594955326588e-08, 'scale_pos_weight': 2.4127128156921973}. Best is trial 15 with value: 0.9821993456051513.\n"
     ]
    },
    {
     "name": "stdout",
     "output_type": "stream",
     "text": [
      "Trial 15: MCC = 0.9821993456051513\n"
     ]
    },
    {
     "name": "stderr",
     "output_type": "stream",
     "text": [
      "[I 2024-08-14 23:04:29,180] Trial 16 finished with value: 0.9575262438510267 and parameters: {'n_estimators': 356, 'max_depth': 5, 'learning_rate': 0.04030726445583667, 'subsample': 0.8982890709736082, 'colsample_bytree': 0.5115166665452371, 'gamma': 0.0001555454431886139, 'lambda': 1.2184191254058867e-08, 'alpha': 6.204750499443108e-06, 'scale_pos_weight': 2.954721009046253}. Best is trial 15 with value: 0.9821993456051513.\n"
     ]
    },
    {
     "name": "stdout",
     "output_type": "stream",
     "text": [
      "Trial 16: MCC = 0.9575262438510267\n"
     ]
    },
    {
     "name": "stderr",
     "output_type": "stream",
     "text": [
      "[I 2024-08-14 23:08:28,586] Trial 17 finished with value: 0.9824054294856059 and parameters: {'n_estimators': 387, 'max_depth': 18, 'learning_rate': 0.04945140122067531, 'subsample': 0.8364524723748488, 'colsample_bytree': 0.6212353118551224, 'gamma': 3.2425260167496013e-07, 'lambda': 1.4278077652633605e-07, 'alpha': 0.0003195696278837985, 'scale_pos_weight': 3.317245896734082}. Best is trial 17 with value: 0.9824054294856059.\n"
     ]
    },
    {
     "name": "stdout",
     "output_type": "stream",
     "text": [
      "Trial 17: MCC = 0.9824054294856059\n"
     ]
    },
    {
     "name": "stderr",
     "output_type": "stream",
     "text": [
      "[I 2024-08-14 23:12:29,086] Trial 18 finished with value: 0.9824915189758974 and parameters: {'n_estimators': 324, 'max_depth': 20, 'learning_rate': 0.04649584745659693, 'subsample': 0.8168372352170621, 'colsample_bytree': 0.6252130631545184, 'gamma': 3.582050291630521e-07, 'lambda': 6.09545588739845e-05, 'alpha': 0.0021155571938731013, 'scale_pos_weight': 4.113111185444595}. Best is trial 18 with value: 0.9824915189758974.\n"
     ]
    },
    {
     "name": "stdout",
     "output_type": "stream",
     "text": [
      "Trial 18: MCC = 0.9824915189758974\n"
     ]
    },
    {
     "name": "stderr",
     "output_type": "stream",
     "text": [
      "[I 2024-08-14 23:15:05,254] Trial 19 finished with value: 0.9815344638840227 and parameters: {'n_estimators': 254, 'max_depth': 20, 'learning_rate': 0.052271142402002244, 'subsample': 0.8488481438172054, 'colsample_bytree': 0.6316947055572367, 'gamma': 1.001833562692656e-08, 'lambda': 6.267649387498303, 'alpha': 0.0023413700726991732, 'scale_pos_weight': 4.234021862197827}. Best is trial 18 with value: 0.9824915189758974.\n"
     ]
    },
    {
     "name": "stdout",
     "output_type": "stream",
     "text": [
      "Trial 19: MCC = 0.9815344638840227\n"
     ]
    },
    {
     "name": "stderr",
     "output_type": "stream",
     "text": [
      "[I 2024-08-14 23:18:21,936] Trial 20 finished with value: 0.9808750551144256 and parameters: {'n_estimators': 253, 'max_depth': 18, 'learning_rate': 0.015554782233921097, 'subsample': 0.7017849749812093, 'colsample_bytree': 0.7254322213305575, 'gamma': 2.3642772682190555e-07, 'lambda': 0.00010921554072902657, 'alpha': 0.00024522440457094174, 'scale_pos_weight': 4.895627789570351}. Best is trial 18 with value: 0.9824915189758974.\n"
     ]
    },
    {
     "name": "stdout",
     "output_type": "stream",
     "text": [
      "Trial 20: MCC = 0.9808750551144256\n"
     ]
    },
    {
     "name": "stderr",
     "output_type": "stream",
     "text": [
      "[I 2024-08-14 23:22:33,636] Trial 21 finished with value: 0.9823553408712276 and parameters: {'n_estimators': 385, 'max_depth': 18, 'learning_rate': 0.03655619002807394, 'subsample': 0.8212289276721256, 'colsample_bytree': 0.6173033140887512, 'gamma': 4.830978202739042e-07, 'lambda': 8.947681374913956e-07, 'alpha': 0.006425476570938015, 'scale_pos_weight': 3.48955086156461}. Best is trial 18 with value: 0.9824915189758974.\n"
     ]
    },
    {
     "name": "stdout",
     "output_type": "stream",
     "text": [
      "Trial 21: MCC = 0.9823553408712276\n"
     ]
    },
    {
     "name": "stderr",
     "output_type": "stream",
     "text": [
      "[I 2024-08-14 23:26:39,356] Trial 22 finished with value: 0.9822902387869845 and parameters: {'n_estimators': 329, 'max_depth': 19, 'learning_rate': 0.027720560767063595, 'subsample': 0.8193914018453029, 'colsample_bytree': 0.6362660739927916, 'gamma': 7.275992836540348e-07, 'lambda': 3.7044293705865484e-06, 'alpha': 0.01016511581711254, 'scale_pos_weight': 3.5562852896918393}. Best is trial 18 with value: 0.9824915189758974.\n"
     ]
    },
    {
     "name": "stdout",
     "output_type": "stream",
     "text": [
      "Trial 22: MCC = 0.9822902387869845\n"
     ]
    },
    {
     "name": "stderr",
     "output_type": "stream",
     "text": [
      "[I 2024-08-14 23:31:14,661] Trial 23 finished with value: 0.9818690280329383 and parameters: {'n_estimators': 543, 'max_depth': 17, 'learning_rate': 0.05327251320840551, 'subsample': 0.8193980799953762, 'colsample_bytree': 0.5921349460215877, 'gamma': 5.912958106853634e-07, 'lambda': 1.0849822777054626e-07, 'alpha': 2.558392519251105, 'scale_pos_weight': 3.9731817156159335}. Best is trial 18 with value: 0.9824915189758974.\n"
     ]
    },
    {
     "name": "stdout",
     "output_type": "stream",
     "text": [
      "Trial 23: MCC = 0.9818690280329383\n"
     ]
    },
    {
     "name": "stderr",
     "output_type": "stream",
     "text": [
      "[I 2024-08-14 23:35:10,585] Trial 24 finished with value: 0.9826824672676117 and parameters: {'n_estimators': 387, 'max_depth': 18, 'learning_rate': 0.04152911045594938, 'subsample': 0.7949893043541244, 'colsample_bytree': 0.6562680335669864, 'gamma': 2.4920272180471637e-08, 'lambda': 9.301114697217347e-05, 'alpha': 9.704556122093213e-05, 'scale_pos_weight': 1.3944960185112625}. Best is trial 24 with value: 0.9826824672676117.\n"
     ]
    },
    {
     "name": "stdout",
     "output_type": "stream",
     "text": [
      "Trial 24: MCC = 0.9826824672676117\n"
     ]
    },
    {
     "name": "stderr",
     "output_type": "stream",
     "text": [
      "[I 2024-08-14 23:37:15,989] Trial 25 finished with value: 0.982525495274069 and parameters: {'n_estimators': 189, 'max_depth': 20, 'learning_rate': 0.06689037916437696, 'subsample': 0.7110440267317228, 'colsample_bytree': 0.7297951390042756, 'gamma': 1.7476503586375123e-08, 'lambda': 0.008382440292783956, 'alpha': 5.1558995062999646e-05, 'scale_pos_weight': 1.2283657031088087}. Best is trial 24 with value: 0.9826824672676117.\n"
     ]
    },
    {
     "name": "stdout",
     "output_type": "stream",
     "text": [
      "Trial 25: MCC = 0.982525495274069\n"
     ]
    },
    {
     "name": "stderr",
     "output_type": "stream",
     "text": [
      "[I 2024-08-14 23:39:17,983] Trial 26 finished with value: 0.9823139835121755 and parameters: {'n_estimators': 183, 'max_depth': 20, 'learning_rate': 0.07071605693912933, 'subsample': 0.7083499417349994, 'colsample_bytree': 0.8079383896744633, 'gamma': 1.1682493561566497e-08, 'lambda': 0.01993342119133184, 'alpha': 5.834706082951909e-05, 'scale_pos_weight': 1.1888399882661893}. Best is trial 24 with value: 0.9826824672676117.\n"
     ]
    },
    {
     "name": "stdout",
     "output_type": "stream",
     "text": [
      "Trial 26: MCC = 0.9823139835121755\n"
     ]
    },
    {
     "name": "stderr",
     "output_type": "stream",
     "text": [
      "[I 2024-08-14 23:42:23,599] Trial 27 finished with value: 0.9824751233322754 and parameters: {'n_estimators': 289, 'max_depth': 20, 'learning_rate': 0.09245974736966808, 'subsample': 0.7808656492434464, 'colsample_bytree': 0.7318819606325246, 'gamma': 5.208988089592673e-08, 'lambda': 0.00014990932539047175, 'alpha': 6.829846836922685e-05, 'scale_pos_weight': 1.7079912688321082}. Best is trial 24 with value: 0.9826824672676117.\n"
     ]
    },
    {
     "name": "stdout",
     "output_type": "stream",
     "text": [
      "Trial 27: MCC = 0.9824751233322754\n"
     ]
    },
    {
     "name": "stderr",
     "output_type": "stream",
     "text": [
      "[I 2024-08-14 23:44:13,975] Trial 28 finished with value: 0.9819377821607791 and parameters: {'n_estimators': 192, 'max_depth': 17, 'learning_rate': 0.06539021730543557, 'subsample': 0.6561101230973084, 'colsample_bytree': 0.9005269808949752, 'gamma': 2.6635445154700932e-08, 'lambda': 0.002109284877217059, 'alpha': 0.001249913753203762, 'scale_pos_weight': 2.0160927388935797}. Best is trial 24 with value: 0.9826824672676117.\n"
     ]
    },
    {
     "name": "stdout",
     "output_type": "stream",
     "text": [
      "Trial 28: MCC = 0.9819377821607791\n"
     ]
    },
    {
     "name": "stderr",
     "output_type": "stream",
     "text": [
      "[I 2024-08-14 23:46:49,336] Trial 29 finished with value: 0.9819985200750496 and parameters: {'n_estimators': 186, 'max_depth': 19, 'learning_rate': 0.020312572124381496, 'subsample': 0.7294384907477313, 'colsample_bytree': 0.6671958418324684, 'gamma': 8.685799989381969e-08, 'lambda': 0.000493309903490579, 'alpha': 7.010576906544906e-06, 'scale_pos_weight': 2.5812018126018295}. Best is trial 24 with value: 0.9826824672676117.\n"
     ]
    },
    {
     "name": "stdout",
     "output_type": "stream",
     "text": [
      "Trial 29: MCC = 0.9819985200750496\n"
     ]
    },
    {
     "name": "stderr",
     "output_type": "stream",
     "text": [
      "[I 2024-08-14 23:49:51,614] Trial 30 finished with value: 0.9822823940106918 and parameters: {'n_estimators': 288, 'max_depth': 19, 'learning_rate': 0.044692655614153726, 'subsample': 0.6777559856037232, 'colsample_bytree': 0.8518324398746046, 'gamma': 1.8178827939170276e-07, 'lambda': 0.011892695210938749, 'alpha': 0.06689190680706412, 'scale_pos_weight': 1.7078059728962813}. Best is trial 24 with value: 0.9826824672676117.\n"
     ]
    },
    {
     "name": "stdout",
     "output_type": "stream",
     "text": [
      "Trial 30: MCC = 0.9822823940106918\n"
     ]
    },
    {
     "name": "stderr",
     "output_type": "stream",
     "text": [
      "[I 2024-08-14 23:53:01,104] Trial 31 finished with value: 0.9824085110948568 and parameters: {'n_estimators': 309, 'max_depth': 20, 'learning_rate': 0.0881930029487636, 'subsample': 0.775013529649891, 'colsample_bytree': 0.7371794469058527, 'gamma': 2.411131644062575e-08, 'lambda': 0.00026782353107724033, 'alpha': 4.169115437861499e-05, 'scale_pos_weight': 1.5068169726833873}. Best is trial 24 with value: 0.9826824672676117.\n"
     ]
    },
    {
     "name": "stdout",
     "output_type": "stream",
     "text": [
      "Trial 31: MCC = 0.9824085110948568\n"
     ]
    },
    {
     "name": "stderr",
     "output_type": "stream",
     "text": [
      "[I 2024-08-14 23:54:59,301] Trial 32 finished with value: 0.9822873571405153 and parameters: {'n_estimators': 221, 'max_depth': 17, 'learning_rate': 0.10192993920573121, 'subsample': 0.7956259480023995, 'colsample_bytree': 0.7209616819366474, 'gamma': 1.5975775675367027e-06, 'lambda': 5.9296376261702076e-05, 'alpha': 0.0004969136453296216, 'scale_pos_weight': 1.0348982778319447}. Best is trial 24 with value: 0.9826824672676117.\n"
     ]
    },
    {
     "name": "stdout",
     "output_type": "stream",
     "text": [
      "Trial 32: MCC = 0.9822873571405153\n"
     ]
    },
    {
     "name": "stderr",
     "output_type": "stream",
     "text": [
      "[I 2024-08-14 23:58:25,809] Trial 33 finished with value: 0.9824399787762736 and parameters: {'n_estimators': 279, 'max_depth': 19, 'learning_rate': 0.029483128324913652, 'subsample': 0.7373614833449987, 'colsample_bytree': 0.7013047274558103, 'gamma': 6.449158739916165e-08, 'lambda': 9.553740417643248e-05, 'alpha': 0.00012121905466025333, 'scale_pos_weight': 2.430899498570072}. Best is trial 24 with value: 0.9826824672676117.\n"
     ]
    },
    {
     "name": "stdout",
     "output_type": "stream",
     "text": [
      "Trial 33: MCC = 0.9824399787762736\n"
     ]
    },
    {
     "name": "stderr",
     "output_type": "stream",
     "text": [
      "[I 2024-08-14 23:59:56,511] Trial 34 finished with value: 0.9814955117494372 and parameters: {'n_estimators': 105, 'max_depth': 20, 'learning_rate': 0.07216781488414978, 'subsample': 0.7927091176481816, 'colsample_bytree': 0.7623353066302366, 'gamma': 2.1731629495862633e-08, 'lambda': 0.0017189511692215966, 'alpha': 9.104687296754116e-06, 'scale_pos_weight': 6.213227852583598}. Best is trial 24 with value: 0.9826824672676117.\n"
     ]
    },
    {
     "name": "stdout",
     "output_type": "stream",
     "text": [
      "Trial 34: MCC = 0.9814955117494372\n"
     ]
    },
    {
     "name": "stderr",
     "output_type": "stream",
     "text": [
      "[I 2024-08-15 00:03:37,464] Trial 35 finished with value: 0.9821683662223512 and parameters: {'n_estimators': 436, 'max_depth': 16, 'learning_rate': 0.05895332657861076, 'subsample': 0.6160779149283451, 'colsample_bytree': 0.6624476255357739, 'gamma': 1.4149542315086555e-07, 'lambda': 0.00025491923444723175, 'alpha': 6.166337704198242e-05, 'scale_pos_weight': 2.598625975099559}. Best is trial 24 with value: 0.9826824672676117.\n"
     ]
    },
    {
     "name": "stdout",
     "output_type": "stream",
     "text": [
      "Trial 35: MCC = 0.9821683662223512\n"
     ]
    },
    {
     "name": "stderr",
     "output_type": "stream",
     "text": [
      "[I 2024-08-15 00:04:57,462] Trial 36 finished with value: 0.9776374966695534 and parameters: {'n_estimators': 222, 'max_depth': 11, 'learning_rate': 0.08541825004131376, 'subsample': 0.7536756530983412, 'colsample_bytree': 0.6985164758073596, 'gamma': 1.2433414773496662e-06, 'lambda': 0.045243724150189873, 'alpha': 0.008465875844710575, 'scale_pos_weight': 7.082726009616989}. Best is trial 24 with value: 0.9826824672676117.\n"
     ]
    },
    {
     "name": "stdout",
     "output_type": "stream",
     "text": [
      "Trial 36: MCC = 0.9776374966695534\n"
     ]
    },
    {
     "name": "stderr",
     "output_type": "stream",
     "text": [
      "[I 2024-08-15 00:06:35,988] Trial 37 finished with value: 0.9821316086026025 and parameters: {'n_estimators': 154, 'max_depth': 19, 'learning_rate': 0.13579038215501935, 'subsample': 0.8572935033423272, 'colsample_bytree': 0.803168346078111, 'gamma': 3.401121362997298e-08, 'lambda': 0.0010396293680503329, 'alpha': 0.0005708512978905413, 'scale_pos_weight': 1.535622092505023}. Best is trial 24 with value: 0.9826824672676117.\n"
     ]
    },
    {
     "name": "stdout",
     "output_type": "stream",
     "text": [
      "Trial 37: MCC = 0.9821316086026025\n"
     ]
    },
    {
     "name": "stderr",
     "output_type": "stream",
     "text": [
      "[I 2024-08-15 00:10:27,111] Trial 38 finished with value: 0.9814072037917618 and parameters: {'n_estimators': 326, 'max_depth': 18, 'learning_rate': 0.023575997567624674, 'subsample': 0.6926763966457694, 'colsample_bytree': 0.7464621730990655, 'gamma': 1.860974319965884e-05, 'lambda': 0.0032321621011735238, 'alpha': 3.924255890374727e-06, 'scale_pos_weight': 5.679452403164468}. Best is trial 24 with value: 0.9826824672676117.\n"
     ]
    },
    {
     "name": "stdout",
     "output_type": "stream",
     "text": [
      "Trial 38: MCC = 0.9814072037917618\n"
     ]
    },
    {
     "name": "stderr",
     "output_type": "stream",
     "text": [
      "[I 2024-08-15 00:17:22,651] Trial 39 finished with value: 0.9805158676738828 and parameters: {'n_estimators': 710, 'max_depth': 16, 'learning_rate': 0.014696950381673478, 'subsample': 0.7837832485970216, 'colsample_bytree': 0.6546023346064029, 'gamma': 6.715400554124487e-08, 'lambda': 5.251121983725633e-06, 'alpha': 2.63643217793943e-05, 'scale_pos_weight': 8.029336654603092}. Best is trial 24 with value: 0.9826824672676117.\n"
     ]
    },
    {
     "name": "stdout",
     "output_type": "stream",
     "text": [
      "Trial 39: MCC = 0.9805158676738828\n"
     ]
    },
    {
     "name": "stderr",
     "output_type": "stream",
     "text": [
      "[I 2024-08-15 00:19:59,693] Trial 40 finished with value: 0.9818303164285378 and parameters: {'n_estimators': 536, 'max_depth': 10, 'learning_rate': 0.043810832170525685, 'subsample': 0.7450163556779716, 'colsample_bytree': 0.5491010399657412, 'gamma': 0.0005198260018064698, 'lambda': 1.1982475361477742, 'alpha': 0.002314345601064655, 'scale_pos_weight': 1.9988956387157784}. Best is trial 24 with value: 0.9826824672676117.\n"
     ]
    },
    {
     "name": "stdout",
     "output_type": "stream",
     "text": [
      "Trial 40: MCC = 0.9818303164285378\n"
     ]
    },
    {
     "name": "stderr",
     "output_type": "stream",
     "text": [
      "[I 2024-08-15 00:23:34,499] Trial 41 finished with value: 0.9824877215314101 and parameters: {'n_estimators': 292, 'max_depth': 19, 'learning_rate': 0.028856352757164378, 'subsample': 0.7246784323696063, 'colsample_bytree': 0.6966864085933602, 'gamma': 5.740308511038204e-08, 'lambda': 0.0001382679400157063, 'alpha': 0.00010480065287568746, 'scale_pos_weight': 2.2117940783186802}. Best is trial 24 with value: 0.9826824672676117.\n"
     ]
    },
    {
     "name": "stdout",
     "output_type": "stream",
     "text": [
      "Trial 41: MCC = 0.9824877215314101\n"
     ]
    },
    {
     "name": "stderr",
     "output_type": "stream",
     "text": [
      "[I 2024-08-15 00:28:08,029] Trial 42 finished with value: 0.982702260522948 and parameters: {'n_estimators': 387, 'max_depth': 20, 'learning_rate': 0.03504608293592265, 'subsample': 0.7212852842977223, 'colsample_bytree': 0.6939189165896839, 'gamma': 1.0079133325455709e-08, 'lambda': 0.00017550420111521288, 'alpha': 9.407729700076011e-05, 'scale_pos_weight': 1.4272530862583679}. Best is trial 42 with value: 0.982702260522948.\n"
     ]
    },
    {
     "name": "stdout",
     "output_type": "stream",
     "text": [
      "Trial 42: MCC = 0.982702260522948\n"
     ]
    },
    {
     "name": "stderr",
     "output_type": "stream",
     "text": [
      "[I 2024-08-15 00:31:59,084] Trial 43 finished with value: 0.9826568256100612 and parameters: {'n_estimators': 400, 'max_depth': 17, 'learning_rate': 0.03331997666180471, 'subsample': 0.6177459454801638, 'colsample_bytree': 0.6909454320922634, 'gamma': 1.0955248900345683e-08, 'lambda': 1.375719830227578e-05, 'alpha': 1.772122025522453e-05, 'scale_pos_weight': 1.2724780627089205}. Best is trial 42 with value: 0.982702260522948.\n"
     ]
    },
    {
     "name": "stdout",
     "output_type": "stream",
     "text": [
      "Trial 43: MCC = 0.9826568256100612\n"
     ]
    },
    {
     "name": "stderr",
     "output_type": "stream",
     "text": [
      "[I 2024-08-15 00:35:43,705] Trial 44 finished with value: 0.9824294112768464 and parameters: {'n_estimators': 394, 'max_depth': 17, 'learning_rate': 0.03421179054119348, 'subsample': 0.5575652854966489, 'colsample_bytree': 0.7734123674062157, 'gamma': 1.0081868355955137e-08, 'lambda': 2.2961415962555537e-05, 'alpha': 1.717594626447018e-05, 'scale_pos_weight': 1.4171546685233072}. Best is trial 42 with value: 0.982702260522948.\n"
     ]
    },
    {
     "name": "stdout",
     "output_type": "stream",
     "text": [
      "Trial 44: MCC = 0.9824294112768464\n"
     ]
    },
    {
     "name": "stderr",
     "output_type": "stream",
     "text": [
      "[I 2024-08-15 00:40:56,040] Trial 45 finished with value: 0.9829255016793694 and parameters: {'n_estimators': 508, 'max_depth': 18, 'learning_rate': 0.023063934668406852, 'subsample': 0.6442810216764022, 'colsample_bytree': 0.6474561801990288, 'gamma': 0.016212549913750512, 'lambda': 2.0103789802483215e-06, 'alpha': 0.001139243491251937, 'scale_pos_weight': 1.0863394186425577}. Best is trial 45 with value: 0.9829255016793694.\n"
     ]
    },
    {
     "name": "stdout",
     "output_type": "stream",
     "text": [
      "Trial 45: MCC = 0.9829255016793694\n"
     ]
    },
    {
     "name": "stderr",
     "output_type": "stream",
     "text": [
      "[I 2024-08-15 00:45:57,087] Trial 46 finished with value: 0.9827530011125413 and parameters: {'n_estimators': 623, 'max_depth': 15, 'learning_rate': 0.018836669485993638, 'subsample': 0.623535104928297, 'colsample_bytree': 0.6844003115491649, 'gamma': 0.03401901644592456, 'lambda': 1.7029600917315625e-06, 'alpha': 3.1644404261233577e-06, 'scale_pos_weight': 1.0661532580960609}. Best is trial 45 with value: 0.9829255016793694.\n"
     ]
    },
    {
     "name": "stdout",
     "output_type": "stream",
     "text": [
      "Trial 46: MCC = 0.9827530011125413\n"
     ]
    },
    {
     "name": "stderr",
     "output_type": "stream",
     "text": [
      "[I 2024-08-15 00:51:02,098] Trial 47 finished with value: 0.9818797414665549 and parameters: {'n_estimators': 606, 'max_depth': 15, 'learning_rate': 0.015838562812190614, 'subsample': 0.6156054141424808, 'colsample_bytree': 0.6823941141131541, 'gamma': 0.05003716986892556, 'lambda': 2.453386727669406e-06, 'alpha': 2.9080751133712054e-06, 'scale_pos_weight': 2.773125564700098}. Best is trial 45 with value: 0.9829255016793694.\n"
     ]
    },
    {
     "name": "stdout",
     "output_type": "stream",
     "text": [
      "Trial 47: MCC = 0.9818797414665549\n"
     ]
    },
    {
     "name": "stderr",
     "output_type": "stream",
     "text": [
      "[I 2024-08-15 00:56:15,247] Trial 48 finished with value: 0.9821636262451736 and parameters: {'n_estimators': 659, 'max_depth': 14, 'learning_rate': 0.011094498548287954, 'subsample': 0.5840652490578073, 'colsample_bytree': 0.6498871842271398, 'gamma': 0.01872625498071065, 'lambda': 1.631930073708189e-05, 'alpha': 2.7849657386289e-07, 'scale_pos_weight': 1.8284650480034685}. Best is trial 45 with value: 0.9829255016793694.\n"
     ]
    },
    {
     "name": "stdout",
     "output_type": "stream",
     "text": [
      "Trial 48: MCC = 0.9821636262451736\n"
     ]
    },
    {
     "name": "stderr",
     "output_type": "stream",
     "text": [
      "[I 2024-08-15 00:59:39,467] Trial 49 finished with value: 0.975764046715915 and parameters: {'n_estimators': 490, 'max_depth': 13, 'learning_rate': 0.019447468600996023, 'subsample': 0.5435988339308735, 'colsample_bytree': 0.589708521353641, 'gamma': 0.91832191532133, 'lambda': 1.5403982634053456e-06, 'alpha': 7.767744866599068e-08, 'scale_pos_weight': 9.951043989127253}. Best is trial 45 with value: 0.9829255016793694.\n"
     ]
    },
    {
     "name": "stdout",
     "output_type": "stream",
     "text": [
      "Trial 49: MCC = 0.975764046715915\n"
     ]
    },
    {
     "name": "stderr",
     "output_type": "stream",
     "text": [
      "[I 2024-08-15 01:03:58,771] Trial 50 finished with value: 0.9823857947333642 and parameters: {'n_estimators': 525, 'max_depth': 15, 'learning_rate': 0.02347344646318852, 'subsample': 0.6522658037891842, 'colsample_bytree': 0.6813525508837364, 'gamma': 0.0161133919923566, 'lambda': 8.421944460578018e-06, 'alpha': 1.2828411878634292e-06, 'scale_pos_weight': 2.1164846630571383}. Best is trial 45 with value: 0.9829255016793694.\n"
     ]
    },
    {
     "name": "stdout",
     "output_type": "stream",
     "text": [
      "Trial 50: MCC = 0.9823857947333642\n"
     ]
    },
    {
     "name": "stderr",
     "output_type": "stream",
     "text": [
      "[I 2024-08-15 01:11:23,211] Trial 51 finished with value: 0.9827107887669556 and parameters: {'n_estimators': 768, 'max_depth': 18, 'learning_rate': 0.020562653500289615, 'subsample': 0.6358916536118849, 'colsample_bytree': 0.7155360263678172, 'gamma': 0.07977948098824768, 'lambda': 3.621089432888307e-05, 'alpha': 2.076744879851539e-05, 'scale_pos_weight': 1.308426787402748}. Best is trial 45 with value: 0.9829255016793694.\n"
     ]
    },
    {
     "name": "stdout",
     "output_type": "stream",
     "text": [
      "Trial 51: MCC = 0.9827107887669556\n"
     ]
    },
    {
     "name": "stderr",
     "output_type": "stream",
     "text": [
      "[I 2024-08-15 01:18:26,419] Trial 52 finished with value: 0.9827552527281253 and parameters: {'n_estimators': 851, 'max_depth': 16, 'learning_rate': 0.013262764144596316, 'subsample': 0.6374147505684006, 'colsample_bytree': 0.7154365707442883, 'gamma': 0.13882840848187708, 'lambda': 3.916388060674269e-05, 'alpha': 1.5195632733366469e-05, 'scale_pos_weight': 1.0684632956262776}. Best is trial 45 with value: 0.9829255016793694.\n"
     ]
    },
    {
     "name": "stdout",
     "output_type": "stream",
     "text": [
      "Trial 52: MCC = 0.9827552527281253\n"
     ]
    },
    {
     "name": "stderr",
     "output_type": "stream",
     "text": [
      "[I 2024-08-15 01:25:26,695] Trial 53 finished with value: 0.9827098763260548 and parameters: {'n_estimators': 820, 'max_depth': 16, 'learning_rate': 0.013013165318320873, 'subsample': 0.5955095955582759, 'colsample_bytree': 0.7156866927694703, 'gamma': 0.10559689936798222, 'lambda': 2.9661064293795596e-07, 'alpha': 3.6698181929452204e-07, 'scale_pos_weight': 1.0413007061354957}. Best is trial 45 with value: 0.9829255016793694.\n"
     ]
    },
    {
     "name": "stdout",
     "output_type": "stream",
     "text": [
      "Trial 53: MCC = 0.9827098763260548\n"
     ]
    },
    {
     "name": "stderr",
     "output_type": "stream",
     "text": [
      "[I 2024-08-15 01:30:54,923] Trial 54 finished with value: 0.9824063251501215 and parameters: {'n_estimators': 825, 'max_depth': 13, 'learning_rate': 0.013152255618616835, 'subsample': 0.5951414761450525, 'colsample_bytree': 0.7176905126493227, 'gamma': 0.12807499229952019, 'lambda': 3.0560636958658017e-07, 'alpha': 6.755018399102529e-07, 'scale_pos_weight': 1.0586990389603423}. Best is trial 45 with value: 0.9829255016793694.\n"
     ]
    },
    {
     "name": "stdout",
     "output_type": "stream",
     "text": [
      "Trial 54: MCC = 0.9824063251501215\n"
     ]
    },
    {
     "name": "stderr",
     "output_type": "stream",
     "text": [
      "[I 2024-08-15 01:36:55,931] Trial 55 finished with value: 0.982656414182886 and parameters: {'n_estimators': 729, 'max_depth': 16, 'learning_rate': 0.018580838789943578, 'subsample': 0.6378281288810219, 'colsample_bytree': 0.7586434565085616, 'gamma': 0.06404914320051038, 'lambda': 4.925794704672108e-08, 'alpha': 5.1093119583267153e-08, 'scale_pos_weight': 1.0030751962945945}. Best is trial 45 with value: 0.9829255016793694.\n"
     ]
    },
    {
     "name": "stdout",
     "output_type": "stream",
     "text": [
      "Trial 55: MCC = 0.982656414182886\n"
     ]
    },
    {
     "name": "stderr",
     "output_type": "stream",
     "text": [
      "[I 2024-08-15 01:43:41,589] Trial 56 finished with value: 0.9820923671899915 and parameters: {'n_estimators': 904, 'max_depth': 14, 'learning_rate': 0.01001138561132439, 'subsample': 0.5205073415031994, 'colsample_bytree': 0.7092718067837132, 'gamma': 0.012349078853006592, 'lambda': 4.234773896608399e-07, 'alpha': 2.320199082158337e-06, 'scale_pos_weight': 1.836549755778531}. Best is trial 45 with value: 0.9829255016793694.\n"
     ]
    },
    {
     "name": "stdout",
     "output_type": "stream",
     "text": [
      "Trial 56: MCC = 0.9820923671899915\n"
     ]
    },
    {
     "name": "stderr",
     "output_type": "stream",
     "text": [
      "[I 2024-08-15 01:49:37,475] Trial 57 finished with value: 0.9820791363035413 and parameters: {'n_estimators': 770, 'max_depth': 15, 'learning_rate': 0.01821448650128954, 'subsample': 0.5916400991817357, 'colsample_bytree': 0.7761890234955323, 'gamma': 0.33873792730409075, 'lambda': 3.6077833857030266e-05, 'alpha': 3.1469570673664493e-07, 'scale_pos_weight': 2.341216494419304}. Best is trial 45 with value: 0.9829255016793694.\n"
     ]
    },
    {
     "name": "stdout",
     "output_type": "stream",
     "text": [
      "Trial 57: MCC = 0.9820791363035413\n"
     ]
    },
    {
     "name": "stderr",
     "output_type": "stream",
     "text": [
      "[I 2024-08-15 01:57:09,857] Trial 58 finished with value: 0.9824588759574128 and parameters: {'n_estimators': 863, 'max_depth': 16, 'learning_rate': 0.013252738957719811, 'subsample': 0.6761513374620581, 'colsample_bytree': 0.802492664070922, 'gamma': 0.0006827788764723042, 'lambda': 1.9559917064023823e-06, 'alpha': 5.116946495294546e-07, 'scale_pos_weight': 1.5201646403291245}. Best is trial 45 with value: 0.9829255016793694.\n"
     ]
    },
    {
     "name": "stdout",
     "output_type": "stream",
     "text": [
      "Trial 58: MCC = 0.9824588759574128\n"
     ]
    },
    {
     "name": "stderr",
     "output_type": "stream",
     "text": [
      "[I 2024-08-15 02:04:29,398] Trial 59 finished with value: 0.9827377263946332 and parameters: {'n_estimators': 787, 'max_depth': 17, 'learning_rate': 0.021817526828122637, 'subsample': 0.6380675570915687, 'colsample_bytree': 0.6435423776049889, 'gamma': 0.03822250601376074, 'lambda': 1.1456614458333276e-06, 'alpha': 1.3607747042373699e-07, 'scale_pos_weight': 1.6336969221216866}. Best is trial 45 with value: 0.9829255016793694.\n"
     ]
    },
    {
     "name": "stdout",
     "output_type": "stream",
     "text": [
      "Trial 59: MCC = 0.9827377263946332\n"
     ]
    },
    {
     "name": "stderr",
     "output_type": "stream",
     "text": [
      "[I 2024-08-15 02:10:21,809] Trial 60 finished with value: 0.981534334210706 and parameters: {'n_estimators': 972, 'max_depth': 12, 'learning_rate': 0.02148841232226229, 'subsample': 0.6375536679578074, 'colsample_bytree': 0.642255732843013, 'gamma': 0.058203313916394814, 'lambda': 8.258923556483053e-07, 'alpha': 9.853270934761704e-08, 'scale_pos_weight': 2.9794485319501387}. Best is trial 45 with value: 0.9829255016793694.\n"
     ]
    },
    {
     "name": "stdout",
     "output_type": "stream",
     "text": [
      "Trial 60: MCC = 0.981534334210706\n"
     ]
    },
    {
     "name": "stderr",
     "output_type": "stream",
     "text": [
      "[I 2024-08-15 02:18:35,504] Trial 61 finished with value: 0.9826684575729759 and parameters: {'n_estimators': 792, 'max_depth': 18, 'learning_rate': 0.01690701907838176, 'subsample': 0.5673393735392902, 'colsample_bytree': 0.6705224526472146, 'gamma': 0.00760347020074775, 'lambda': 6.837893801628817e-08, 'alpha': 4.809460752317249e-08, 'scale_pos_weight': 1.6957139740409768}. Best is trial 45 with value: 0.9829255016793694.\n"
     ]
    },
    {
     "name": "stdout",
     "output_type": "stream",
     "text": [
      "Trial 61: MCC = 0.9826684575729759\n"
     ]
    },
    {
     "name": "stderr",
     "output_type": "stream",
     "text": [
      "[I 2024-08-15 02:27:06,246] Trial 62 finished with value: 0.9828117268359035 and parameters: {'n_estimators': 887, 'max_depth': 17, 'learning_rate': 0.013211264136897995, 'subsample': 0.6396292136978975, 'colsample_bytree': 0.6187713377114422, 'gamma': 0.03231328401119989, 'lambda': 1.9339676701701165e-07, 'alpha': 1.427175347289084e-07, 'scale_pos_weight': 1.3335649800062093}. Best is trial 45 with value: 0.9829255016793694.\n"
     ]
    },
    {
     "name": "stdout",
     "output_type": "stream",
     "text": [
      "Trial 62: MCC = 0.9828117268359035\n"
     ]
    },
    {
     "name": "stderr",
     "output_type": "stream",
     "text": [
      "[I 2024-08-15 02:35:23,786] Trial 63 finished with value: 0.9827186852326522 and parameters: {'n_estimators': 857, 'max_depth': 17, 'learning_rate': 0.013164878589824352, 'subsample': 0.6381662473170098, 'colsample_bytree': 0.6042019783950919, 'gamma': 0.12668064180568747, 'lambda': 2.3716760141843666e-07, 'alpha': 1.5294598135766118e-07, 'scale_pos_weight': 2.0108995974655217}. Best is trial 45 with value: 0.9829255016793694.\n"
     ]
    },
    {
     "name": "stdout",
     "output_type": "stream",
     "text": [
      "Trial 63: MCC = 0.9827186852326522\n"
     ]
    },
    {
     "name": "stderr",
     "output_type": "stream",
     "text": [
      "[I 2024-08-15 02:44:04,592] Trial 64 finished with value: 0.9826172779586024 and parameters: {'n_estimators': 879, 'max_depth': 17, 'learning_rate': 0.011719660049502631, 'subsample': 0.6394165347314058, 'colsample_bytree': 0.6142073599359352, 'gamma': 0.029940567785190636, 'lambda': 1.8154954401660838e-07, 'alpha': 1.689259691849982e-08, 'scale_pos_weight': 2.03713444623895}. Best is trial 45 with value: 0.9829255016793694.\n"
     ]
    },
    {
     "name": "stdout",
     "output_type": "stream",
     "text": [
      "Trial 64: MCC = 0.9826172779586024\n"
     ]
    },
    {
     "name": "stderr",
     "output_type": "stream",
     "text": [
      "[I 2024-08-15 02:52:32,676] Trial 65 finished with value: 0.9828621291422783 and parameters: {'n_estimators': 944, 'max_depth': 18, 'learning_rate': 0.026126864226594562, 'subsample': 0.675327333978791, 'colsample_bytree': 0.5362622215411813, 'gamma': 0.2279042887639343, 'lambda': 2.2604348748028368e-08, 'alpha': 1.5040846287040406e-07, 'scale_pos_weight': 1.3414074060709873}. Best is trial 45 with value: 0.9829255016793694.\n"
     ]
    },
    {
     "name": "stdout",
     "output_type": "stream",
     "text": [
      "Trial 65: MCC = 0.9828621291422783\n"
     ]
    },
    {
     "name": "stderr",
     "output_type": "stream",
     "text": [
      "[I 2024-08-15 03:00:53,495] Trial 66 finished with value: 0.9827700664642578 and parameters: {'n_estimators': 951, 'max_depth': 17, 'learning_rate': 0.026387809488997584, 'subsample': 0.6894385283342048, 'colsample_bytree': 0.5365760474887122, 'gamma': 0.19069234504642177, 'lambda': 2.4982457744810085e-08, 'alpha': 1.3621719626471702e-07, 'scale_pos_weight': 1.8488565458624215}. Best is trial 45 with value: 0.9829255016793694.\n"
     ]
    },
    {
     "name": "stdout",
     "output_type": "stream",
     "text": [
      "Trial 66: MCC = 0.9827700664642578\n"
     ]
    },
    {
     "name": "stderr",
     "output_type": "stream",
     "text": [
      "[I 2024-08-15 03:07:58,439] Trial 67 finished with value: 0.9809439990308672 and parameters: {'n_estimators': 957, 'max_depth': 15, 'learning_rate': 0.026790291914130203, 'subsample': 0.6779993771692691, 'colsample_bytree': 0.536791237525418, 'gamma': 0.89442285211009, 'lambda': 2.4094459247602006e-08, 'alpha': 2.3632007611025926e-08, 'scale_pos_weight': 9.241041912566152}. Best is trial 45 with value: 0.9829255016793694.\n"
     ]
    },
    {
     "name": "stdout",
     "output_type": "stream",
     "text": [
      "Trial 67: MCC = 0.9809439990308672\n"
     ]
    },
    {
     "name": "stderr",
     "output_type": "stream",
     "text": [
      "[I 2024-08-15 03:16:55,132] Trial 68 finished with value: 0.9822991544212583 and parameters: {'n_estimators': 926, 'max_depth': 18, 'learning_rate': 0.025402302485536387, 'subsample': 0.666917329486053, 'colsample_bytree': 0.5731115004402644, 'gamma': 0.22666558793847627, 'lambda': 1.4288927470671408e-08, 'alpha': 1.6146883807930547e-07, 'scale_pos_weight': 4.756472244674425}. Best is trial 45 with value: 0.9829255016793694.\n"
     ]
    },
    {
     "name": "stdout",
     "output_type": "stream",
     "text": [
      "Trial 68: MCC = 0.9822991544212583\n"
     ]
    },
    {
     "name": "stderr",
     "output_type": "stream",
     "text": [
      "[I 2024-08-15 03:26:24,738] Trial 69 finished with value: 0.9828754029981697 and parameters: {'n_estimators': 995, 'max_depth': 17, 'learning_rate': 0.017579225242384998, 'subsample': 0.6930071930674058, 'colsample_bytree': 0.5265672945335717, 'gamma': 0.037033381199027514, 'lambda': 7.815168656430167e-08, 'alpha': 3.036486814909882e-08, 'scale_pos_weight': 1.752970190568241}. Best is trial 45 with value: 0.9829255016793694.\n"
     ]
    },
    {
     "name": "stdout",
     "output_type": "stream",
     "text": [
      "Trial 69: MCC = 0.9828754029981697\n"
     ]
    },
    {
     "name": "stderr",
     "output_type": "stream",
     "text": [
      "[I 2024-08-15 03:30:40,722] Trial 70 finished with value: 0.9779158972578639 and parameters: {'n_estimators': 991, 'max_depth': 8, 'learning_rate': 0.016643148519472743, 'subsample': 0.6838884921332055, 'colsample_bytree': 0.5247151833346155, 'gamma': 0.0018600181603502135, 'lambda': 7.171691915244264e-08, 'alpha': 3.476446039033308e-08, 'scale_pos_weight': 3.7231670387936955}. Best is trial 45 with value: 0.9829255016793694.\n"
     ]
    },
    {
     "name": "stdout",
     "output_type": "stream",
     "text": [
      "Trial 70: MCC = 0.9779158972578639\n"
     ]
    },
    {
     "name": "stderr",
     "output_type": "stream",
     "text": [
      "[I 2024-08-15 03:39:07,167] Trial 71 finished with value: 0.9828325082406356 and parameters: {'n_estimators': 901, 'max_depth': 17, 'learning_rate': 0.02216615355617924, 'subsample': 0.66013616351231, 'colsample_bytree': 0.5574521719451018, 'gamma': 0.02890036698957668, 'lambda': 2.0425181049856913e-08, 'alpha': 1.1034349232750937e-07, 'scale_pos_weight': 1.726756850970136}. Best is trial 45 with value: 0.9829255016793694.\n"
     ]
    },
    {
     "name": "stdout",
     "output_type": "stream",
     "text": [
      "Trial 71: MCC = 0.9828325082406356\n"
     ]
    },
    {
     "name": "stderr",
     "output_type": "stream",
     "text": [
      "[I 2024-08-15 03:47:06,357] Trial 72 finished with value: 0.9824500432837322 and parameters: {'n_estimators': 898, 'max_depth': 16, 'learning_rate': 0.014142760022497505, 'subsample': 0.6974059069147245, 'colsample_bytree': 0.5587529213341892, 'gamma': 0.4317863945206161, 'lambda': 3.969973186556773e-08, 'alpha': 2.3153365714451816e-08, 'scale_pos_weight': 2.7180909406717593}. Best is trial 45 with value: 0.9829255016793694.\n"
     ]
    },
    {
     "name": "stdout",
     "output_type": "stream",
     "text": [
      "Trial 72: MCC = 0.9824500432837322\n"
     ]
    },
    {
     "name": "stderr",
     "output_type": "stream",
     "text": [
      "[I 2024-08-15 03:54:21,018] Trial 73 finished with value: 0.9823594051865465 and parameters: {'n_estimators': 953, 'max_depth': 14, 'learning_rate': 0.018154641664338538, 'subsample': 0.6588137513199531, 'colsample_bytree': 0.528923844017412, 'gamma': 0.024768782942314847, 'lambda': 2.3114866417946063e-08, 'alpha': 7.698360849089052e-08, 'scale_pos_weight': 2.395314475923827}. Best is trial 45 with value: 0.9829255016793694.\n"
     ]
    },
    {
     "name": "stdout",
     "output_type": "stream",
     "text": [
      "Trial 73: MCC = 0.9823594051865465\n"
     ]
    },
    {
     "name": "stderr",
     "output_type": "stream",
     "text": [
      "[I 2024-08-15 04:03:35,732] Trial 74 finished with value: 0.9826982337732297 and parameters: {'n_estimators': 942, 'max_depth': 18, 'learning_rate': 0.02346285032471945, 'subsample': 0.6086670321995786, 'colsample_bytree': 0.5795720531055778, 'gamma': 0.008816553393711131, 'lambda': 1.185636600938272e-08, 'alpha': 7.821311192663023e-07, 'scale_pos_weight': 1.2886978635698485}. Best is trial 45 with value: 0.9829255016793694.\n"
     ]
    },
    {
     "name": "stdout",
     "output_type": "stream",
     "text": [
      "Trial 74: MCC = 0.9826982337732297\n"
     ]
    },
    {
     "name": "stderr",
     "output_type": "stream",
     "text": [
      "[I 2024-08-15 04:11:33,543] Trial 75 finished with value: 0.9826468682807598 and parameters: {'n_estimators': 905, 'max_depth': 17, 'learning_rate': 0.030591176693849233, 'subsample': 0.6545594315253656, 'colsample_bytree': 0.5437100600231576, 'gamma': 0.2151248926213289, 'lambda': 1.3886797993617612e-07, 'alpha': 1.7495730292650544e-06, 'scale_pos_weight': 1.8482935810671288}. Best is trial 45 with value: 0.9829255016793694.\n"
     ]
    },
    {
     "name": "stdout",
     "output_type": "stream",
     "text": [
      "Trial 75: MCC = 0.9826468682807598\n"
     ]
    },
    {
     "name": "stderr",
     "output_type": "stream",
     "text": [
      "[I 2024-08-15 04:23:26,504] Trial 76 finished with value: 0.9830268225818097 and parameters: {'n_estimators': 975, 'max_depth': 19, 'learning_rate': 0.011694835014823483, 'subsample': 0.6927555541234736, 'colsample_bytree': 0.5158459628569213, 'gamma': 0.0032259543144256123, 'lambda': 1.0221309389263036e-07, 'alpha': 2.1743307045633387e-07, 'scale_pos_weight': 1.5685301105602207}. Best is trial 76 with value: 0.9830268225818097.\n"
     ]
    },
    {
     "name": "stdout",
     "output_type": "stream",
     "text": [
      "Trial 76: MCC = 0.9830268225818097\n"
     ]
    },
    {
     "name": "stderr",
     "output_type": "stream",
     "text": [
      "[I 2024-08-15 04:34:56,149] Trial 77 finished with value: 0.982811661465044 and parameters: {'n_estimators': 927, 'max_depth': 19, 'learning_rate': 0.011553709693787013, 'subsample': 0.7086800709996517, 'colsample_bytree': 0.5145749267138571, 'gamma': 0.0037453412196152714, 'lambda': 7.563306754536638e-08, 'alpha': 3.305633224823754e-08, 'scale_pos_weight': 2.159811472314286}. Best is trial 76 with value: 0.9830268225818097.\n"
     ]
    },
    {
     "name": "stdout",
     "output_type": "stream",
     "text": [
      "Trial 77: MCC = 0.982811661465044\n"
     ]
    },
    {
     "name": "stderr",
     "output_type": "stream",
     "text": [
      "[I 2024-08-15 04:46:56,419] Trial 78 finished with value: 0.9827489048958301 and parameters: {'n_estimators': 997, 'max_depth': 19, 'learning_rate': 0.011545781603848632, 'subsample': 0.6891335198427151, 'colsample_bytree': 0.5189894404185438, 'gamma': 0.001911307716312887, 'lambda': 8.986977616480437e-08, 'alpha': 1.0970703041026187e-08, 'scale_pos_weight': 2.383161629701493}. Best is trial 76 with value: 0.9830268225818097.\n"
     ]
    },
    {
     "name": "stdout",
     "output_type": "stream",
     "text": [
      "Trial 78: MCC = 0.9827489048958301\n"
     ]
    },
    {
     "name": "stderr",
     "output_type": "stream",
     "text": [
      "[I 2024-08-15 04:58:47,403] Trial 79 finished with value: 0.9826512413458256 and parameters: {'n_estimators': 964, 'max_depth': 19, 'learning_rate': 0.010931136358763782, 'subsample': 0.7077101966692836, 'colsample_bytree': 0.5557752458705998, 'gamma': 0.0030783207529922253, 'lambda': 2.0511269369783728e-08, 'alpha': 2.8033811031620316e-08, 'scale_pos_weight': 2.785642354329398}. Best is trial 76 with value: 0.9830268225818097.\n"
     ]
    },
    {
     "name": "stdout",
     "output_type": "stream",
     "text": [
      "Trial 79: MCC = 0.9826512413458256\n"
     ]
    },
    {
     "name": "stderr",
     "output_type": "stream",
     "text": [
      "[I 2024-08-15 05:01:20,231] Trial 80 finished with value: 0.9477427298237101 and parameters: {'n_estimators': 928, 'max_depth': 4, 'learning_rate': 0.02577350018921602, 'subsample': 0.7619787744161468, 'colsample_bytree': 0.5016459657935559, 'gamma': 0.007986498899111362, 'lambda': 3.8712984042778994e-08, 'alpha': 4.582431335198395e-08, 'scale_pos_weight': 3.1888199980411924}. Best is trial 76 with value: 0.9830268225818097.\n"
     ]
    },
    {
     "name": "stdout",
     "output_type": "stream",
     "text": [
      "Trial 80: MCC = 0.9477427298237101\n"
     ]
    },
    {
     "name": "stderr",
     "output_type": "stream",
     "text": [
      "[I 2024-08-15 05:10:56,870] Trial 81 finished with value: 0.9829988745429669 and parameters: {'n_estimators': 881, 'max_depth': 18, 'learning_rate': 0.014738427419058873, 'subsample': 0.6730036738728848, 'colsample_bytree': 0.5137463609770512, 'gamma': 0.004965965759378824, 'lambda': 1.1188592000148222e-07, 'alpha': 2.226506160159787e-07, 'scale_pos_weight': 1.5184902848273087}. Best is trial 76 with value: 0.9830268225818097.\n"
     ]
    },
    {
     "name": "stdout",
     "output_type": "stream",
     "text": [
      "Trial 81: MCC = 0.9829988745429669\n"
     ]
    },
    {
     "name": "stderr",
     "output_type": "stream",
     "text": [
      "[I 2024-08-15 05:21:27,853] Trial 82 finished with value: 0.9829161277467795 and parameters: {'n_estimators': 886, 'max_depth': 18, 'learning_rate': 0.010133659545919061, 'subsample': 0.7136635028507254, 'colsample_bytree': 0.5345226569213084, 'gamma': 0.0006881875637723067, 'lambda': 5.942881607759048e-07, 'alpha': 9.625850330626387e-08, 'scale_pos_weight': 1.6089532642656033}. Best is trial 76 with value: 0.9830268225818097.\n"
     ]
    },
    {
     "name": "stdout",
     "output_type": "stream",
     "text": [
      "Trial 82: MCC = 0.9829161277467795\n"
     ]
    },
    {
     "name": "stderr",
     "output_type": "stream",
     "text": [
      "[I 2024-08-15 05:32:45,793] Trial 83 finished with value: 0.9830181695452207 and parameters: {'n_estimators': 880, 'max_depth': 19, 'learning_rate': 0.010165022184632732, 'subsample': 0.714023774463665, 'colsample_bytree': 0.5136709957096249, 'gamma': 0.0006021857574483516, 'lambda': 4.679625092583267e-07, 'alpha': 2.466864162986572e-07, 'scale_pos_weight': 1.4777520279102268}. Best is trial 76 with value: 0.9830268225818097.\n"
     ]
    },
    {
     "name": "stdout",
     "output_type": "stream",
     "text": [
      "Trial 83: MCC = 0.9830181695452207\n"
     ]
    },
    {
     "name": "stderr",
     "output_type": "stream",
     "text": [
      "[I 2024-08-15 05:42:41,323] Trial 84 finished with value: 0.9829164592667572 and parameters: {'n_estimators': 884, 'max_depth': 18, 'learning_rate': 0.010459509853033611, 'subsample': 0.6717238576135213, 'colsample_bytree': 0.565873468710342, 'gamma': 0.0009908440682594767, 'lambda': 6.398514564150908e-07, 'alpha': 2.0116322806276423e-07, 'scale_pos_weight': 1.5231520850142612}. Best is trial 76 with value: 0.9830268225818097.\n"
     ]
    },
    {
     "name": "stdout",
     "output_type": "stream",
     "text": [
      "Trial 84: MCC = 0.9829164592667572\n"
     ]
    },
    {
     "name": "stderr",
     "output_type": "stream",
     "text": [
      "[I 2024-08-15 05:52:12,288] Trial 85 finished with value: 0.9829357522796874 and parameters: {'n_estimators': 819, 'max_depth': 18, 'learning_rate': 0.0100489212025519, 'subsample': 0.7404144696809797, 'colsample_bytree': 0.564306389039509, 'gamma': 0.0009799967394145803, 'lambda': 6.075382338691868e-07, 'alpha': 4.925409969010422e-07, 'scale_pos_weight': 1.5400431196880158}. Best is trial 76 with value: 0.9830268225818097.\n"
     ]
    },
    {
     "name": "stdout",
     "output_type": "stream",
     "text": [
      "Trial 85: MCC = 0.9829357522796874\n"
     ]
    },
    {
     "name": "stderr",
     "output_type": "stream",
     "text": [
      "[I 2024-08-15 06:01:39,777] Trial 86 finished with value: 0.9829058007472325 and parameters: {'n_estimators': 819, 'max_depth': 18, 'learning_rate': 0.01038171241435276, 'subsample': 0.7436812400889792, 'colsample_bytree': 0.5750454764947164, 'gamma': 0.0009098879608608254, 'lambda': 8.415443189377966e-07, 'alpha': 4.6460431236174976e-07, 'scale_pos_weight': 1.4834987706019123}. Best is trial 76 with value: 0.9830268225818097.\n"
     ]
    },
    {
     "name": "stdout",
     "output_type": "stream",
     "text": [
      "Trial 86: MCC = 0.9829058007472325\n"
     ]
    },
    {
     "name": "stderr",
     "output_type": "stream",
     "text": [
      "[I 2024-08-15 06:09:12,312] Trial 87 finished with value: 0.9828489433573081 and parameters: {'n_estimators': 567, 'max_depth': 19, 'learning_rate': 0.01009884836405389, 'subsample': 0.7427912663177992, 'colsample_bytree': 0.5831089404461851, 'gamma': 0.000858574388019312, 'lambda': 6.282947229933421e-07, 'alpha': 4.5532827688369447e-07, 'scale_pos_weight': 1.6037251334761793}. Best is trial 76 with value: 0.9830268225818097.\n"
     ]
    },
    {
     "name": "stdout",
     "output_type": "stream",
     "text": [
      "Trial 87: MCC = 0.9828489433573081\n"
     ]
    },
    {
     "name": "stderr",
     "output_type": "stream",
     "text": [
      "[I 2024-08-15 06:19:06,596] Trial 88 finished with value: 0.9826536219830742 and parameters: {'n_estimators': 828, 'max_depth': 18, 'learning_rate': 0.01061219827643646, 'subsample': 0.7575483944669236, 'colsample_bytree': 0.5680872898988909, 'gamma': 0.00013431386013780752, 'lambda': 3.49709850022358e-06, 'alpha': 9.951006418761566e-07, 'scale_pos_weight': 2.2340011008662075}. Best is trial 76 with value: 0.9830268225818097.\n"
     ]
    },
    {
     "name": "stdout",
     "output_type": "stream",
     "text": [
      "Trial 88: MCC = 0.9826536219830742\n"
     ]
    },
    {
     "name": "stderr",
     "output_type": "stream",
     "text": [
      "[I 2024-08-15 06:30:22,665] Trial 89 finished with value: 0.9828311515673811 and parameters: {'n_estimators': 872, 'max_depth': 20, 'learning_rate': 0.014757375047049154, 'subsample': 0.7313075959755376, 'colsample_bytree': 0.510131378580388, 'gamma': 0.00042234541558731594, 'lambda': 3.9736811116978166e-07, 'alpha': 2.5774485361870273e-07, 'scale_pos_weight': 2.5310968998089276}. Best is trial 76 with value: 0.9830268225818097.\n"
     ]
    },
    {
     "name": "stdout",
     "output_type": "stream",
     "text": [
      "Trial 89: MCC = 0.9828311515673811\n"
     ]
    },
    {
     "name": "stderr",
     "output_type": "stream",
     "text": [
      "[I 2024-08-15 06:39:11,201] Trial 90 finished with value: 0.9829272228177028 and parameters: {'n_estimators': 801, 'max_depth': 18, 'learning_rate': 0.01217425998657658, 'subsample': 0.7202785376327591, 'colsample_bytree': 0.6008234829337828, 'gamma': 0.00032279036768740655, 'lambda': 6.925067383488643e-07, 'alpha': 0.0042777038977455245, 'scale_pos_weight': 1.5665119422129115}. Best is trial 76 with value: 0.9830268225818097.\n"
     ]
    },
    {
     "name": "stdout",
     "output_type": "stream",
     "text": [
      "Trial 90: MCC = 0.9829272228177028\n"
     ]
    },
    {
     "name": "stderr",
     "output_type": "stream",
     "text": [
      "[I 2024-08-15 06:47:32,223] Trial 91 finished with value: 0.9829404870666315 and parameters: {'n_estimators': 735, 'max_depth': 18, 'learning_rate': 0.012013710474141077, 'subsample': 0.7176413955212713, 'colsample_bytree': 0.6016709857551161, 'gamma': 6.29648421680968e-05, 'lambda': 5.942785113642261e-07, 'alpha': 0.00647499950977325, 'scale_pos_weight': 1.4600555174879601}. Best is trial 76 with value: 0.9830268225818097.\n"
     ]
    },
    {
     "name": "stdout",
     "output_type": "stream",
     "text": [
      "Trial 91: MCC = 0.9829404870666315\n"
     ]
    },
    {
     "name": "stderr",
     "output_type": "stream",
     "text": [
      "[I 2024-08-15 06:56:33,569] Trial 92 finished with value: 0.9830138107505028 and parameters: {'n_estimators': 723, 'max_depth': 19, 'learning_rate': 0.012102506089774829, 'subsample': 0.718853022534515, 'colsample_bytree': 0.5503323359631478, 'gamma': 6.38323920055532e-05, 'lambda': 6.25251495701155e-07, 'alpha': 0.014056812343465433, 'scale_pos_weight': 1.5523923609943968}. Best is trial 76 with value: 0.9830268225818097.\n"
     ]
    },
    {
     "name": "stdout",
     "output_type": "stream",
     "text": [
      "Trial 92: MCC = 0.9830138107505028\n"
     ]
    },
    {
     "name": "stderr",
     "output_type": "stream",
     "text": [
      "[I 2024-08-15 07:05:17,603] Trial 93 finished with value: 0.9829446633886736 and parameters: {'n_estimators': 730, 'max_depth': 19, 'learning_rate': 0.011814222047452312, 'subsample': 0.7191574291025152, 'colsample_bytree': 0.603933838778928, 'gamma': 6.291826209005835e-05, 'lambda': 5.54919126983874e-07, 'alpha': 0.02697341940651734, 'scale_pos_weight': 1.554237484239608}. Best is trial 76 with value: 0.9830268225818097.\n"
     ]
    },
    {
     "name": "stdout",
     "output_type": "stream",
     "text": [
      "Trial 93: MCC = 0.9829446633886736\n"
     ]
    },
    {
     "name": "stderr",
     "output_type": "stream",
     "text": [
      "[I 2024-08-15 07:13:55,202] Trial 94 finished with value: 0.9827686732140485 and parameters: {'n_estimators': 722, 'max_depth': 19, 'learning_rate': 0.012023419061548694, 'subsample': 0.7263911315315872, 'colsample_bytree': 0.6028553531031499, 'gamma': 7.022251256794683e-05, 'lambda': 4.374812157935e-07, 'alpha': 0.025727992808293354, 'scale_pos_weight': 2.0031000466294766}. Best is trial 76 with value: 0.9830268225818097.\n"
     ]
    },
    {
     "name": "stdout",
     "output_type": "stream",
     "text": [
      "Trial 94: MCC = 0.9827686732140485\n"
     ]
    },
    {
     "name": "stderr",
     "output_type": "stream",
     "text": [
      "[I 2024-08-15 07:22:31,742] Trial 95 finished with value: 0.9829848178872413 and parameters: {'n_estimators': 755, 'max_depth': 20, 'learning_rate': 0.011970358216590945, 'subsample': 0.7687219222155954, 'colsample_bytree': 0.5974034836059415, 'gamma': 0.00025256848824448374, 'lambda': 1.2474306809039646e-06, 'alpha': 0.16479424815030635, 'scale_pos_weight': 1.2757825113982861}. Best is trial 76 with value: 0.9830268225818097.\n"
     ]
    },
    {
     "name": "stdout",
     "output_type": "stream",
     "text": [
      "Trial 95: MCC = 0.9829848178872413\n"
     ]
    },
    {
     "name": "stderr",
     "output_type": "stream",
     "text": [
      "[I 2024-08-15 07:30:42,851] Trial 96 finished with value: 0.983064995896482 and parameters: {'n_estimators': 695, 'max_depth': 20, 'learning_rate': 0.012145947603063879, 'subsample': 0.7653851546120206, 'colsample_bytree': 0.5999164199662758, 'gamma': 0.00024841343938568095, 'lambda': 4.603990394709264e-06, 'alpha': 0.11313176111112765, 'scale_pos_weight': 1.1981690047052247}. Best is trial 96 with value: 0.983064995896482.\n"
     ]
    },
    {
     "name": "stdout",
     "output_type": "stream",
     "text": [
      "Trial 96: MCC = 0.983064995896482\n"
     ]
    },
    {
     "name": "stderr",
     "output_type": "stream",
     "text": [
      "[I 2024-08-15 07:39:11,785] Trial 97 finished with value: 0.9830496778741021 and parameters: {'n_estimators': 746, 'max_depth': 20, 'learning_rate': 0.012404728915057124, 'subsample': 0.7687140871091933, 'colsample_bytree': 0.5962787448791121, 'gamma': 1.89742912281511e-05, 'lambda': 3.2780312257011505e-06, 'alpha': 0.1565447009776231, 'scale_pos_weight': 1.2438612250664174}. Best is trial 96 with value: 0.983064995896482.\n"
     ]
    },
    {
     "name": "stdout",
     "output_type": "stream",
     "text": [
      "Trial 97: MCC = 0.9830496778741021\n"
     ]
    },
    {
     "name": "stderr",
     "output_type": "stream",
     "text": [
      "[I 2024-08-15 07:46:46,095] Trial 98 finished with value: 0.9830410982714758 and parameters: {'n_estimators': 695, 'max_depth': 20, 'learning_rate': 0.015442307410284137, 'subsample': 0.7820901418060783, 'colsample_bytree': 0.590043752255205, 'gamma': 2.6741505080204498e-05, 'lambda': 6.335231029582229e-06, 'alpha': 0.24589918297818578, 'scale_pos_weight': 1.2601568592215786}. Best is trial 96 with value: 0.983064995896482.\n"
     ]
    },
    {
     "name": "stdout",
     "output_type": "stream",
     "text": [
      "Trial 98: MCC = 0.9830410982714758\n"
     ]
    },
    {
     "name": "stderr",
     "output_type": "stream",
     "text": [
      "[I 2024-08-15 07:54:04,943] Trial 99 finished with value: 0.9830151282423805 and parameters: {'n_estimators': 670, 'max_depth': 20, 'learning_rate': 0.015048817714709194, 'subsample': 0.7722368335201242, 'colsample_bytree': 0.59206145300672, 'gamma': 2.0158979973640443e-05, 'lambda': 3.840570910907239e-06, 'alpha': 0.29292537947798586, 'scale_pos_weight': 1.2654615204327044}. Best is trial 96 with value: 0.983064995896482.\n"
     ]
    },
    {
     "name": "stdout",
     "output_type": "stream",
     "text": [
      "Trial 99: MCC = 0.9830151282423805\n",
      "Best parameters: {'n_estimators': 695, 'max_depth': 20, 'learning_rate': 0.012145947603063879, 'subsample': 0.7653851546120206, 'colsample_bytree': 0.5999164199662758, 'gamma': 0.00024841343938568095, 'lambda': 4.603990394709264e-06, 'alpha': 0.11313176111112765, 'scale_pos_weight': 1.1981690047052247}\n",
      "Matthews Correlation Coefficient: 0.983064995896482\n"
     ]
    }
   ],
   "source": [
    "X_train, X_test, y_train, y_test = train_test_split(X, y, test_size=0.3, random_state=42)\n",
    " # Define the objective function for Optuna\n",
    "def objective(trial):\n",
    "    params = {\n",
    "        'n_estimators': trial.suggest_int('n_estimators', 100, 1000),\n",
    "        'max_depth': trial.suggest_int('max_depth', 3, 20),\n",
    "        'learning_rate': trial.suggest_loguniform('learning_rate', 0.01, 0.3),    \n",
    "        'subsample': trial.suggest_uniform('subsample', 0.5, 1.0),\n",
    "        'colsample_bytree': trial.suggest_uniform('colsample_bytree', 0.5, 1.0),\n",
    "        'gamma': trial.suggest_loguniform('gamma', 1e-8, 1.0),\n",
    "        'lambda': trial.suggest_loguniform('lambda', 1e-8, 10.0),\n",
    "        'alpha': trial.suggest_loguniform('alpha', 1e-8, 10.0),\n",
    "        'scale_pos_weight': trial.suggest_uniform('scale_pos_weight', 1.0, 10.0)\n",
    "     }\n",
    "    \n",
    "    model = XGBClassifier(**params, use_label_encoder=False, eval_metric='logloss')\n",
    "    model.fit(X_train, y_train)\n",
    "    y_pred = model.predict(X_test)\n",
    "    mcc = matthews_corrcoef(y_test, y_pred)\n",
    "    trial.set_user_attr(\"mcc\", mcc)\n",
    "    return mcc\n",
    "\n",
    " # Callback to print the MCC score for each trial\n",
    "def print_mcc_callback(study, trial):\n",
    "    mcc = trial.user_attrs[\"mcc\"]\n",
    "    print(f\"Trial {trial.number}: MCC = {mcc}\")\n",
    "\n",
    " # Optimize hyperparameters with Optuna\n",
    "study = optuna.create_study(direction='maximize')\n",
    "study.optimize(objective, n_trials=100, callbacks=[print_mcc_callback])\n",
    "\n",
    " # Get the best parameters\n",
    "best_params = study.best_params\n",
    "print(f\"Best parameters: {best_params}\")\n",
    "\n",
    " # Train final model with best hyperparameters\n",
    "final_model = XGBClassifier(**best_params, use_label_encoder=False, eval_metric='logloss')\n",
    "final_model.fit(X_train, y_train)\n",
    "\n",
    " # Predict and evaluate the final model\n",
    "y_pred = final_model.predict(X_test)\n",
    "mcc = matthews_corrcoef(y_test, y_pred)\n",
    "print(f\"Matthews Correlation Coefficient: {mcc}\")\n",
    " "
   ]
  },
  {
   "cell_type": "code",
   "execution_count": 48,
   "id": "0983cc92",
   "metadata": {
    "execution": {
     "iopub.execute_input": "2024-08-15T08:02:13.913173Z",
     "iopub.status.busy": "2024-08-15T08:02:13.912628Z",
     "iopub.status.idle": "2024-08-15T08:06:12.653955Z",
     "shell.execute_reply": "2024-08-15T08:06:12.652389Z"
    },
    "papermill": {
     "duration": 238.809742,
     "end_time": "2024-08-15T08:06:12.657589",
     "exception": false,
     "start_time": "2024-08-15T08:02:13.847847",
     "status": "completed"
    },
    "tags": []
   },
   "outputs": [],
   "source": [
    "y_final = final_model.predict(test_processed)"
   ]
  },
  {
   "cell_type": "code",
   "execution_count": 49,
   "id": "9e3b0fc4",
   "metadata": {
    "execution": {
     "iopub.execute_input": "2024-08-15T08:06:12.788643Z",
     "iopub.status.busy": "2024-08-15T08:06:12.787463Z",
     "iopub.status.idle": "2024-08-15T08:06:12.797879Z",
     "shell.execute_reply": "2024-08-15T08:06:12.796706Z"
    },
    "papermill": {
     "duration": 0.076797,
     "end_time": "2024-08-15T08:06:12.800197",
     "exception": false,
     "start_time": "2024-08-15T08:06:12.723400",
     "status": "completed"
    },
    "tags": []
   },
   "outputs": [
    {
     "data": {
      "text/plain": [
       "array([0, 1, 1, ..., 1, 0, 0])"
      ]
     },
     "execution_count": 49,
     "metadata": {},
     "output_type": "execute_result"
    }
   ],
   "source": [
    "y_final\n"
   ]
  },
  {
   "cell_type": "code",
   "execution_count": 50,
   "id": "dd45dd79",
   "metadata": {
    "execution": {
     "iopub.execute_input": "2024-08-15T08:06:12.925866Z",
     "iopub.status.busy": "2024-08-15T08:06:12.925377Z",
     "iopub.status.idle": "2024-08-15T08:06:12.945551Z",
     "shell.execute_reply": "2024-08-15T08:06:12.944344Z"
    },
    "papermill": {
     "duration": 0.086894,
     "end_time": "2024-08-15T08:06:12.948845",
     "exception": false,
     "start_time": "2024-08-15T08:06:12.861951",
     "status": "completed"
    },
    "tags": []
   },
   "outputs": [],
   "source": [
    "y_final_replaced = np.where(y_final == 0, 'e', 'p')"
   ]
  },
  {
   "cell_type": "code",
   "execution_count": 51,
   "id": "47fec0c3",
   "metadata": {
    "execution": {
     "iopub.execute_input": "2024-08-15T08:06:13.077472Z",
     "iopub.status.busy": "2024-08-15T08:06:13.077022Z",
     "iopub.status.idle": "2024-08-15T08:06:13.085854Z",
     "shell.execute_reply": "2024-08-15T08:06:13.084371Z"
    },
    "papermill": {
     "duration": 0.077043,
     "end_time": "2024-08-15T08:06:13.088883",
     "exception": false,
     "start_time": "2024-08-15T08:06:13.011840",
     "status": "completed"
    },
    "tags": []
   },
   "outputs": [
    {
     "data": {
      "text/plain": [
       "array(['e', 'p', 'p', ..., 'p', 'e', 'e'], dtype='<U1')"
      ]
     },
     "execution_count": 51,
     "metadata": {},
     "output_type": "execute_result"
    }
   ],
   "source": [
    "y_final_replaced"
   ]
  },
  {
   "cell_type": "code",
   "execution_count": 52,
   "id": "e95e2adf",
   "metadata": {
    "execution": {
     "iopub.execute_input": "2024-08-15T08:06:13.223750Z",
     "iopub.status.busy": "2024-08-15T08:06:13.223228Z",
     "iopub.status.idle": "2024-08-15T08:06:13.843393Z",
     "shell.execute_reply": "2024-08-15T08:06:13.842201Z"
    },
    "papermill": {
     "duration": 0.68985,
     "end_time": "2024-08-15T08:06:13.846268",
     "exception": false,
     "start_time": "2024-08-15T08:06:13.156418",
     "status": "completed"
    },
    "tags": []
   },
   "outputs": [],
   "source": [
    "submission1 = pd.read_csv(r'/kaggle/input/playground-series-s4e8/sample_submission.csv')\n",
    "submission1['class'] = y_final_replaced"
   ]
  },
  {
   "cell_type": "code",
   "execution_count": 53,
   "id": "906ec454",
   "metadata": {
    "execution": {
     "iopub.execute_input": "2024-08-15T08:06:13.973355Z",
     "iopub.status.busy": "2024-08-15T08:06:13.972932Z",
     "iopub.status.idle": "2024-08-15T08:06:16.886973Z",
     "shell.execute_reply": "2024-08-15T08:06:16.885870Z"
    },
    "papermill": {
     "duration": 2.981256,
     "end_time": "2024-08-15T08:06:16.889794",
     "exception": false,
     "start_time": "2024-08-15T08:06:13.908538",
     "status": "completed"
    },
    "tags": []
   },
   "outputs": [],
   "source": [
    "submission1.to_csv('submission.csv', index=False)"
   ]
  },
  {
   "cell_type": "code",
   "execution_count": null,
   "id": "7791d2b4",
   "metadata": {
    "papermill": {
     "duration": 0.061919,
     "end_time": "2024-08-15T08:06:17.014019",
     "exception": false,
     "start_time": "2024-08-15T08:06:16.952100",
     "status": "completed"
    },
    "tags": []
   },
   "outputs": [],
   "source": []
  }
 ],
 "metadata": {
  "kaggle": {
   "accelerator": "none",
   "dataSources": [
    {
     "databundleVersionId": 9045607,
     "sourceId": 76727,
     "sourceType": "competition"
    }
   ],
   "dockerImageVersionId": 30746,
   "isGpuEnabled": false,
   "isInternetEnabled": true,
   "language": "python",
   "sourceType": "notebook"
  },
  "kernelspec": {
   "display_name": "Python 3",
   "language": "python",
   "name": "python3"
  },
  "language_info": {
   "codemirror_mode": {
    "name": "ipython",
    "version": 3
   },
   "file_extension": ".py",
   "mimetype": "text/x-python",
   "name": "python",
   "nbconvert_exporter": "python",
   "pygments_lexer": "ipython3",
   "version": "3.10.13"
  },
  "papermill": {
   "default_parameters": {},
   "duration": 36378.167242,
   "end_time": "2024-08-15T08:06:20.445583",
   "environment_variables": {},
   "exception": null,
   "input_path": "__notebook__.ipynb",
   "output_path": "__notebook__.ipynb",
   "parameters": {},
   "start_time": "2024-08-14T22:00:02.278341",
   "version": "2.5.0"
  }
 },
 "nbformat": 4,
 "nbformat_minor": 5
}
